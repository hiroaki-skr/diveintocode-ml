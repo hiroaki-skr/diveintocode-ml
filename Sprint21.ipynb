{
 "cells": [
  {
   "cell_type": "code",
   "execution_count": 30,
   "metadata": {
    "ExecuteTime": {
     "end_time": "2020-03-30T04:13:22.734142Z",
     "start_time": "2020-03-30T04:13:22.689197Z"
    }
   },
   "outputs": [],
   "source": [
    "class ScratchSimpleRNNClassifier:\n",
    "    def __init__(self,):\n",
    "        pass     \n",
    "    \n",
    "    def fit(self, x):\n",
    "        z = 0\n",
    "        self.w_h = 0\n",
    "        self.init_weight_x()\n",
    "        z = self.forward(x[:,0,:], z)\n",
    "        self.init_weight_h() \n",
    "        for input in range(1, x.shape[1]):\n",
    "            z = self.forward(x[:,input,:], z)\n",
    "        return z\n",
    "        \n",
    "    def init_weight_x(self,):\n",
    "        self.w_x = np.array([[1, 3, 5, 7], [3, 5, 7, 8]])/100 # (n_features, n_nodes)\n",
    "        self.b = np.array([1, 1, 1, 1])\n",
    "        \n",
    "    def init_weight_h(self,):\n",
    "        self.w_h = np.array([[1, 3, 5, 7], [2, 4, 6, 8], [3, 5, 7, 8], [4, 6, 8, 10]])/100 # (n_nodes, n_nodes)\n",
    "    \n",
    "    def forward(self, x, z):\n",
    "        a = np.dot(x, self.w_x) + np.dot(z, self.w_h) + self.b\n",
    "        z = self.tanh(a)\n",
    "        return z\n",
    "    \n",
    "    def tanh(self, X):\n",
    "        return  (np.exp(X)-np.exp(-X)) / (np.exp(X)+np.exp(-X))\n",
    "        \n",
    "    def backward(self):\n",
    "        pass\n",
    "    \n",
    "    def loss_func(self,):\n",
    "        pass\n",
    "    \n",
    "    def w2v(self, X):\n",
    "        word_list = []\n",
    "        for w in x_train:\n",
    "            w = w.lower()\n",
    "            word = re.findall('[a-z0-9_]+', w)\n",
    "            word_list.append(word)\n",
    "\n",
    "        sentences = []\n",
    "        n=1\n",
    "        for w in word_list:\n",
    "            n_gram_each_row = []\n",
    "            for i in range(len(w)-(n-1)):\n",
    "                l = w[i:i+n]\n",
    "                join_w = \" \".join(l)\n",
    "                n_gram_each_row.append(join_w)\n",
    "            sentences.append(n_gram_each_row)"
   ]
  },
  {
   "cell_type": "code",
   "execution_count": 31,
   "metadata": {
    "ExecuteTime": {
     "end_time": "2020-03-30T04:13:23.071592Z",
     "start_time": "2020-03-30T04:13:23.066681Z"
    }
   },
   "outputs": [],
   "source": [
    "x = np.array([[[1, 2], [2, 3], [3, 4]]])/100 # (batch_size, n_sequences, n_features)"
   ]
  },
  {
   "cell_type": "code",
   "execution_count": 32,
   "metadata": {
    "ExecuteTime": {
     "end_time": "2020-03-30T04:13:23.293402Z",
     "start_time": "2020-03-30T04:13:23.289451Z"
    }
   },
   "outputs": [],
   "source": [
    "srnn = ScratchSimpleRNNClassifier()"
   ]
  },
  {
   "cell_type": "code",
   "execution_count": 33,
   "metadata": {
    "ExecuteTime": {
     "end_time": "2020-03-30T04:13:23.600718Z",
     "start_time": "2020-03-30T04:13:23.592089Z"
    }
   },
   "outputs": [
    {
     "data": {
      "text/plain": [
       "array([[0.79494228, 0.81839002, 0.83939649, 0.85584174]])"
      ]
     },
     "execution_count": 33,
     "metadata": {},
     "output_type": "execute_result"
    }
   ],
   "source": [
    "srnn.fit(x)"
   ]
  },
  {
   "cell_type": "code",
   "execution_count": null,
   "metadata": {},
   "outputs": [],
   "source": [
    "h = np.array([[0.79494228, 0.81839002, 0.83939649, 0.85584174]]) # (batch_size, n_nodes)"
   ]
  },
  {
   "cell_type": "code",
   "execution_count": null,
   "metadata": {},
   "outputs": [],
   "source": []
  }
 ],
 "metadata": {
  "kernelspec": {
   "display_name": "Python 3",
   "language": "python",
   "name": "python3"
  },
  "language_info": {
   "codemirror_mode": {
    "name": "ipython",
    "version": 3
   },
   "file_extension": ".py",
   "mimetype": "text/x-python",
   "name": "python",
   "nbconvert_exporter": "python",
   "pygments_lexer": "ipython3",
   "version": "3.7.4"
  },
  "nbTranslate": {
   "displayLangs": [
    "*"
   ],
   "hotkey": "alt-t",
   "langInMainMenu": true,
   "sourceLang": "en",
   "targetLang": "fr",
   "useGoogleTranslate": true
  },
  "toc": {
   "base_numbering": 1,
   "nav_menu": {},
   "number_sections": true,
   "sideBar": true,
   "skip_h1_title": false,
   "title_cell": "Table of Contents",
   "title_sidebar": "Contents",
   "toc_cell": false,
   "toc_position": {},
   "toc_section_display": true,
   "toc_window_display": false
  },
  "varInspector": {
   "cols": {
    "lenName": 16,
    "lenType": 16,
    "lenVar": 40
   },
   "kernels_config": {
    "python": {
     "delete_cmd_postfix": "",
     "delete_cmd_prefix": "del ",
     "library": "var_list.py",
     "varRefreshCmd": "print(var_dic_list())"
    },
    "r": {
     "delete_cmd_postfix": ") ",
     "delete_cmd_prefix": "rm(",
     "library": "var_list.r",
     "varRefreshCmd": "cat(var_dic_list()) "
    }
   },
   "types_to_exclude": [
    "module",
    "function",
    "builtin_function_or_method",
    "instance",
    "_Feature"
   ],
   "window_display": false
  }
 },
 "nbformat": 4,
 "nbformat_minor": 2
}
