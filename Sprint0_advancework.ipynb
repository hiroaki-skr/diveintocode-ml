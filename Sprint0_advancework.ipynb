{
 "cells": [
  {
   "cell_type": "markdown",
   "metadata": {},
   "source": [
    "# 【問題1】train_test_splitのスクラッチ"
   ]
  },
  {
   "cell_type": "code",
   "execution_count": 58,
   "metadata": {
    "ExecuteTime": {
     "end_time": "2020-02-03T08:48:54.415781Z",
     "start_time": "2020-02-03T08:48:54.406321Z"
    }
   },
   "outputs": [],
   "source": [
    "def scratch_train_test_split(X, y, train_size=0.8,):\n",
    "    \"\"\"\n",
    "    検証用データを分割する。\n",
    "\n",
    "    Parameters\n",
    "    ----------\n",
    "    X : 次の形のndarray, shape (n_samples, n_features)\n",
    "      学習データ\n",
    "    y : 次の形のndarray, shape (n_samples, )\n",
    "      正解値\n",
    "    train_size : float (0<train_size<1)\n",
    "      何割をtrainとするか指定\n",
    "\n",
    "    Returns\n",
    "    ----------\n",
    "    X_train : 次の形のndarray, shape (n_samples, n_features)\n",
    "      学習データ\n",
    "    X_test : 次の形のndarray, shape (n_samples, n_features)\n",
    "      検証データ\n",
    "    y_train : 次の形のndarray, shape (n_samples, )\n",
    "      学習データの正解値\n",
    "    y_test : 次の形のndarray, shape (n_samples, )\n",
    "      検証データの正解値\n",
    "    \"\"\"\n",
    "    import numpy as np\n",
    "    if train_size > 1:\n",
    "        raise ValueError(\"０−１のfloat型を指定してください。\")\n",
    "    if X.shape[0] == 0:\n",
    "        raise ValueError(\"少なくとも１列以上必要です。\")\n",
    "    if y.shape[0] == 0:\n",
    "        raise ValueError(\"少なくとも１要素以上必要です。\")\n",
    "    \n",
    "    X = np.array(X)\n",
    "    y = np.array(y)\n",
    "    \n",
    "    X_nrows = X.shape[0]\n",
    "    y_nrows = y.shape[0]\n",
    "    \n",
    "    X_list = np.arange(0, X_nrows)\n",
    "    y_list = np.arange(0, y_nrows)\n",
    "    \n",
    "    np.random.shuffle(X_list)\n",
    "    np.random.shuffle(y_list)\n",
    "    \n",
    "    X_train_size = round(X_nrows * train_size, 0)\n",
    "    y_train_size = round(y_nrows * train_size, 0)\n",
    "    \n",
    "    X_train_num = X_list[:int(X_train_size)]\n",
    "    X_test_num = X_list[int(X_train_size):]\n",
    "    \n",
    "    y_train_num = y_list[:int(y_train_size)]\n",
    "    y_test_num = y_list[int(y_train_size):]\n",
    "    \n",
    "    X_train = X[X_train_num,]\n",
    "    X_test = X[X_test_num,]\n",
    "    y_train = y[y_train_num]\n",
    "    y_test = y[y_test_num]\n",
    "\n",
    "    return X_train, X_test, y_train, y_test"
   ]
  },
  {
   "cell_type": "code",
   "execution_count": 47,
   "metadata": {
    "ExecuteTime": {
     "end_time": "2020-02-03T08:48:05.553373Z",
     "start_time": "2020-02-03T08:48:05.545389Z"
    }
   },
   "outputs": [],
   "source": [
    "import numpy as np\n",
    "\n",
    "def make_random(random_state=0):\n",
    "    np.random.seed(seed=random_state)\n",
    "    n_samples = 500\n",
    "    f0 = [-1, 2]\n",
    "    f1 = [2, -1]\n",
    "    cov = [[1.0,0.8], [0.8, 1.0]]\n",
    "\n",
    "    f0 = np.random.multivariate_normal(f0, cov, int(n_samples/2))\n",
    "    f1 = np.random.multivariate_normal(f1, cov, int(n_samples/2))\n",
    "\n",
    "    X = np.concatenate((f0, f1))\n",
    "    y = np.concatenate((np.ones((int(n_samples/2))), np.ones((int(n_samples/2))) *(-1))).astype(np.int)\n",
    "\n",
    "    random_index = np.random.permutation(np.arange(n_samples))\n",
    "    X = X[random_index]\n",
    "    y = y[random_index]\n",
    "    return X, y"
   ]
  },
  {
   "cell_type": "code",
   "execution_count": 48,
   "metadata": {
    "ExecuteTime": {
     "end_time": "2020-02-03T08:48:06.917262Z",
     "start_time": "2020-02-03T08:48:06.914183Z"
    }
   },
   "outputs": [],
   "source": [
    "import pandas as pd"
   ]
  },
  {
   "cell_type": "markdown",
   "metadata": {},
   "source": [
    "# 【問題2】 分類問題を解くコードの作成\n",
    "上記3種類の手法で3種類のデータセットを学習・推定するコードを作成してください。"
   ]
  },
  {
   "cell_type": "markdown",
   "metadata": {},
   "source": [
    "分類問題\n",
    "分類は3種類の手法をスクラッチします。\n",
    "\n",
    "ロジスティック回帰\n",
    "SVM\n",
    "決定木"
   ]
  },
  {
   "cell_type": "code",
   "execution_count": 49,
   "metadata": {
    "ExecuteTime": {
     "end_time": "2020-02-03T08:48:09.087550Z",
     "start_time": "2020-02-03T08:48:09.070667Z"
    }
   },
   "outputs": [],
   "source": [
    "#分類問題\n",
    "from sklearn.datasets import load_iris\n",
    "iris = load_iris()\n",
    "X1, y1 = make_random(random_state=0)\n",
    "X2, y2 = make_random(random_state=100)"
   ]
  },
  {
   "cell_type": "code",
   "execution_count": 50,
   "metadata": {
    "ExecuteTime": {
     "end_time": "2020-02-03T08:48:09.821293Z",
     "start_time": "2020-02-03T08:48:09.812654Z"
    }
   },
   "outputs": [],
   "source": [
    "df_iris = pd.DataFrame(iris.data, columns=iris.feature_names)"
   ]
  },
  {
   "cell_type": "code",
   "execution_count": 51,
   "metadata": {
    "ExecuteTime": {
     "end_time": "2020-02-03T08:48:12.316359Z",
     "start_time": "2020-02-03T08:48:12.303177Z"
    }
   },
   "outputs": [],
   "source": [
    "df_iris[\"target\"] = iris.target"
   ]
  },
  {
   "cell_type": "code",
   "execution_count": 52,
   "metadata": {
    "ExecuteTime": {
     "end_time": "2020-02-03T08:48:12.751120Z",
     "start_time": "2020-02-03T08:48:12.746376Z"
    }
   },
   "outputs": [
    {
     "data": {
      "text/plain": [
       "array(['setosa', 'versicolor', 'virginica'], dtype='<U10')"
      ]
     },
     "execution_count": 52,
     "metadata": {},
     "output_type": "execute_result"
    }
   ],
   "source": [
    "iris.target_names"
   ]
  },
  {
   "cell_type": "code",
   "execution_count": 53,
   "metadata": {
    "ExecuteTime": {
     "end_time": "2020-02-03T08:48:13.502301Z",
     "start_time": "2020-02-03T08:48:13.495593Z"
    }
   },
   "outputs": [],
   "source": [
    "df_data = df_iris[df_iris[\"target\"]!=0]"
   ]
  },
  {
   "cell_type": "code",
   "execution_count": 54,
   "metadata": {
    "ExecuteTime": {
     "end_time": "2020-02-03T08:48:14.339871Z",
     "start_time": "2020-02-03T08:48:14.335291Z"
    }
   },
   "outputs": [],
   "source": [
    "X_iris = df_data.iloc[:, 0:4]\n",
    "y_iris = df_data[\"target\"]"
   ]
  },
  {
   "cell_type": "code",
   "execution_count": 62,
   "metadata": {
    "ExecuteTime": {
     "end_time": "2020-02-03T08:51:43.020718Z",
     "start_time": "2020-02-03T08:51:43.016000Z"
    }
   },
   "outputs": [],
   "source": [
    "X_iris_train, X_iris_test, y_iris_train, y_iris_test = scratch_train_test_split(\n",
    "                                                       X_iris, y_iris, train_size=0.8)\n",
    "X1_train, X1_test, y1_train, y1_test = scratch_train_test_split(X1, y1, train_size=0.8)\n",
    "X2_train, X2_test, y2_train, y2_test = scratch_train_test_split(X2, y2, train_size=0.8)"
   ]
  },
  {
   "cell_type": "code",
   "execution_count": 67,
   "metadata": {
    "ExecuteTime": {
     "end_time": "2020-02-03T09:03:15.403360Z",
     "start_time": "2020-02-03T09:03:15.399310Z"
    }
   },
   "outputs": [],
   "source": [
    "data_iris = [X_iris_train, X_iris_test, y_iris_train, y_iris_test]\n",
    "data_1 = [X1_train, X1_test, y1_train, y1_test]\n",
    "data_2 = [X2_train, X2_test, y2_train, y2_test]\n",
    "datasets = [data_iris, data_1, data_2]\n",
    "names = [\"iris\", \"random1\", \"random2\"] "
   ]
  },
  {
   "cell_type": "code",
   "execution_count": 87,
   "metadata": {
    "ExecuteTime": {
     "end_time": "2020-02-03T09:11:51.999022Z",
     "start_time": "2020-02-03T09:11:51.994917Z"
    }
   },
   "outputs": [],
   "source": [
    "from sklearn.linear_model import SGDClassifier\n",
    "from sklearn.svm import SVC\n",
    "from sklearn.tree import DecisionTreeClassifier"
   ]
  },
  {
   "cell_type": "code",
   "execution_count": 88,
   "metadata": {
    "ExecuteTime": {
     "end_time": "2020-02-03T09:12:42.525829Z",
     "start_time": "2020-02-03T09:12:42.521107Z"
    }
   },
   "outputs": [],
   "source": [
    "logi = SGDClassifier(loss=\"log\")\n",
    "svc = SVC()\n",
    "tree = DecisionTreeClassifier()\n",
    "models = [logi, svc, tree]\n",
    "model_names = [\"LogisticRegression\", \"SVC\", \"DecisionTreeClassifier\"]"
   ]
  },
  {
   "cell_type": "code",
   "execution_count": 89,
   "metadata": {
    "ExecuteTime": {
     "end_time": "2020-02-03T09:12:46.940819Z",
     "start_time": "2020-02-03T09:12:46.886884Z"
    }
   },
   "outputs": [
    {
     "name": "stdout",
     "output_type": "stream",
     "text": [
      "Score(iris-LogisticRegression):0.500\n",
      "Score(iris-SVC):0.550\n",
      "Score(iris-DecisionTreeClassifier):0.400\n",
      "Score(random1-LogisticRegression):0.520\n",
      "Score(random1-SVC):0.540\n",
      "Score(random1-DecisionTreeClassifier):0.500\n",
      "Score(random2-LogisticRegression):0.430\n",
      "Score(random2-SVC):0.400\n",
      "Score(random2-DecisionTreeClassifier):0.500\n"
     ]
    }
   ],
   "source": [
    "for dataset_name, dataset in zip(names, datasets):\n",
    "    for model_name, model in zip(model_names, models):\n",
    "        X_train, X_test, y_train, y_test = dataset\n",
    "        model.fit(X_train, y_train)\n",
    "        print(\"Score({}-{}):{:.3f}\".format(dataset_name, model_name, model.score(X_test, y_test)))"
   ]
  },
  {
   "cell_type": "markdown",
   "metadata": {},
   "source": [
    "# 【問題3】 回帰問題を解くコードの作成\n",
    "線形回帰でHouse Pricesデータセットを学習・推定するコードを作成してください。"
   ]
  },
  {
   "cell_type": "code",
   "execution_count": 84,
   "metadata": {
    "ExecuteTime": {
     "end_time": "2020-02-03T09:10:29.981417Z",
     "start_time": "2020-02-03T09:10:29.938626Z"
    }
   },
   "outputs": [],
   "source": [
    "#回帰問題\n",
    "import pandas as pd\n",
    "df_home = pd.read_csv(\"/Users/niikurasayaka/diveintocode-ml/Week3/data/train.csv\")"
   ]
  },
  {
   "cell_type": "code",
   "execution_count": 86,
   "metadata": {
    "ExecuteTime": {
     "end_time": "2020-02-03T09:10:46.459746Z",
     "start_time": "2020-02-03T09:10:46.425192Z"
    }
   },
   "outputs": [
    {
     "data": {
      "text/html": [
       "<div>\n",
       "<style scoped>\n",
       "    .dataframe tbody tr th:only-of-type {\n",
       "        vertical-align: middle;\n",
       "    }\n",
       "\n",
       "    .dataframe tbody tr th {\n",
       "        vertical-align: top;\n",
       "    }\n",
       "\n",
       "    .dataframe thead th {\n",
       "        text-align: right;\n",
       "    }\n",
       "</style>\n",
       "<table border=\"1\" class=\"dataframe\">\n",
       "  <thead>\n",
       "    <tr style=\"text-align: right;\">\n",
       "      <th></th>\n",
       "      <th>Id</th>\n",
       "      <th>MSSubClass</th>\n",
       "      <th>MSZoning</th>\n",
       "      <th>LotFrontage</th>\n",
       "      <th>LotArea</th>\n",
       "      <th>Street</th>\n",
       "      <th>Alley</th>\n",
       "      <th>LotShape</th>\n",
       "      <th>LandContour</th>\n",
       "      <th>Utilities</th>\n",
       "      <th>...</th>\n",
       "      <th>PoolArea</th>\n",
       "      <th>PoolQC</th>\n",
       "      <th>Fence</th>\n",
       "      <th>MiscFeature</th>\n",
       "      <th>MiscVal</th>\n",
       "      <th>MoSold</th>\n",
       "      <th>YrSold</th>\n",
       "      <th>SaleType</th>\n",
       "      <th>SaleCondition</th>\n",
       "      <th>SalePrice</th>\n",
       "    </tr>\n",
       "  </thead>\n",
       "  <tbody>\n",
       "    <tr>\n",
       "      <th>0</th>\n",
       "      <td>1</td>\n",
       "      <td>60</td>\n",
       "      <td>RL</td>\n",
       "      <td>65.0</td>\n",
       "      <td>8450</td>\n",
       "      <td>Pave</td>\n",
       "      <td>NaN</td>\n",
       "      <td>Reg</td>\n",
       "      <td>Lvl</td>\n",
       "      <td>AllPub</td>\n",
       "      <td>...</td>\n",
       "      <td>0</td>\n",
       "      <td>NaN</td>\n",
       "      <td>NaN</td>\n",
       "      <td>NaN</td>\n",
       "      <td>0</td>\n",
       "      <td>2</td>\n",
       "      <td>2008</td>\n",
       "      <td>WD</td>\n",
       "      <td>Normal</td>\n",
       "      <td>208500</td>\n",
       "    </tr>\n",
       "    <tr>\n",
       "      <th>1</th>\n",
       "      <td>2</td>\n",
       "      <td>20</td>\n",
       "      <td>RL</td>\n",
       "      <td>80.0</td>\n",
       "      <td>9600</td>\n",
       "      <td>Pave</td>\n",
       "      <td>NaN</td>\n",
       "      <td>Reg</td>\n",
       "      <td>Lvl</td>\n",
       "      <td>AllPub</td>\n",
       "      <td>...</td>\n",
       "      <td>0</td>\n",
       "      <td>NaN</td>\n",
       "      <td>NaN</td>\n",
       "      <td>NaN</td>\n",
       "      <td>0</td>\n",
       "      <td>5</td>\n",
       "      <td>2007</td>\n",
       "      <td>WD</td>\n",
       "      <td>Normal</td>\n",
       "      <td>181500</td>\n",
       "    </tr>\n",
       "    <tr>\n",
       "      <th>2</th>\n",
       "      <td>3</td>\n",
       "      <td>60</td>\n",
       "      <td>RL</td>\n",
       "      <td>68.0</td>\n",
       "      <td>11250</td>\n",
       "      <td>Pave</td>\n",
       "      <td>NaN</td>\n",
       "      <td>IR1</td>\n",
       "      <td>Lvl</td>\n",
       "      <td>AllPub</td>\n",
       "      <td>...</td>\n",
       "      <td>0</td>\n",
       "      <td>NaN</td>\n",
       "      <td>NaN</td>\n",
       "      <td>NaN</td>\n",
       "      <td>0</td>\n",
       "      <td>9</td>\n",
       "      <td>2008</td>\n",
       "      <td>WD</td>\n",
       "      <td>Normal</td>\n",
       "      <td>223500</td>\n",
       "    </tr>\n",
       "    <tr>\n",
       "      <th>3</th>\n",
       "      <td>4</td>\n",
       "      <td>70</td>\n",
       "      <td>RL</td>\n",
       "      <td>60.0</td>\n",
       "      <td>9550</td>\n",
       "      <td>Pave</td>\n",
       "      <td>NaN</td>\n",
       "      <td>IR1</td>\n",
       "      <td>Lvl</td>\n",
       "      <td>AllPub</td>\n",
       "      <td>...</td>\n",
       "      <td>0</td>\n",
       "      <td>NaN</td>\n",
       "      <td>NaN</td>\n",
       "      <td>NaN</td>\n",
       "      <td>0</td>\n",
       "      <td>2</td>\n",
       "      <td>2006</td>\n",
       "      <td>WD</td>\n",
       "      <td>Abnorml</td>\n",
       "      <td>140000</td>\n",
       "    </tr>\n",
       "  </tbody>\n",
       "</table>\n",
       "<p>4 rows × 81 columns</p>\n",
       "</div>"
      ],
      "text/plain": [
       "   Id  MSSubClass MSZoning  LotFrontage  LotArea Street Alley LotShape  \\\n",
       "0   1          60       RL         65.0     8450   Pave   NaN      Reg   \n",
       "1   2          20       RL         80.0     9600   Pave   NaN      Reg   \n",
       "2   3          60       RL         68.0    11250   Pave   NaN      IR1   \n",
       "3   4          70       RL         60.0     9550   Pave   NaN      IR1   \n",
       "\n",
       "  LandContour Utilities  ... PoolArea PoolQC Fence MiscFeature MiscVal MoSold  \\\n",
       "0         Lvl    AllPub  ...        0    NaN   NaN         NaN       0      2   \n",
       "1         Lvl    AllPub  ...        0    NaN   NaN         NaN       0      5   \n",
       "2         Lvl    AllPub  ...        0    NaN   NaN         NaN       0      9   \n",
       "3         Lvl    AllPub  ...        0    NaN   NaN         NaN       0      2   \n",
       "\n",
       "  YrSold  SaleType  SaleCondition  SalePrice  \n",
       "0   2008        WD         Normal     208500  \n",
       "1   2007        WD         Normal     181500  \n",
       "2   2008        WD         Normal     223500  \n",
       "3   2006        WD        Abnorml     140000  \n",
       "\n",
       "[4 rows x 81 columns]"
      ]
     },
     "execution_count": 86,
     "metadata": {},
     "output_type": "execute_result"
    }
   ],
   "source": [
    "df_home.head(4)"
   ]
  },
  {
   "cell_type": "code",
   "execution_count": 92,
   "metadata": {
    "ExecuteTime": {
     "end_time": "2020-02-03T09:14:39.765546Z",
     "start_time": "2020-02-03T09:14:39.761383Z"
    }
   },
   "outputs": [],
   "source": [
    "df_data = df_home[[\"GrLivArea\", \"YearBuilt\", \"SalePrice\"]]"
   ]
  },
  {
   "cell_type": "code",
   "execution_count": 94,
   "metadata": {
    "ExecuteTime": {
     "end_time": "2020-02-03T09:15:05.130619Z",
     "start_time": "2020-02-03T09:15:05.111553Z"
    }
   },
   "outputs": [
    {
     "data": {
      "text/plain": [
       "GrLivArea    0\n",
       "YearBuilt    0\n",
       "SalePrice    0\n",
       "dtype: int64"
      ]
     },
     "execution_count": 94,
     "metadata": {},
     "output_type": "execute_result"
    }
   ],
   "source": [
    "df_data.isnull().sum()"
   ]
  },
  {
   "cell_type": "code",
   "execution_count": 96,
   "metadata": {
    "ExecuteTime": {
     "end_time": "2020-02-03T09:16:39.920401Z",
     "start_time": "2020-02-03T09:16:39.916191Z"
    }
   },
   "outputs": [],
   "source": [
    "X = df_data[[\"GrLivArea\", \"YearBuilt\"]]\n",
    "y = df_data[\"SalePrice\"]"
   ]
  },
  {
   "cell_type": "code",
   "execution_count": 97,
   "metadata": {
    "ExecuteTime": {
     "end_time": "2020-02-03T09:16:51.805636Z",
     "start_time": "2020-02-03T09:16:51.801268Z"
    }
   },
   "outputs": [],
   "source": [
    "X_train, X_test, y_train, y_test = scratch_train_test_split(X, y, train_size=0.8)"
   ]
  },
  {
   "cell_type": "code",
   "execution_count": 102,
   "metadata": {
    "ExecuteTime": {
     "end_time": "2020-02-03T09:20:35.808104Z",
     "start_time": "2020-02-03T09:20:35.802837Z"
    }
   },
   "outputs": [],
   "source": [
    "from sklearn.linear_model import SGDRegressor\n",
    "from sklearn.metrics import mean_squared_error"
   ]
  },
  {
   "cell_type": "code",
   "execution_count": 111,
   "metadata": {
    "ExecuteTime": {
     "end_time": "2020-02-03T09:24:17.204352Z",
     "start_time": "2020-02-03T09:24:17.164255Z"
    }
   },
   "outputs": [
    {
     "name": "stdout",
     "output_type": "stream",
     "text": [
      "MSE_Score(train):7.619e+29\n",
      "MSE_Score(test):7.954e+29\n"
     ]
    }
   ],
   "source": [
    "sgdr = SGDRegressor(random_state=0)\n",
    "sgdr.fit(X_train, y_train)\n",
    "y_train_pred = sgdr.predict(X_train)\n",
    "y_test_pred = sgdr.predict(X_test)\n",
    "print(\"MSE_Score(train):{:.3e}\".format(mean_squared_error(y_train, y_train_pred)))\n",
    "print(\"MSE_Score(test):{:.3e}\".format(mean_squared_error(y_test, y_test_pred)))"
   ]
  },
  {
   "cell_type": "markdown",
   "metadata": {},
   "source": [
    "標準化"
   ]
  },
  {
   "cell_type": "code",
   "execution_count": 112,
   "metadata": {
    "ExecuteTime": {
     "end_time": "2020-02-03T09:25:26.400061Z",
     "start_time": "2020-02-03T09:25:26.396993Z"
    }
   },
   "outputs": [],
   "source": [
    "from sklearn.preprocessing import StandardScaler"
   ]
  },
  {
   "cell_type": "code",
   "execution_count": 114,
   "metadata": {
    "ExecuteTime": {
     "end_time": "2020-02-03T09:26:51.030219Z",
     "start_time": "2020-02-03T09:26:51.025623Z"
    }
   },
   "outputs": [],
   "source": [
    "sc = StandardScaler()\n",
    "sc.fit(X_train)\n",
    "X_train_std = sc.transform(X_train)\n",
    "X_test_std = sc.transform(X_test)"
   ]
  },
  {
   "cell_type": "code",
   "execution_count": 115,
   "metadata": {
    "ExecuteTime": {
     "end_time": "2020-02-03T09:27:17.394704Z",
     "start_time": "2020-02-03T09:27:17.385218Z"
    }
   },
   "outputs": [
    {
     "name": "stdout",
     "output_type": "stream",
     "text": [
      "MSE_Score(train):5.895e+09\n",
      "MSE_Score(test):7.932e+09\n"
     ]
    }
   ],
   "source": [
    "sgdr = SGDRegressor(random_state=0)\n",
    "sgdr.fit(X_train_std, y_train)\n",
    "y_train_pred = sgdr.predict(X_train_std)\n",
    "y_test_pred = sgdr.predict(X_test_std)\n",
    "print(\"MSE_Score(train):{:.3e}\".format(mean_squared_error(y_train, y_train_pred)))\n",
    "print(\"MSE_Score(test):{:.3e}\".format(mean_squared_error(y_test, y_test_pred)))"
   ]
  },
  {
   "cell_type": "code",
   "execution_count": null,
   "metadata": {},
   "outputs": [],
   "source": []
  }
 ],
 "metadata": {
  "kernelspec": {
   "display_name": "Python 3",
   "language": "python",
   "name": "python3"
  },
  "language_info": {
   "codemirror_mode": {
    "name": "ipython",
    "version": 3
   },
   "file_extension": ".py",
   "mimetype": "text/x-python",
   "name": "python",
   "nbconvert_exporter": "python",
   "pygments_lexer": "ipython3",
   "version": "3.7.6"
  },
  "nbTranslate": {
   "displayLangs": [
    "*"
   ],
   "hotkey": "alt-t",
   "langInMainMenu": true,
   "sourceLang": "en",
   "targetLang": "fr",
   "useGoogleTranslate": true
  },
  "toc": {
   "base_numbering": 1,
   "nav_menu": {},
   "number_sections": true,
   "sideBar": true,
   "skip_h1_title": false,
   "title_cell": "Table of Contents",
   "title_sidebar": "Contents",
   "toc_cell": false,
   "toc_position": {},
   "toc_section_display": true,
   "toc_window_display": false
  },
  "varInspector": {
   "cols": {
    "lenName": 16,
    "lenType": 16,
    "lenVar": 40
   },
   "kernels_config": {
    "python": {
     "delete_cmd_postfix": "",
     "delete_cmd_prefix": "del ",
     "library": "var_list.py",
     "varRefreshCmd": "print(var_dic_list())"
    },
    "r": {
     "delete_cmd_postfix": ") ",
     "delete_cmd_prefix": "rm(",
     "library": "var_list.r",
     "varRefreshCmd": "cat(var_dic_list()) "
    }
   },
   "types_to_exclude": [
    "module",
    "function",
    "builtin_function_or_method",
    "instance",
    "_Feature"
   ],
   "window_display": false
  }
 },
 "nbformat": 4,
 "nbformat_minor": 2
}
