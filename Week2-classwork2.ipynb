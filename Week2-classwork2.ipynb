{
 "cells": [
  {
   "cell_type": "markdown",
   "metadata": {},
   "source": [
    " # 富士下山問題"
   ]
  },
  {
   "cell_type": "code",
   "execution_count": 2,
   "metadata": {},
   "outputs": [
    {
     "name": "stdout",
     "output_type": "stream",
     "text": [
      "/Users/niikurasayaka/diveintocode-ml/Week2/classwork/data\n"
     ]
    }
   ],
   "source": [
    "cd data"
   ]
  },
  {
   "cell_type": "code",
   "execution_count": 3,
   "metadata": {
    "scrolled": true
   },
   "outputs": [
    {
     "name": "stdout",
     "output_type": "stream",
     "text": [
      "[[    0.          35.134141   139.132082     0.           0.      ]\n",
      " [    1.          35.135826   139.129202     0.         322.      ]\n",
      " [    2.          35.13751    139.126322     0.         644.      ]\n",
      " ...\n",
      " [  297.          35.631284   138.271368  1973.99     95698.      ]\n",
      " [  298.          35.632947   138.268452  1841.36     96020.      ]\n",
      " [  299.          35.63461    138.265536  1725.8      96343.      ]]\n"
     ]
    }
   ],
   "source": [
    "import numpy as np\n",
    "\n",
    "csv_path = \"mtfuji_data.csv\" # ファイル名（パス）を指定する\n",
    "\n",
    "np.set_printoptions(suppress=True) # 指数表示の禁止を設定する\n",
    "fuji = np.loadtxt(csv_path, delimiter=\",\", skiprows=1)\n",
    "print(fuji)"
   ]
  },
  {
   "cell_type": "code",
   "execution_count": 4,
   "metadata": {},
   "outputs": [],
   "source": [
    "import pandas as pd\n",
    "df = pd.DataFrame(fuji, columns=[\"地点番号\", \"緯度\", \"経度\", \"標高\", \"地点０からの距離\"])"
   ]
  },
  {
   "cell_type": "code",
   "execution_count": 5,
   "metadata": {},
   "outputs": [
    {
     "data": {
      "text/html": [
       "<div>\n",
       "<style scoped>\n",
       "    .dataframe tbody tr th:only-of-type {\n",
       "        vertical-align: middle;\n",
       "    }\n",
       "\n",
       "    .dataframe tbody tr th {\n",
       "        vertical-align: top;\n",
       "    }\n",
       "\n",
       "    .dataframe thead th {\n",
       "        text-align: right;\n",
       "    }\n",
       "</style>\n",
       "<table border=\"1\" class=\"dataframe\">\n",
       "  <thead>\n",
       "    <tr style=\"text-align: right;\">\n",
       "      <th></th>\n",
       "      <th>地点番号</th>\n",
       "      <th>緯度</th>\n",
       "      <th>経度</th>\n",
       "      <th>標高</th>\n",
       "      <th>地点０からの距離</th>\n",
       "    </tr>\n",
       "  </thead>\n",
       "  <tbody>\n",
       "    <tr>\n",
       "      <th>0</th>\n",
       "      <td>0.0</td>\n",
       "      <td>35.134141</td>\n",
       "      <td>139.132082</td>\n",
       "      <td>0.00</td>\n",
       "      <td>0.0</td>\n",
       "    </tr>\n",
       "    <tr>\n",
       "      <th>1</th>\n",
       "      <td>1.0</td>\n",
       "      <td>35.135826</td>\n",
       "      <td>139.129202</td>\n",
       "      <td>0.00</td>\n",
       "      <td>322.0</td>\n",
       "    </tr>\n",
       "    <tr>\n",
       "      <th>2</th>\n",
       "      <td>2.0</td>\n",
       "      <td>35.137510</td>\n",
       "      <td>139.126322</td>\n",
       "      <td>0.00</td>\n",
       "      <td>644.0</td>\n",
       "    </tr>\n",
       "    <tr>\n",
       "      <th>3</th>\n",
       "      <td>3.0</td>\n",
       "      <td>35.139194</td>\n",
       "      <td>139.123441</td>\n",
       "      <td>0.00</td>\n",
       "      <td>966.0</td>\n",
       "    </tr>\n",
       "    <tr>\n",
       "      <th>4</th>\n",
       "      <td>4.0</td>\n",
       "      <td>35.140878</td>\n",
       "      <td>139.120560</td>\n",
       "      <td>0.00</td>\n",
       "      <td>1288.0</td>\n",
       "    </tr>\n",
       "    <tr>\n",
       "      <th>...</th>\n",
       "      <td>...</td>\n",
       "      <td>...</td>\n",
       "      <td>...</td>\n",
       "      <td>...</td>\n",
       "      <td>...</td>\n",
       "    </tr>\n",
       "    <tr>\n",
       "      <th>295</th>\n",
       "      <td>295.0</td>\n",
       "      <td>35.627957</td>\n",
       "      <td>138.277199</td>\n",
       "      <td>1918.24</td>\n",
       "      <td>95054.0</td>\n",
       "    </tr>\n",
       "    <tr>\n",
       "      <th>296</th>\n",
       "      <td>296.0</td>\n",
       "      <td>35.629620</td>\n",
       "      <td>138.274284</td>\n",
       "      <td>1944.63</td>\n",
       "      <td>95376.0</td>\n",
       "    </tr>\n",
       "    <tr>\n",
       "      <th>297</th>\n",
       "      <td>297.0</td>\n",
       "      <td>35.631284</td>\n",
       "      <td>138.271368</td>\n",
       "      <td>1973.99</td>\n",
       "      <td>95698.0</td>\n",
       "    </tr>\n",
       "    <tr>\n",
       "      <th>298</th>\n",
       "      <td>298.0</td>\n",
       "      <td>35.632947</td>\n",
       "      <td>138.268452</td>\n",
       "      <td>1841.36</td>\n",
       "      <td>96020.0</td>\n",
       "    </tr>\n",
       "    <tr>\n",
       "      <th>299</th>\n",
       "      <td>299.0</td>\n",
       "      <td>35.634610</td>\n",
       "      <td>138.265536</td>\n",
       "      <td>1725.80</td>\n",
       "      <td>96343.0</td>\n",
       "    </tr>\n",
       "  </tbody>\n",
       "</table>\n",
       "<p>300 rows × 5 columns</p>\n",
       "</div>"
      ],
      "text/plain": [
       "      地点番号         緯度          経度       標高  地点０からの距離\n",
       "0      0.0  35.134141  139.132082     0.00       0.0\n",
       "1      1.0  35.135826  139.129202     0.00     322.0\n",
       "2      2.0  35.137510  139.126322     0.00     644.0\n",
       "3      3.0  35.139194  139.123441     0.00     966.0\n",
       "4      4.0  35.140878  139.120560     0.00    1288.0\n",
       "..     ...        ...         ...      ...       ...\n",
       "295  295.0  35.627957  138.277199  1918.24   95054.0\n",
       "296  296.0  35.629620  138.274284  1944.63   95376.0\n",
       "297  297.0  35.631284  138.271368  1973.99   95698.0\n",
       "298  298.0  35.632947  138.268452  1841.36   96020.0\n",
       "299  299.0  35.634610  138.265536  1725.80   96343.0\n",
       "\n",
       "[300 rows x 5 columns]"
      ]
     },
     "execution_count": 5,
     "metadata": {},
     "output_type": "execute_result"
    }
   ],
   "source": [
    "df"
   ]
  },
  {
   "cell_type": "markdown",
   "metadata": {},
   "source": [
    "<b>【問題1】データの可視化</b>\n",
    "\n",
    "Matplotlibを使い標高データを可視化してください。横軸に「その地点の番号」、縦軸に「標高」を設定すれば、富士山の断面図が描けます。"
   ]
  },
  {
   "cell_type": "code",
   "execution_count": 6,
   "metadata": {},
   "outputs": [
    {
     "data": {
      "text/plain": [
       "Text(0, 0.5, 'elevation')"
      ]
     },
     "execution_count": 6,
     "metadata": {},
     "output_type": "execute_result"
    },
    {
     "data": {
      "image/png": "[encoded data removed]",
      "text/plain": [
       "<Figure size 432x288 with 1 Axes>"
      ]
     },
     "metadata": {
      "needs_background": "light"
     },
     "output_type": "display_data"
    }
   ],
   "source": [
    "x = df[\"地点番号\"]\n",
    "y = df[\"標高\"]\n",
    "import matplotlib.pyplot as plt\n",
    "import numpy as np\n",
    "plt.plot(x, y)\n",
    "plt.xlabel('position')\n",
    "plt.ylabel('elevation')"
   ]
  },
  {
   "cell_type": "markdown",
   "metadata": {},
   "source": [
    "<b>【問題2】ある地点の勾配を計算する関数を作成</b>\n",
    "    \n",
    "「二次元配列と勾配問題」では各地点での勾配を最初に求めました。しかし、暗闇の富士山を想像すると、知ることができるのは今いる地点の勾配だけです。\n",
    "\n",
    "「今いる地点の番号」と「今いる隣の地点の番号（今いる地点の番号-1）」の関係による勾配を求める関数を作成してください。\n",
    "\n",
    "勾配は以下の式で求まりましたが、このデータでは「標高」がy、「その地点の番号」がxに相当します。\n",
    "\n"
   ]
  },
  {
   "cell_type": "code",
   "execution_count": 7,
   "metadata": {},
   "outputs": [
    {
     "data": {
      "text/plain": [
       "array([[   0.  ,    0.  ],\n",
       "       [   1.  ,    0.  ],\n",
       "       [   2.  ,    0.  ],\n",
       "       [   3.  ,    0.  ],\n",
       "       [   4.  ,    0.  ],\n",
       "       [   5.  ,    0.  ],\n",
       "       [   6.  ,    6.62],\n",
       "       [   7.  ,    7.21],\n",
       "       [   8.  ,   12.2 ],\n",
       "       [   9.  ,   54.41],\n",
       "       [  10.  ,  171.56],\n",
       "       [  11.  ,  177.84],\n",
       "       [  12.  ,  228.21],\n",
       "       [  13.  ,  275.38],\n",
       "       [  14.  ,  433.76],\n",
       "       [  15.  ,  371.74],\n",
       "       [  16.  ,  380.06],\n",
       "       [  17.  ,  503.4 ],\n",
       "       [  18.  ,  485.39],\n",
       "       [  19.  ,  477.82],\n",
       "       [  20.  ,  580.5 ],\n",
       "       [  21.  ,  610.92],\n",
       "       [  22.  ,  654.96],\n",
       "       [  23.  ,  628.22],\n",
       "       [  24.  ,  626.64],\n",
       "       [  25.  ,  572.55],\n",
       "       [  26.  ,  723.95],\n",
       "       [  27.  ,  701.94],\n",
       "       [  28.  ,  879.47],\n",
       "       [  29.  ,  976.17],\n",
       "       [  30.  ,  919.16],\n",
       "       [  31.  ,  817.  ],\n",
       "       [  32.  ,  743.06],\n",
       "       [  33.  ,  770.92],\n",
       "       [  34.  ,  864.06],\n",
       "       [  35.  ,  826.52],\n",
       "       [  36.  ,  748.39],\n",
       "       [  37.  ,  756.11],\n",
       "       [  38.  ,  724.5 ],\n",
       "       [  39.  ,  724.5 ],\n",
       "       [  40.  ,  724.5 ],\n",
       "       [  41.  ,  724.5 ],\n",
       "       [  42.  ,  724.5 ],\n",
       "       [  43.  ,  724.5 ],\n",
       "       [  44.  ,  724.5 ],\n",
       "       [  45.  ,  724.5 ],\n",
       "       [  46.  ,  724.5 ],\n",
       "       [  47.  ,  724.5 ],\n",
       "       [  48.  ,  852.18],\n",
       "       [  49.  ,  851.36],\n",
       "       [  50.  ,  831.  ],\n",
       "       [  51.  ,  880.44],\n",
       "       [  52.  ,  955.14],\n",
       "       [  53.  ,  849.52],\n",
       "       [  54.  ,  831.6 ],\n",
       "       [  55.  ,  790.01],\n",
       "       [  56.  ,  738.97],\n",
       "       [  57.  ,  848.83],\n",
       "       [  58.  ,  738.3 ],\n",
       "       [  59.  ,  736.48],\n",
       "       [  60.  ,  672.24],\n",
       "       [  61.  ,  564.02],\n",
       "       [  62.  ,  552.23],\n",
       "       [  63.  ,  497.41],\n",
       "       [  64.  ,  558.28],\n",
       "       [  65.  ,  503.02],\n",
       "       [  66.  ,  462.33],\n",
       "       [  67.  ,  469.66],\n",
       "       [  68.  ,  429.49],\n",
       "       [  69.  ,  454.21],\n",
       "       [  70.  ,  412.27],\n",
       "       [  71.  ,  362.29],\n",
       "       [  72.  ,  355.68],\n",
       "       [  73.  ,  368.91],\n",
       "       [  74.  ,  371.04],\n",
       "       [  75.  ,  371.19],\n",
       "       [  76.  ,  377.62],\n",
       "       [  77.  ,  386.64],\n",
       "       [  78.  ,  390.14],\n",
       "       [  79.  ,  418.41],\n",
       "       [  80.  ,  420.6 ],\n",
       "       [  81.  ,  443.  ],\n",
       "       [  82.  ,  458.66],\n",
       "       [  83.  ,  471.82],\n",
       "       [  84.  ,  488.4 ],\n",
       "       [  85.  ,  505.1 ],\n",
       "       [  86.  ,  519.54],\n",
       "       [  87.  ,  536.54],\n",
       "       [  88.  ,  553.64],\n",
       "       [  89.  ,  575.07],\n",
       "       [  90.  ,  588.99],\n",
       "       [  91.  ,  602.36],\n",
       "       [  92.  ,  613.04],\n",
       "       [  93.  ,  631.71],\n",
       "       [  94.  ,  660.43],\n",
       "       [  95.  ,  672.36],\n",
       "       [  96.  ,  700.15],\n",
       "       [  97.  ,  725.72],\n",
       "       [  98.  ,  741.17],\n",
       "       [  99.  ,  753.68],\n",
       "       [ 100.  ,  772.58],\n",
       "       [ 101.  ,  795.25],\n",
       "       [ 102.  ,  817.62],\n",
       "       [ 103.  ,  858.62],\n",
       "       [ 104.  ,  883.89],\n",
       "       [ 105.  ,  910.5 ],\n",
       "       [ 106.  ,  932.74],\n",
       "       [ 107.  ,  973.32],\n",
       "       [ 108.  , 1000.24],\n",
       "       [ 109.  , 1034.34],\n",
       "       [ 110.  , 1059.69],\n",
       "       [ 111.  , 1105.8 ],\n",
       "       [ 112.  , 1166.58],\n",
       "       [ 113.  , 1219.86],\n",
       "       [ 114.  , 1239.97],\n",
       "       [ 115.  , 1292.52],\n",
       "       [ 116.  , 1360.1 ],\n",
       "       [ 117.  , 1429.75],\n",
       "       [ 118.  , 1506.66],\n",
       "       [ 119.  , 1561.94],\n",
       "       [ 120.  , 1598.36],\n",
       "       [ 121.  , 1659.43],\n",
       "       [ 122.  , 1726.5 ],\n",
       "       [ 123.  , 1781.98],\n",
       "       [ 124.  , 1850.02],\n",
       "       [ 125.  , 1953.48],\n",
       "       [ 126.  , 2076.15],\n",
       "       [ 127.  , 2196.53],\n",
       "       [ 128.  , 2306.85],\n",
       "       [ 129.  , 2426.1 ],\n",
       "       [ 130.  , 2563.4 ],\n",
       "       [ 131.  , 2703.1 ],\n",
       "       [ 132.  , 2825.55],\n",
       "       [ 133.  , 2967.9 ],\n",
       "       [ 134.  , 3087.81],\n",
       "       [ 135.  , 3266.24],\n",
       "       [ 136.  , 3434.59],\n",
       "       [ 137.  , 3600.08],\n",
       "       [ 138.  , 3679.96],\n",
       "       [ 139.  , 3664.9 ],\n",
       "       [ 140.  , 3567.76],\n",
       "       [ 141.  , 3348.43],\n",
       "       [ 142.  , 3171.53],\n",
       "       [ 143.  , 3019.8 ],\n",
       "       [ 144.  , 2864.56],\n",
       "       [ 145.  , 2713.03],\n",
       "       [ 146.  , 2566.6 ],\n",
       "       [ 147.  , 2450.23],\n",
       "       [ 148.  , 2334.42],\n",
       "       [ 149.  , 2240.98],\n",
       "       [ 150.  , 2146.01],\n",
       "       [ 151.  , 2061.63],\n",
       "       [ 152.  , 1963.73],\n",
       "       [ 153.  , 1904.2 ],\n",
       "       [ 154.  , 1798.99],\n",
       "       [ 155.  , 1748.11],\n",
       "       [ 156.  , 1679.25],\n",
       "       [ 157.  , 1623.73],\n",
       "       [ 158.  , 1590.97],\n",
       "       [ 159.  , 1525.57],\n",
       "       [ 160.  , 1484.72],\n",
       "       [ 161.  , 1429.03],\n",
       "       [ 162.  , 1384.07],\n",
       "       [ 163.  , 1333.51],\n",
       "       [ 164.  , 1306.46],\n",
       "       [ 165.  , 1272.98],\n",
       "       [ 166.  , 1259.24],\n",
       "       [ 167.  , 1222.48],\n",
       "       [ 168.  , 1201.31],\n",
       "       [ 169.  , 1182.32],\n",
       "       [ 170.  , 1160.85],\n",
       "       [ 171.  , 1124.83],\n",
       "       [ 172.  , 1095.73],\n",
       "       [ 173.  , 1081.07],\n",
       "       [ 174.  , 1068.05],\n",
       "       [ 175.  , 1053.28],\n",
       "       [ 176.  , 1049.33],\n",
       "       [ 177.  , 1043.91],\n",
       "       [ 178.  , 1033.52],\n",
       "       [ 179.  , 1022.1 ],\n",
       "       [ 180.  ,  993.63],\n",
       "       [ 181.  ,  985.66],\n",
       "       [ 182.  ,  970.58],\n",
       "       [ 183.  ,  960.52],\n",
       "       [ 184.  ,  958.44],\n",
       "       [ 185.  , 1094.28],\n",
       "       [ 186.  , 1203.92],\n",
       "       [ 187.  , 1321.2 ],\n",
       "       [ 188.  , 1351.64],\n",
       "       [ 189.  , 1215.13],\n",
       "       [ 190.  , 1056.99],\n",
       "       [ 191.  ,  973.61],\n",
       "       [ 192.  ,  900.  ],\n",
       "       [ 193.  ,  900.  ],\n",
       "       [ 194.  ,  900.  ],\n",
       "       [ 195.  , 1020.79],\n",
       "       [ 196.  , 1126.56],\n",
       "       [ 197.  , 1155.7 ],\n",
       "       [ 198.  ,  990.05],\n",
       "       [ 199.  ,  895.16],\n",
       "       [ 200.  ,  723.66],\n",
       "       [ 201.  ,  616.85],\n",
       "       [ 202.  ,  556.79],\n",
       "       [ 203.  ,  502.25],\n",
       "       [ 204.  ,  587.23],\n",
       "       [ 205.  ,  620.23],\n",
       "       [ 206.  ,  622.89],\n",
       "       [ 207.  ,  631.41],\n",
       "       [ 208.  ,  479.68],\n",
       "       [ 209.  ,  427.07],\n",
       "       [ 210.  ,  413.4 ],\n",
       "       [ 211.  ,  361.49],\n",
       "       [ 212.  ,  505.42],\n",
       "       [ 213.  ,  592.32],\n",
       "       [ 214.  ,  526.51],\n",
       "       [ 215.  ,  405.96],\n",
       "       [ 216.  ,  391.72],\n",
       "       [ 217.  ,  354.39],\n",
       "       [ 218.  ,  487.5 ],\n",
       "       [ 219.  ,  582.16],\n",
       "       [ 220.  ,  595.53],\n",
       "       [ 221.  ,  563.7 ],\n",
       "       [ 222.  ,  425.04],\n",
       "       [ 223.  ,  339.21],\n",
       "       [ 224.  ,  312.76],\n",
       "       [ 225.  ,  332.88],\n",
       "       [ 226.  ,  270.33],\n",
       "       [ 227.  ,  332.39],\n",
       "       [ 228.  ,  440.61],\n",
       "       [ 229.  ,  514.97],\n",
       "       [ 230.  ,  422.18],\n",
       "       [ 231.  ,  344.44],\n",
       "       [ 232.  ,  423.72],\n",
       "       [ 233.  ,  363.25],\n",
       "       [ 234.  ,  278.95],\n",
       "       [ 235.  ,  262.  ],\n",
       "       [ 236.  ,  301.  ],\n",
       "       [ 237.  ,  409.72],\n",
       "       [ 238.  ,  437.7 ],\n",
       "       [ 239.  ,  491.04],\n",
       "       [ 240.  ,  501.97],\n",
       "       [ 241.  ,  430.96],\n",
       "       [ 242.  ,  462.99],\n",
       "       [ 243.  ,  456.1 ],\n",
       "       [ 244.  ,  502.93],\n",
       "       [ 245.  ,  542.  ],\n",
       "       [ 246.  ,  749.23],\n",
       "       [ 247.  ,  855.15],\n",
       "       [ 248.  ,  821.32],\n",
       "       [ 249.  ,  915.92],\n",
       "       [ 250.  ,  901.57],\n",
       "       [ 251.  , 1079.27],\n",
       "       [ 252.  , 1161.14],\n",
       "       [ 253.  , 1191.05],\n",
       "       [ 254.  , 1144.26],\n",
       "       [ 255.  ,  986.58],\n",
       "       [ 256.  ,  929.33],\n",
       "       [ 257.  ,  909.89],\n",
       "       [ 258.  ,  972.71],\n",
       "       [ 259.  , 1141.8 ],\n",
       "       [ 260.  , 1243.66],\n",
       "       [ 261.  , 1355.83],\n",
       "       [ 262.  , 1530.88],\n",
       "       [ 263.  , 1599.43],\n",
       "       [ 264.  , 1733.89],\n",
       "       [ 265.  , 1755.81],\n",
       "       [ 266.  , 1878.56],\n",
       "       [ 267.  , 1717.62],\n",
       "       [ 268.  , 1745.04],\n",
       "       [ 269.  , 1776.91],\n",
       "       [ 270.  , 1616.81],\n",
       "       [ 271.  , 1680.01],\n",
       "       [ 272.  , 1644.14],\n",
       "       [ 273.  , 1635.28],\n",
       "       [ 274.  , 1566.79],\n",
       "       [ 275.  , 1438.39],\n",
       "       [ 276.  , 1390.92],\n",
       "       [ 277.  , 1282.63],\n",
       "       [ 278.  , 1348.7 ],\n",
       "       [ 279.  , 1376.17],\n",
       "       [ 280.  , 1309.46],\n",
       "       [ 281.  , 1337.45],\n",
       "       [ 282.  , 1199.98],\n",
       "       [ 283.  ,  916.3 ],\n",
       "       [ 284.  , 1037.93],\n",
       "       [ 285.  , 1154.9 ],\n",
       "       [ 286.  , 1372.58],\n",
       "       [ 287.  , 1510.22],\n",
       "       [ 288.  , 1681.01],\n",
       "       [ 289.  , 1732.79],\n",
       "       [ 290.  , 1918.68],\n",
       "       [ 291.  , 2102.67],\n",
       "       [ 292.  , 2213.03],\n",
       "       [ 293.  , 2158.71],\n",
       "       [ 294.  , 2084.51],\n",
       "       [ 295.  , 1918.24],\n",
       "       [ 296.  , 1944.63],\n",
       "       [ 297.  , 1973.99],\n",
       "       [ 298.  , 1841.36],\n",
       "       [ 299.  , 1725.8 ]])"
      ]
     },
     "execution_count": 7,
     "metadata": {},
     "output_type": "execute_result"
    }
   ],
   "source": [
    "x_v = x.values\n",
    "y_v = y.values\n",
    "xy_v = np.vstack((x_v, y_v)).T\n",
    "xy_v"
   ]
  },
  {
   "cell_type": "code",
   "execution_count": 8,
   "metadata": {},
   "outputs": [],
   "source": [
    "def grad(x_now, data):\n",
    "    dx = data[x_now][0] - data[x_now-1][0]\n",
    "    dy = data[x_now][1] - data[x_now-1][1]\n",
    "    return dy / dx"
   ]
  },
  {
   "cell_type": "code",
   "execution_count": 9,
   "metadata": {},
   "outputs": [
    {
     "data": {
      "text/plain": [
       "168.35000000000036"
      ]
     },
     "execution_count": 9,
     "metadata": {},
     "output_type": "execute_result"
    }
   ],
   "source": [
    "grad(136, xy_v)"
   ]
  },
  {
   "cell_type": "markdown",
   "metadata": {},
   "source": [
    "<b>【問題3】移動先の地点を計算する関数を作成</b>\n",
    "\n",
    "今いる地点の勾配の情報を元に、次に移動先の地点を計算する関数を作成してください。\n",
    "\n",
    "数式で表すと 「移動先の地点 = 今いる地点 - \n",
    "α\n",
    " ×今いる地点の勾配」 となります。\n",
    "\n",
    "「今いる地点の勾配」は問題2で作成した関数の返り値を使用してください。\n",
    "α\n",
    " は0より大きい任意の値をとるハイパーパラメータです。機械学習の分野では学習率という名前で呼ばれます。この値によって下り方が変わります。ここでは例えば0.2に設定してください。\n",
    "\n",
    "《実装上の注意》\n",
    "\n",
    "上記式を計算すると移動先の地点には浮動小数点数が現れますが、今回勾配の情報を得るためには地点は整数で表す必要があります。そのため、四捨五入による変換を行ってください。また、取り得ない値となった場合の処理が必要です。例えば移動先の地点が負になると、そのようなデータが存在しないため、次に勾配が得られなくなります。\n",
    "\n",
    "《ハイパーパラメータとは》\n",
    "\n",
    "機械学習手法において、その手法自身では最適化が行えない値のことです。値によって手法の挙動は変化し、学習がうまくいくかどうかに影響を与えるため、設定は慎重に行う必要があります。最も単純には人間が考えて設定することになりますが、ハイパーパラメータを機械的に決めるための手法も存在します。"
   ]
  },
  {
   "cell_type": "code",
   "execution_count": 10,
   "metadata": {},
   "outputs": [],
   "source": [
    "def move_position(x_now, data, a):\n",
    "    return int(round(x_now - (a * grad(x_now, data)), 0))"
   ]
  },
  {
   "cell_type": "code",
   "execution_count": 11,
   "metadata": {},
   "outputs": [
    {
     "data": {
      "text/plain": [
       "119"
      ]
     },
     "execution_count": 11,
     "metadata": {},
     "output_type": "execute_result"
    }
   ],
   "source": [
    "a=0.1\n",
    "move_position(136, xy_v, a)"
   ]
  },
  {
   "cell_type": "markdown",
   "metadata": {},
   "source": [
    "<b>【問題4】山を下る関数を作成</b>\n",
    "\n",
    "山を下る関数を作成してください。最初の地点を受け取り、問題3の関数によって地点を更新していきます。移動毎の地点はリストなどに記録して、これを関数の返り値としてください。\n",
    "\n",
    "最初の「今いる地点」は富士山の頂上付近、136番の地点（標高3434.59[m]）とします。ここから山を下っていきましょう。\n",
    "\n",
    "《実装上の注意》\n",
    "\n",
    "問題3で四捨五入を行っているため、移動先の地点が今いる地点と同じ場合になることがあります。移動量が減ってきたということなので、その時点で山を下りきったと判断してください。実際の勾配降下法ではこのようなことは起きません。"
   ]
  },
  {
   "cell_type": "code",
   "execution_count": 17,
   "metadata": {},
   "outputs": [],
   "source": [
    "def decending_process(x_now, data, a):\n",
    "    position_list = [x_now]\n",
    "    now_height = data[x_now][1]\n",
    "    for i in range(10000):\n",
    "        next_position = move_position(x_now, data, a)\n",
    "        next_height = data[next_position][1]\n",
    "        if  now_height <= next_height:\n",
    "            return position_list\n",
    "            break\n",
    "        else:\n",
    "            position_list.append(next_position)\n",
    "            x_now = next_position\n",
    "            now_height = next_height"
   ]
  },
  {
   "cell_type": "markdown",
   "metadata": {},
   "source": [
    "<b>【問題5】下山過程の可視化</b>\n",
    "\n",
    "問題4における下山過程をMatplotlibを使いグラフで可視化してください。\n",
    "\n",
    "《可視化例》\n",
    "\n",
    "断面図の中に移動した地点を点で表示する\n",
    "繰り返し毎の標高や勾配を折れ線グラフにする"
   ]
  },
  {
   "cell_type": "code",
   "execution_count": 18,
   "metadata": {},
   "outputs": [
    {
     "name": "stdout",
     "output_type": "stream",
     "text": [
      "x :  [136, 119, 113, 108, 105, 102, 100, 98, 96, 93, 91, 90, 89, 87, 85, 83, 82, 80]\n",
      "y :  [3434.59, 1561.94, 1219.86, 1000.24, 910.5, 817.62, 772.58, 741.17, 700.15, 631.71, 602.36, 588.99, 575.07, 536.54, 505.1, 471.82, 458.66, 420.6]\n"
     ]
    }
   ],
   "source": [
    "x_plot = decending_process(136, xy_v, a)\n",
    "y_plot = []\n",
    "for i in x_plot:\n",
    "    y_plot.append(xy_v[i][1])\n",
    "print('x : ', x_plot)\n",
    "print('y : ', y_plot)\n"
   ]
  },
  {
   "cell_type": "code",
   "execution_count": 19,
   "metadata": {},
   "outputs": [],
   "source": [
    "x = df[\"地点番号\"]\n",
    "y = df[\"標高\"]\n",
    "\n",
    "import matplotlib.pyplot as plt\n",
    "import numpy as np\n",
    "\n",
    "def plot_fuji(x_plot, y_plot, c, marker):\n",
    "    plt.plot(x, y)\n",
    "    plt.xlabel('position')\n",
    "    plt.ylabel('elevation')\n",
    "    plt.scatter(x_plot, y_plot, color=c, marker=marker)\n",
    "    plt.show()"
   ]
  },
  {
   "cell_type": "code",
   "execution_count": 20,
   "metadata": {},
   "outputs": [
    {
     "data": {
      "image/png": "[encoded data removed]",
      "text/plain": [
       "<Figure size 432x288 with 1 Axes>"
      ]
     },
     "metadata": {
      "needs_background": "light"
     },
     "output_type": "display_data"
    }
   ],
   "source": [
    "plot_fuji(x_plot, y_plot, 'r', '^')"
   ]
  },
  {
   "cell_type": "markdown",
   "metadata": {},
   "source": [
    "<b>【問題6】初期値の変更</b>\n",
    "    \n",
    "問題4では最初の「今いる地点」を136としましたが、これを他の全ての点で計算してください。そして、いくつかの初期値に対してどのような下山過程となるか、問題5のように可視化してください。機械学習においては 初期値 をどう設定するかが結果に影響を与えることが確認できます。\n",
    "\n",
    "《初期値とは》\n",
    "\n",
    "今回の例での最初の地点のような値を初期値と呼びます。これを変更すると結果が変化します。例えば136と142では富士山の異なるの斜面を下ることになります。"
   ]
  },
  {
   "cell_type": "code",
   "execution_count": 595,
   "metadata": {},
   "outputs": [
    {
     "data": {
      "image/png": "[encoded data removed]",
      "text/plain": [
       "<Figure size 432x288 with 1 Axes>"
      ]
     },
     "metadata": {
      "needs_background": "light"
     },
     "output_type": "display_data"
    }
   ],
   "source": [
    "#地点１３６の時\n",
    "plot_fuji(x_plot, y_plot, 'r', '^')"
   ]
  },
  {
   "cell_type": "code",
   "execution_count": 22,
   "metadata": {},
   "outputs": [
    {
     "name": "stdout",
     "output_type": "stream",
     "text": [
      "x :  [142, 160, 164, 167, 171, 175, 176]\n",
      "y :  [3171.53, 1484.72, 1306.46, 1222.48, 1124.83, 1053.28, 1049.33]\n"
     ]
    }
   ],
   "source": [
    "x_plot = down(142, xy_v, a)\n",
    "y_plot = []\n",
    "for i in x_plot:\n",
    "    y_plot.append(xy_v[i][1])\n",
    "print('x : ', x_plot)\n",
    "print('y : ', y_plot)"
   ]
  },
  {
   "cell_type": "code",
   "execution_count": 23,
   "metadata": {},
   "outputs": [
    {
     "data": {
      "image/png": "[encoded data removed]",
      "text/plain": [
       "<Figure size 432x288 with 1 Axes>"
      ]
     },
     "metadata": {
      "needs_background": "light"
     },
     "output_type": "display_data"
    }
   ],
   "source": [
    "#地点１４２の時\n",
    "plot_fuji(x_plot, y_plot, 'r', '^')"
   ]
  },
  {
   "cell_type": "markdown",
   "metadata": {},
   "source": [
    "<b>【問題7】（アドバンス問題）ハイパーパラメータの変更</b>\n",
    "\n",
    "ハイパーパラメータ \n",
    "α\n",
    " を変化させるとどのような下山過程となるか、問題5のように可視化してください。そして、ハイパーパラメータにより結果が大きく異なることを確認してください。"
   ]
  },
  {
   "cell_type": "code",
   "execution_count": 25,
   "metadata": {},
   "outputs": [
    {
     "data": {
      "image/png": "[encoded data removed]",
      "text/plain": [
       "<Figure size 432x288 with 1 Axes>"
      ]
     },
     "metadata": {
      "needs_background": "light"
     },
     "output_type": "display_data"
    },
    {
     "data": {
      "image/png": "[encoded data removed]",
      "text/plain": [
       "<Figure size 432x288 with 1 Axes>"
      ]
     },
     "metadata": {
      "needs_background": "light"
     },
     "output_type": "display_data"
    },
    {
     "data": {
      "image/png": "[encoded data removed]",
      "text/plain": [
       "<Figure size 432x288 with 1 Axes>"
      ]
     },
     "metadata": {
      "needs_background": "light"
     },
     "output_type": "display_data"
    }
   ],
   "source": [
    "#136地点でハイパラメータaを0.01, 0.05, 0.2の３つでそれぞれ図示\n",
    "x_now = 136\n",
    "a_list = [0.01, 0.05, 0.2]\n",
    "for a in a_list:\n",
    "    x_plot = down(x_now, xy_v, a)\n",
    "    y_plot = []\n",
    "    for i in x_plot:\n",
    "        y_plot.append(xy_v[i][1])\n",
    "    plot_fuji(x_plot, y_plot, 'b', '^')"
   ]
  }
 ],
 "metadata": {
  "kernelspec": {
   "display_name": "Python 3",
   "language": "python",
   "name": "python3"
  },
  "language_info": {
   "codemirror_mode": {
    "name": "ipython",
    "version": 3
   },
   "file_extension": ".py",
   "mimetype": "text/x-python",
   "name": "python",
   "nbconvert_exporter": "python",
   "pygments_lexer": "ipython3",
   "version": "3.7.6"
  },
  "nbTranslate": {
   "displayLangs": [
    "*"
   ],
   "hotkey": "alt-t",
   "langInMainMenu": true,
   "sourceLang": "en",
   "targetLang": "fr",
   "useGoogleTranslate": true
  },
  "toc": {
   "base_numbering": 1,
   "nav_menu": {},
   "number_sections": true,
   "sideBar": true,
   "skip_h1_title": false,
   "title_cell": "Table of Contents",
   "title_sidebar": "Contents",
   "toc_cell": false,
   "toc_position": {},
   "toc_section_display": true,
   "toc_window_display": false
  },
  "varInspector": {
   "cols": {
    "lenName": 16,
    "lenType": 16,
    "lenVar": 40
   },
   "kernels_config": {
    "python": {
     "delete_cmd_postfix": "",
     "delete_cmd_prefix": "del ",
     "library": "var_list.py",
     "varRefreshCmd": "print(var_dic_list())"
    },
    "r": {
     "delete_cmd_postfix": ") ",
     "delete_cmd_prefix": "rm(",
     "library": "var_list.r",
     "varRefreshCmd": "cat(var_dic_list()) "
    }
   },
   "types_to_exclude": [
    "module",
    "function",
    "builtin_function_or_method",
    "instance",
    "_Feature"
   ],
   "window_display": false
  }
 },
 "nbformat": 4,
 "nbformat_minor": 2
}
