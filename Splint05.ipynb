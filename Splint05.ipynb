{
 "cells": [
  {
   "cell_type": "code",
   "execution_count": 3,
   "metadata": {
    "ExecuteTime": {
     "end_time": "2020-02-15T14:09:15.275510Z",
     "start_time": "2020-02-15T14:09:15.271489Z"
    }
   },
   "outputs": [],
   "source": [
    "from sklearn.datasets import load_iris\n",
    "import pandas as pd\n",
    "import pdb\n",
    "import numpy as np\n",
    "from sklearn.datasets import load_iris\n",
    "from sklearn.model_selection import train_test_split"
   ]
  },
  {
   "cell_type": "code",
   "execution_count": 10,
   "metadata": {
    "ExecuteTime": {
     "end_time": "2020-02-15T14:12:46.762402Z",
     "start_time": "2020-02-15T14:12:46.741879Z"
    }
   },
   "outputs": [],
   "source": [
    "import numpy as np\n",
    "np.random.seed(seed=0)\n",
    "n_samples = 100\n",
    "f0 = [-1, 2]\n",
    "f1 = [2, -1]\n",
    "cov = [[1.0,0.8], [0.8, 1.0]]\n",
    "f0 = np.random.multivariate_normal(f0, cov, int(n_samples/2))\n",
    "f1 = np.random.multivariate_normal(f1, cov, int(n_samples/2))\n",
    "X = np.concatenate((f0, f1))\n",
    "y = np.concatenate((np.ones((int(n_samples/2))), np.ones((int(n_samples/2))) *(-1))).astype(np.int)\n",
    "y = y+1\n",
    "random_index = np.random.permutation(np.arange(n_samples))\n",
    "X = X[random_index]\n",
    "y = y[random_index]"
   ]
  },
  {
   "cell_type": "code",
   "execution_count": 11,
   "metadata": {
    "ExecuteTime": {
     "end_time": "2020-02-15T14:12:47.636831Z",
     "start_time": "2020-02-15T14:12:47.629907Z"
    }
   },
   "outputs": [
    {
     "data": {
      "text/plain": [
       "array([2, 0, 2, 0, 0, 2, 2, 0, 2, 2, 0, 2, 0, 0, 0, 2, 0, 0, 0, 0, 0, 2,\n",
       "       2, 2, 2, 2, 2, 2, 2, 0, 2, 2, 0, 0, 0, 0, 0, 2, 0, 0, 2, 0, 0, 0,\n",
       "       0, 2, 2, 2, 2, 0, 2, 2, 2, 2, 2, 0, 2, 0, 0, 0, 0, 0, 0, 0, 2, 2,\n",
       "       2, 0, 0, 2, 2, 0, 2, 0, 2, 2, 2, 0, 2, 0, 0, 0, 0, 2, 0, 0, 2, 0,\n",
       "       2, 0, 2, 2, 2, 0, 2, 2, 0, 2, 0, 2])"
      ]
     },
     "execution_count": 11,
     "metadata": {},
     "output_type": "execute_result"
    }
   ],
   "source": [
    "y"
   ]
  },
  {
   "cell_type": "code",
   "execution_count": 44,
   "metadata": {
    "ExecuteTime": {
     "end_time": "2020-02-15T14:55:20.098006Z",
     "start_time": "2020-02-15T14:55:20.062658Z"
    }
   },
   "outputs": [],
   "source": [
    "class ScratchDecesionTreeClassifierDepth():\n",
    "    \n",
    "    def __init__(self, max_depth=3):\n",
    "        self.left = None\n",
    "        self.right = None\n",
    "        self.max_depth = max_depth\n",
    "        self.X = None\n",
    "        self.y = None\n",
    "        self.depth = None\n",
    "        self.threshold = None\n",
    "        self.feature = None\n",
    "        self.gini_min = None\n",
    "        self.label = None\n",
    "        \n",
    "    def gini_score(self, X, y, feat_idx, threshold):\n",
    "        g1 = 0\n",
    "        gini_total = 0\n",
    "        \n",
    "        for i in np.unique(y):\n",
    "            g1 += (np.sum(y==i) / len(y))**2\n",
    "        gini_total += 1 - g1\n",
    "        \n",
    "        sample_num = len(y)\n",
    "        div_y = [y[X[:, feat_idx] >= threshold], y[X[:, feat_idx] < threshold]]\n",
    "        for group in div_y:\n",
    "            score = 0\n",
    "            classes = np.unique(group)\n",
    "            for cls in classes:\n",
    "                p = np.sum(group == cls)/len(group)\n",
    "                score += p * p\n",
    "            gini_total -= (1- score) * (len(group)/sample_num)\n",
    "        return gini_total\n",
    "\n",
    "    def search_best_split(self, X, y):   \n",
    "        features = X.shape[1]\n",
    "        best_threshold = None\n",
    "        best_feature = None\n",
    "        gini_best = 0\n",
    "\n",
    "        for feat_idx in range(features):\n",
    "            values = X[:, feat_idx]\n",
    "            for val in values:\n",
    "                gini = self.gini_score(X, y, feat_idx, val)\n",
    "                if gini_best < gini:\n",
    "                    gini_best = gini\n",
    "                    best_threshold = val\n",
    "                    best_feature = feat_idx\n",
    "        return gini_best, best_threshold, best_feature       \n",
    "    \n",
    "    def split(self, X, y, depth):\n",
    "        self.X = X\n",
    "        self.y = y\n",
    "        self.label = np.argmax(np.bincount(self.y))\n",
    "        self.depth = depth\n",
    "        self.gini_best, self.threshold, self.feature = self.search_best_split(self.X, self.y)\n",
    "        print('Depth: {}, Sep at Feature: {},Threshold: {}, Label: {}'.format(self.depth, self.feature, self.threshold, self.label))\n",
    "        \n",
    "        if self.depth == self.max_depth or self.gini_best == 0:\n",
    "            return       \n",
    "        idx_left = self.X[:, self.feature] >= self.threshold\n",
    "        idx_right = self.X[:, self.feature] < self.threshold\n",
    "        \n",
    "        self.left = ScratchDecesionTreeClassifierDepth(self.max_depth)\n",
    "        self.right = ScratchDecesionTreeClassifierDepth(self.max_depth)\n",
    "        self.left.split(self.X[idx_left],  self.y[idx_left], self.depth +1)\n",
    "        self.right.split(self.X[idx_right], self.y[idx_right], self.depth +1)\n",
    "    \n",
    "    def node_predict(self, X):\n",
    "        if self.gini_best == 0.0 or self.depth == self.max_depth:\n",
    "            return self.label\n",
    "        else:\n",
    "            if X[self.feature] > self.threshold:\n",
    "                return self.left.node_predict(X)\n",
    "            else:\n",
    "                return self.right.node_predict(X)        \n",
    "    \n",
    "    def fit(self, X, y):\n",
    "        initial_depth = 0\n",
    "        self.split(X, y, initial_depth)\n",
    "    \n",
    "    def predict(self, X):\n",
    "        pred = []\n",
    "        for s in X:\n",
    "            pred.append(self.node_predict(s))\n",
    "        return np.array(pred)"
   ]
  },
  {
   "cell_type": "code",
   "execution_count": 45,
   "metadata": {
    "ExecuteTime": {
     "end_time": "2020-02-15T14:55:20.864854Z",
     "start_time": "2020-02-15T14:55:20.775598Z"
    }
   },
   "outputs": [
    {
     "name": "stdout",
     "output_type": "stream",
     "text": [
      "Depth: 0, Sep at Feature: 1,Threshold: 0.5177153978980351, Label: 0\n",
      "Depth: 1, Sep at Feature: 0,Threshold: 2.498295595463077, Label: 2\n",
      "Depth: 2, Sep at Feature: None,Threshold: None, Label: 0\n",
      "Depth: 2, Sep at Feature: None,Threshold: None, Label: 2\n",
      "Depth: 1, Sep at Feature: 0,Threshold: -0.5595202829694812, Label: 0\n",
      "Depth: 2, Sep at Feature: None,Threshold: None, Label: 0\n",
      "Depth: 2, Sep at Feature: None,Threshold: None, Label: 2\n",
      "Classification accuracy: 1.0\n"
     ]
    }
   ],
   "source": [
    "X_train, X_test, y_train, y_test = train_test_split(X, y, test_size=0.3, random_state=0)\n",
    "    \n",
    "clf = ScratchDecesionTreeClassifierDepth(max_depth=3)\n",
    "clf.fit(X_train, y_train)\n",
    "y_pred = clf.predict(X_test)\n",
    "score = sum(y_pred == y_test)/float(len(y_test))\n",
    "print('Classification accuracy: {}'.format(score))"
   ]
  },
  {
   "cell_type": "code",
   "execution_count": 46,
   "metadata": {
    "ExecuteTime": {
     "end_time": "2020-02-15T14:56:00.785540Z",
     "start_time": "2020-02-15T14:56:00.760667Z"
    }
   },
   "outputs": [],
   "source": [
    "import matplotlib.pyplot as plt\n",
    "from matplotlib.colors import ListedColormap\n",
    "import matplotlib.patches as mpatches\n",
    "def decision_region(X, y, model, step=0.01, title='decision region', xlabel='xlabel', ylabel='ylabel', target_names=['versicolor', 'virginica']):\n",
    "    \"\"\"\n",
    "    2値分類を2次元の特徴量で学習したモデルの決定領域を描く。\n",
    "    背景の色が学習したモデルによる推定値から描画される。\n",
    "    散布図の点は訓練データまたは検証データである。\n",
    "\n",
    "    Parameters\n",
    "    ----------------\n",
    "    X : ndarray, shape(n_samples, 2)\n",
    "        特徴量\n",
    "    y : ndarray, shape(n_samples,)\n",
    "        ラベル\n",
    "    model : object\n",
    "        学習したモデルのインスンタスを入れる\n",
    "    step : float, (default : 0.1)\n",
    "        推定値を計算する間隔を設定する\n",
    "    title : str\n",
    "        グラフのタイトルの文章を与える\n",
    "    xlabel, ylabel : str\n",
    "        軸ラベルの文章を与える\n",
    "    target_names= : list of str\n",
    "        凡例の一覧を与える\n",
    "    \"\"\"\n",
    "    # setting\n",
    "    scatter_color = ['red', 'blue']\n",
    "    contourf_color = ['pink', 'skyblue']\n",
    "    n_class = 2\n",
    "    # pred\n",
    "    mesh_f0, mesh_f1  = np.meshgrid(np.arange(np.min(X[:,0])-0.5, np.max(X[:,0])+0.5, step), np.arange(np.min(X[:,1])-0.5, np.max(X[:,1])+0.5, step))\n",
    "    mesh = np.c_[np.ravel(mesh_f0),np.ravel(mesh_f1)]\n",
    "    y_pred = model.predict(mesh).reshape(mesh_f0.shape)\n",
    "    # plot\n",
    "    plt.title(title)\n",
    "    plt.xlabel(xlabel)\n",
    "    plt.ylabel(ylabel)\n",
    "    plt.contourf(mesh_f0, mesh_f1, y_pred, n_class-1, cmap=ListedColormap(contourf_color))\n",
    "    plt.contour(mesh_f0, mesh_f1, y_pred, n_class-1, colors='y', linewidths=3, alpha=0.5)\n",
    "    for i, target in enumerate(set(y)):\n",
    "        plt.scatter(X[y==target][:, 0], X[y==target][:, 1], s=80, color=scatter_color[i], label=target_names[i], marker='o')\n",
    "    patches = [mpatches.Patch(color=scatter_color[i], label=target_names[i]) for i in range(n_class)]\n",
    "    plt.legend(handles=patches)\n",
    "    plt.legend()\n",
    "    plt.show()"
   ]
  },
  {
   "cell_type": "code",
   "execution_count": 47,
   "metadata": {
    "ExecuteTime": {
     "end_time": "2020-02-15T14:56:02.490724Z",
     "start_time": "2020-02-15T14:56:01.129381Z"
    }
   },
   "outputs": [
    {
     "data": {
      "image/png": "[encoded data removed]",
      "text/plain": [
       "<Figure size 432x288 with 1 Axes>"
      ]
     },
     "metadata": {
      "needs_background": "light"
     },
     "output_type": "display_data"
    }
   ],
   "source": [
    "decision_region(X, y, clf)"
   ]
  },
  {
   "cell_type": "code",
   "execution_count": null,
   "metadata": {},
   "outputs": [],
   "source": []
  }
 ],
 "metadata": {
  "kernelspec": {
   "display_name": "Python 3",
   "language": "python",
   "name": "python3"
  },
  "language_info": {
   "codemirror_mode": {
    "name": "ipython",
    "version": 3
   },
   "file_extension": ".py",
   "mimetype": "text/x-python",
   "name": "python",
   "nbconvert_exporter": "python",
   "pygments_lexer": "ipython3",
   "version": "3.7.4"
  },
  "nbTranslate": {
   "displayLangs": [
    "*"
   ],
   "hotkey": "alt-t",
   "langInMainMenu": true,
   "sourceLang": "en",
   "targetLang": "fr",
   "useGoogleTranslate": true
  },
  "toc": {
   "base_numbering": 1,
   "nav_menu": {},
   "number_sections": true,
   "sideBar": true,
   "skip_h1_title": false,
   "title_cell": "Table of Contents",
   "title_sidebar": "Contents",
   "toc_cell": false,
   "toc_position": {},
   "toc_section_display": true,
   "toc_window_display": false
  },
  "varInspector": {
   "cols": {
    "lenName": 16,
    "lenType": 16,
    "lenVar": 40
   },
   "kernels_config": {
    "python": {
     "delete_cmd_postfix": "",
     "delete_cmd_prefix": "del ",
     "library": "var_list.py",
     "varRefreshCmd": "print(var_dic_list())"
    },
    "r": {
     "delete_cmd_postfix": ") ",
     "delete_cmd_prefix": "rm(",
     "library": "var_list.r",
     "varRefreshCmd": "cat(var_dic_list()) "
    }
   },
   "types_to_exclude": [
    "module",
    "function",
    "builtin_function_or_method",
    "instance",
    "_Feature"
   ],
   "window_display": false
  }
 },
 "nbformat": 4,
 "nbformat_minor": 2
}
