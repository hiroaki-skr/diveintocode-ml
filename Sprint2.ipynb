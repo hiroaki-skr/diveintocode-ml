{
 "cells": [
  {
   "cell_type": "markdown",
   "metadata": {},
   "source": [
    "**ScratchLinearRegression雛形**"
   ]
  },
  {
   "cell_type": "code",
   "execution_count": 891,
   "metadata": {
    "ExecuteTime": {
     "end_time": "2020-02-08T03:52:35.800389Z",
     "start_time": "2020-02-08T03:52:35.782484Z"
    }
   },
   "outputs": [],
   "source": [
    "class ScratchLinearRegression():\n",
    "    \"\"\"\n",
    "    線形回帰のスクラッチ実装\n",
    "\n",
    "    Parameters\n",
    "    ----------\n",
    "    num_iter : int\n",
    "      イテレーション数\n",
    "    lr : float\n",
    "      学習率\n",
    "    no_bias : bool\n",
    "      バイアス項を入れない場合はTrue\n",
    "    verbose : bool\n",
    "      学習過程を出力する場合はTrue\n",
    "\n",
    "    Attributes\n",
    "    ----------\n",
    "    self.coef_ : 次の形のndarray, shape (n_features,)\n",
    "      パラメータ\n",
    "    self.loss : 次の形のndarray, shape (self.iter,)\n",
    "      学習用データに対する損失の記録\n",
    "    self.val_loss : 次の形のndarray, shape (self.iter,)\n",
    "      検証用データに対する損失の記録\n",
    "\n",
    "    \"\"\"\n",
    "\n",
    "    def __init__(self, num_iter, lr, bias, verbose):\n",
    "        # ハイパーパラメータを属性として記録\n",
    "        self.iter = num_iter\n",
    "        self.lr = lr\n",
    "        self.bias = bias\n",
    "        self.verbose = verbose\n",
    "        # 損失を記録する配列を用意\n",
    "        self.loss = np.zeros(self.iter)\n",
    "        self.val_loss = np.zeros(self.iter)\n",
    "\n",
    "    def fit(self, X, y, X_val=None, y_val=None):\n",
    "        \"\"\"\n",
    "        線形回帰を学習する。検証用データが入力された場合はそれに対する損失と精度もイテレーションごとに計算する。\n",
    "\n",
    "        Parameters\n",
    "        ----------\n",
    "        X : 次の形のndarray, shape (n_samples, n_features)\n",
    "            学習用データの特徴量\n",
    "        y : 次の形のndarray, shape (n_samples, )\n",
    "            学習用データの正解値\n",
    "        X_val : 次の形のndarray, shape (n_samples, n_features)\n",
    "            検証用データの特徴量\n",
    "        y_val : 次の形のndarray, shape (n_samples, )\n",
    "            検証用データの正解値\n",
    "        \"\"\"\n",
    "        X = np.array(X)\n",
    "        X_val = np.array(X_val)\n",
    "        y = np.array(y)\n",
    "        y_val = np.array(y_val)\n",
    "        y = y.flatten()\n",
    "        y_val = y_val.flatten()\n",
    "        \n",
    "        n_features = X.shape[1]\n",
    "        if self.bias == True:\n",
    "            self.w = np.random.random_sample(n_features)\n",
    "        else:\n",
    "            self.w = np.random.random_sample(n_features+1)\n",
    "        for iter in range(self.iter):\n",
    "            pred = self._linear_hypothesis(X)\n",
    "            pred_val = self._linear_hypothesis(X_val)\n",
    "            error = y - pred\n",
    "            error_val = y_val - pred_val\n",
    "            self.w = self._gradient_descent(X, error)\n",
    "            self.loss[iter] = sum(((error**2)/2))/X.shape[0]\n",
    "            self.val_loss[iter] = sum(((error_val**2)/2))/X_val.shape[0]\n",
    "            \n",
    "            if self.verbose:\n",
    "                #verboseをTrueにした際は学習過程を出力\n",
    "                print(\"loss:{:.3f} val_loss:{:.3f}\".format(sum(((error**2)/2))/X.shape[0],sum(((error_val**2)/2))/X_val.shape[0]))\n",
    "        return self\n",
    "\n",
    "    def predict(self, X):\n",
    "        \"\"\"\n",
    "        線形回帰を使い推定する。\n",
    "\n",
    "        Parameters\n",
    "        ----------\n",
    "        X : 次の形のndarray, shape (n_samples, n_features)\n",
    "            サンプル\n",
    "\n",
    "        Returns\n",
    "        -------\n",
    "            次の形のndarray, shape (n_samples, 1)\n",
    "            線形回帰による推定結果\n",
    "        \"\"\"\n",
    "        if self.bias == True:\n",
    "            predict = np.dot(self.w, X.T)\n",
    "        else:\n",
    "            predict = np.dot(self.w[1:], X.T) + self.w[0]\n",
    "        \n",
    "        return predict\n",
    "    \n",
    "    def _linear_hypothesis(self, X):\n",
    "        \"\"\"\n",
    "        線形の仮定関数を計算する\n",
    "\n",
    "        Parameters\n",
    "        ----------\n",
    "        X : 次の形のndarray, shape (n_samples, n_features)\n",
    "          学習データ\n",
    "\n",
    "        Returns\n",
    "        -------\n",
    "          次の形のndarray, shape (n_samples, 1)\n",
    "          線形の仮定関数による推定結果\n",
    "\n",
    "        \"\"\"\n",
    "        if self.bias == True:\n",
    "            pred = np.dot(self.w, X.T)\n",
    "        else:\n",
    "            pred = np.dot(self.w[1:], X.T) + self.w[0]\n",
    "        return pred\n",
    "\n",
    "    def _gradient_descent(self, X, error):\n",
    "        \"\"\"\n",
    "        重みを更新する\n",
    "        \n",
    "        parameters\n",
    "        ------------\n",
    "        X : 次の形のndarray, shape (n_samples, n_features)\n",
    "          学習データ\n",
    "        \n",
    "        error : float\n",
    "          ターゲットと予測値の差\n",
    "        \n",
    "        Returns\n",
    "        -------\n",
    "          重みとバイアスのこ更新データ\n",
    "        \"\"\"\n",
    "        \n",
    "        if self.bias == False:\n",
    "            self.w[1:] += self.lr * np.dot(error, X)\n",
    "            self.w[0] += self.lr * error.sum()\n",
    "        else:\n",
    "            self.w += self.lr * np.dot(error, X)\n",
    "        return self.w"
   ]
  },
  {
   "cell_type": "markdown",
   "metadata": {},
   "source": [
    "# 【問題1】仮定関数\n",
    "以下の数式で表される線形回帰の仮定関数を実装してください。メソッドの雛形を用意してあります。"
   ]
  },
  {
   "cell_type": "markdown",
   "metadata": {},
   "source": [
    "上記ScratchLinearRegression雛形に記載"
   ]
  },
  {
   "cell_type": "markdown",
   "metadata": {},
   "source": [
    "# 【問題2】最急降下法\n",
    "最急降下法により学習させる実装を行なってください。以下の式で表されるパラメータの更新式のメソッド_gradient_descentを追加し、fit\n",
    "メソッドから呼び出すようにしてください。"
   ]
  },
  {
   "cell_type": "markdown",
   "metadata": {},
   "source": [
    "上記ScratchLinearRegression雛形に記載"
   ]
  },
  {
   "cell_type": "markdown",
   "metadata": {},
   "source": [
    "# 【問題3】推定\n",
    "推定する仕組みを実装してください。ScratchLinearRegressionクラスの雛形に含まれるpredictメソッドに書き加えてください。\n",
    "\n",
    "仮定関数の出力が推定結果です。"
   ]
  },
  {
   "cell_type": "markdown",
   "metadata": {},
   "source": [
    "上記ScratchLinearRegression雛形に記載"
   ]
  },
  {
   "cell_type": "markdown",
   "metadata": {},
   "source": [
    "# 【問題4】平均二乗誤差\n",
    "線形回帰の指標値として用いられる平均二乗誤差（mean square error, MSE）の関数を作成してください。\n",
    "\n",
    "平均二乗誤差関数は回帰問題全般で使える関数のため、ScratchLinearRegressionクラスのメソッドではなく、別の関数として作成してください。雛形を用意してあります。\n",
    "\n",
    "平均二乗誤差は以下の数式で表されます。"
   ]
  },
  {
   "cell_type": "code",
   "execution_count": 874,
   "metadata": {
    "ExecuteTime": {
     "end_time": "2020-02-08T03:49:11.989181Z",
     "start_time": "2020-02-08T03:49:11.982955Z"
    }
   },
   "outputs": [],
   "source": [
    "def MSE(y_pred, y):\n",
    "    \"\"\"\n",
    "    平均二乗誤差の計算\n",
    "\n",
    "    Parameters\n",
    "    ----------\n",
    "    y_pred : 次の形のndarray, shape (n_samples,)\n",
    "      推定した値\n",
    "    y : 次の形のndarray, shape (n_samples,)\n",
    "      正解値\n",
    "\n",
    "    Returns\n",
    "    ----------\n",
    "    mse : numpy.float\n",
    "      平均二乗誤差\n",
    "    \"\"\"\n",
    "    mse = np.sum((y - y_pred)**2) / len(y)\n",
    "    return mse"
   ]
  },
  {
   "cell_type": "markdown",
   "metadata": {},
   "source": [
    "# 【問題5】目的関数\n",
    "以下の数式で表される線形回帰の 目的関数（損失関数） を実装してください。そして、これをself.loss, self.val_lossに記録するようにしてください。\n",
    "\n",
    "目的関数（損失関数） \n",
    "J\n",
    "(\n",
    "θ\n",
    ")\n",
    " は次の式です。"
   ]
  },
  {
   "cell_type": "markdown",
   "metadata": {
    "ExecuteTime": {
     "end_time": "2020-02-06T03:12:52.620024Z",
     "start_time": "2020-02-06T03:12:52.615879Z"
    }
   },
   "source": [
    "上記ScratchLinearRegression雛形に記載"
   ]
  },
  {
   "cell_type": "markdown",
   "metadata": {},
   "source": [
    "# 【問題6】学習と推定\n",
    "機械学習スクラッチ入門のSprintで用意したHouse Pricesコンペティションのデータに対してスクラッチ実装の学習と推定を行なってください。\n",
    "\n",
    "scikit-learnによる実装と比べ、正しく動いているかを確認してください。"
   ]
  },
  {
   "cell_type": "code",
   "execution_count": 398,
   "metadata": {
    "ExecuteTime": {
     "end_time": "2020-02-06T07:37:21.296709Z",
     "start_time": "2020-02-06T07:37:21.286909Z"
    }
   },
   "outputs": [
    {
     "name": "stdout",
     "output_type": "stream",
     "text": [
      "/Users/niikurasayaka/diveintocode-ml/Week3\n"
     ]
    }
   ],
   "source": [
    "cd .."
   ]
  },
  {
   "cell_type": "code",
   "execution_count": 401,
   "metadata": {
    "ExecuteTime": {
     "end_time": "2020-02-06T07:37:51.571627Z",
     "start_time": "2020-02-06T07:37:51.565309Z"
    }
   },
   "outputs": [
    {
     "name": "stdout",
     "output_type": "stream",
     "text": [
      "/Users/niikurasayaka/diveintocode-ml/Week3/data\n"
     ]
    }
   ],
   "source": [
    "cd data"
   ]
  },
  {
   "cell_type": "code",
   "execution_count": 512,
   "metadata": {
    "ExecuteTime": {
     "end_time": "2020-02-07T01:22:47.725747Z",
     "start_time": "2020-02-07T01:22:47.650931Z"
    }
   },
   "outputs": [],
   "source": [
    "import pandas as pd\n",
    "df = pd.read_csv(\"train.csv\")"
   ]
  },
  {
   "cell_type": "code",
   "execution_count": 513,
   "metadata": {
    "ExecuteTime": {
     "end_time": "2020-02-07T01:22:49.153553Z",
     "start_time": "2020-02-07T01:22:49.138055Z"
    }
   },
   "outputs": [
    {
     "data": {
      "text/plain": [
       "Index(['Id', 'MSSubClass', 'MSZoning', 'LotFrontage', 'LotArea', 'Street',\n",
       "       'Alley', 'LotShape', 'LandContour', 'Utilities', 'LotConfig',\n",
       "       'LandSlope', 'Neighborhood', 'Condition1', 'Condition2', 'BldgType',\n",
       "       'HouseStyle', 'OverallQual', 'OverallCond', 'YearBuilt', 'YearRemodAdd',\n",
       "       'RoofStyle', 'RoofMatl', 'Exterior1st', 'Exterior2nd', 'MasVnrType',\n",
       "       'MasVnrArea', 'ExterQual', 'ExterCond', 'Foundation', 'BsmtQual',\n",
       "       'BsmtCond', 'BsmtExposure', 'BsmtFinType1', 'BsmtFinSF1',\n",
       "       'BsmtFinType2', 'BsmtFinSF2', 'BsmtUnfSF', 'TotalBsmtSF', 'Heating',\n",
       "       'HeatingQC', 'CentralAir', 'Electrical', '1stFlrSF', '2ndFlrSF',\n",
       "       'LowQualFinSF', 'GrLivArea', 'BsmtFullBath', 'BsmtHalfBath', 'FullBath',\n",
       "       'HalfBath', 'BedroomAbvGr', 'KitchenAbvGr', 'KitchenQual',\n",
       "       'TotRmsAbvGrd', 'Functional', 'Fireplaces', 'FireplaceQu', 'GarageType',\n",
       "       'GarageYrBlt', 'GarageFinish', 'GarageCars', 'GarageArea', 'GarageQual',\n",
       "       'GarageCond', 'PavedDrive', 'WoodDeckSF', 'OpenPorchSF',\n",
       "       'EnclosedPorch', '3SsnPorch', 'ScreenPorch', 'PoolArea', 'PoolQC',\n",
       "       'Fence', 'MiscFeature', 'MiscVal', 'MoSold', 'YrSold', 'SaleType',\n",
       "       'SaleCondition', 'SalePrice'],\n",
       "      dtype='object')"
      ]
     },
     "execution_count": 513,
     "metadata": {},
     "output_type": "execute_result"
    }
   ],
   "source": [
    "df.columns"
   ]
  },
  {
   "cell_type": "markdown",
   "metadata": {},
   "source": [
    "可視化できるように特徴量一つで学習してみる。"
   ]
  },
  {
   "cell_type": "code",
   "execution_count": 892,
   "metadata": {
    "ExecuteTime": {
     "end_time": "2020-02-08T03:52:41.663994Z",
     "start_time": "2020-02-08T03:52:41.655436Z"
    }
   },
   "outputs": [],
   "source": [
    "from sklearn.model_selection import train_test_split\n",
    "train_x = df[[\"GrLivArea\"]]\n",
    "train_y = df[\"SalePrice\"]\n",
    "tr_x, te_x, tr_y, te_y = train_test_split(train_x, train_y, random_state=1)"
   ]
  },
  {
   "cell_type": "markdown",
   "metadata": {},
   "source": [
    "SalePriceを対数化"
   ]
  },
  {
   "cell_type": "code",
   "execution_count": 893,
   "metadata": {
    "ExecuteTime": {
     "end_time": "2020-02-08T03:52:44.362603Z",
     "start_time": "2020-02-08T03:52:44.355809Z"
    }
   },
   "outputs": [],
   "source": [
    "tr_y = np.array(tr_y)\n",
    "te_y = np.array(te_y)\n",
    "tr_y = np.log10(tr_y)\n",
    "te_y = np.log10(te_y)"
   ]
  },
  {
   "cell_type": "markdown",
   "metadata": {},
   "source": [
    "標準化"
   ]
  },
  {
   "cell_type": "code",
   "execution_count": 894,
   "metadata": {
    "ExecuteTime": {
     "end_time": "2020-02-08T03:52:46.956496Z",
     "start_time": "2020-02-08T03:52:46.948692Z"
    }
   },
   "outputs": [],
   "source": [
    "from sklearn.preprocessing import StandardScaler\n",
    "scx = StandardScaler()\n",
    "tr_x = scx.fit_transform(tr_x)\n",
    "te_x = scx.transform(te_x)"
   ]
  },
  {
   "cell_type": "code",
   "execution_count": 895,
   "metadata": {
    "ExecuteTime": {
     "end_time": "2020-02-08T03:52:49.423931Z",
     "start_time": "2020-02-08T03:52:49.416803Z"
    }
   },
   "outputs": [
    {
     "data": {
      "text/plain": [
       "array([[ 0.32320933],\n",
       "       [ 0.1004104 ],\n",
       "       [ 0.82167474],\n",
       "       ...,\n",
       "       [-0.31686557],\n",
       "       [-1.01169614],\n",
       "       [-1.18729191]])"
      ]
     },
     "execution_count": 895,
     "metadata": {},
     "output_type": "execute_result"
    }
   ],
   "source": [
    "tr_x"
   ]
  },
  {
   "cell_type": "code",
   "execution_count": 896,
   "metadata": {
    "ExecuteTime": {
     "end_time": "2020-02-08T03:52:52.062979Z",
     "start_time": "2020-02-08T03:52:52.059755Z"
    }
   },
   "outputs": [],
   "source": [
    "slr = ScratchLinearRegression(num_iter=3000, lr=0.0001, bias=False, verbose=False)"
   ]
  },
  {
   "cell_type": "code",
   "execution_count": 897,
   "metadata": {
    "ExecuteTime": {
     "end_time": "2020-02-08T03:52:55.385401Z",
     "start_time": "2020-02-08T03:52:54.548344Z"
    }
   },
   "outputs": [
    {
     "data": {
      "text/plain": [
       "<__main__.ScratchLinearRegression at 0x1368baad0>"
      ]
     },
     "execution_count": 897,
     "metadata": {},
     "output_type": "execute_result"
    }
   ],
   "source": [
    "slr.fit(tr_x, tr_y, te_x, te_y)"
   ]
  },
  {
   "cell_type": "code",
   "execution_count": 898,
   "metadata": {
    "ExecuteTime": {
     "end_time": "2020-02-08T03:52:57.966248Z",
     "start_time": "2020-02-08T03:52:57.958587Z"
    }
   },
   "outputs": [
    {
     "data": {
      "text/plain": [
       "array([5.26443293, 5.23806599, 5.32342338, ..., 5.18868383, 5.10645472,\n",
       "       5.08567399])"
      ]
     },
     "execution_count": 898,
     "metadata": {},
     "output_type": "execute_result"
    }
   ],
   "source": [
    "slr.predict(tr_x)"
   ]
  },
  {
   "cell_type": "code",
   "execution_count": 899,
   "metadata": {
    "ExecuteTime": {
     "end_time": "2020-02-08T03:53:00.791544Z",
     "start_time": "2020-02-08T03:53:00.608991Z"
    }
   },
   "outputs": [
    {
     "data": {
      "image/png": "[encoded data removed]",
      "text/plain": [
       "<Figure size 432x288 with 1 Axes>"
      ]
     },
     "metadata": {
      "needs_background": "light"
     },
     "output_type": "display_data"
    }
   ],
   "source": [
    "import matplotlib.pyplot as plt\n",
    "x = np.arange(-3, 6, 0.1).reshape(-1, 1)\n",
    "plt.scatter(tr_x, tr_y, label=\"train_data\")\n",
    "plt.scatter(te_x, te_y, marker=\"^\", color=\"orange\", label=\"val_data\")\n",
    "plt.plot(x, slr.predict(x), color=\"b\")\n",
    "plt.legend(loc='lower right')\n",
    "plt.xlabel(\"GrLivArea(Standardization)\")\n",
    "plt.ylabel('SalePrice(Logarithmic)')\n",
    "plt.show()"
   ]
  },
  {
   "cell_type": "markdown",
   "metadata": {},
   "source": [
    "# 【問題7】学習曲線のプロット\n",
    "学習曲線を表示する関数を作成し、実行してください。グラフを見て損失が適切に下がっているかどうか確認してください。\n",
    "\n",
    "線形回帰クラスの雛形ではself.loss, self.val_lossに損失を記録しておくようになっているため、入力にはこれを利用してください。"
   ]
  },
  {
   "cell_type": "code",
   "execution_count": 900,
   "metadata": {
    "ExecuteTime": {
     "end_time": "2020-02-08T03:53:44.655946Z",
     "start_time": "2020-02-08T03:53:44.652466Z"
    }
   },
   "outputs": [],
   "source": [
    "los_tr = slr.loss\n",
    "los_val = slr.val_loss\n",
    "x = np.arange(1, slr.iter+1)"
   ]
  },
  {
   "cell_type": "code",
   "execution_count": 901,
   "metadata": {
    "ExecuteTime": {
     "end_time": "2020-02-08T03:53:47.436076Z",
     "start_time": "2020-02-08T03:53:47.428931Z"
    }
   },
   "outputs": [
    {
     "data": {
      "text/plain": [
       "3000"
      ]
     },
     "execution_count": 901,
     "metadata": {},
     "output_type": "execute_result"
    }
   ],
   "source": [
    "len(los_tr)"
   ]
  },
  {
   "cell_type": "code",
   "execution_count": 902,
   "metadata": {
    "ExecuteTime": {
     "end_time": "2020-02-08T03:53:50.176929Z",
     "start_time": "2020-02-08T03:53:50.002306Z"
    }
   },
   "outputs": [
    {
     "data": {
      "text/plain": [
       "[<matplotlib.lines.Line2D at 0x1484d1e10>]"
      ]
     },
     "execution_count": 902,
     "metadata": {},
     "output_type": "execute_result"
    },
    {
     "data": {
      "image/png": "[encoded data removed]",
      "text/plain": [
       "<Figure size 432x288 with 1 Axes>"
      ]
     },
     "metadata": {
      "needs_background": "light"
     },
     "output_type": "display_data"
    }
   ],
   "source": [
    "plt.plot(x, los_tr)\n",
    "plt.plot(x, los_val, color=\"r\")"
   ]
  },
  {
   "cell_type": "code",
   "execution_count": 903,
   "metadata": {
    "ExecuteTime": {
     "end_time": "2020-02-08T03:53:53.982666Z",
     "start_time": "2020-02-08T03:53:53.753787Z"
    }
   },
   "outputs": [
    {
     "data": {
      "image/png": "[encoded data removed]",
      "text/plain": [
       "<Figure size 432x288 with 1 Axes>"
      ]
     },
     "metadata": {
      "needs_background": "light"
     },
     "output_type": "display_data"
    }
   ],
   "source": [
    "x = np.arange(-3, 6, 0.1).reshape(-1, 1)\n",
    "plt.scatter(tr_x, tr_y, label=\"train_data\")\n",
    "plt.scatter(te_x, te_y, marker=\"^\", color=\"orange\", label=\"val_data\")\n",
    "plt.plot(x, slr.predict(x), color=\"b\")\n",
    "plt.legend(loc='lower right')\n",
    "plt.xlabel(\"GrLivArea(Standardization)\")\n",
    "plt.ylabel('SalePrice(Logarithmic)')\n",
    "plt.show()"
   ]
  },
  {
   "cell_type": "markdown",
   "metadata": {},
   "source": [
    "# 【問題8】（アドバンス課題）バイアス項の除去\n",
    "バイアス項 \n",
    "θ\n",
    "0\n",
    " を抜くと学習がどう変化するか検証してください。また、線形回帰モデルにおけるバイアス項の役割の考察・調査を行ってください。"
   ]
  },
  {
   "cell_type": "code",
   "execution_count": 851,
   "metadata": {
    "ExecuteTime": {
     "end_time": "2020-02-08T03:42:34.876647Z",
     "start_time": "2020-02-08T03:42:34.873674Z"
    }
   },
   "outputs": [],
   "source": [
    "slr = ScratchLinearRegression(num_iter=3000, lr=0.0001, bias=True, verbose=False)"
   ]
  },
  {
   "cell_type": "code",
   "execution_count": 852,
   "metadata": {
    "ExecuteTime": {
     "end_time": "2020-02-08T03:42:38.585521Z",
     "start_time": "2020-02-08T03:42:37.776338Z"
    }
   },
   "outputs": [
    {
     "data": {
      "text/plain": [
       "<__main__.ScratchLinearRegression at 0x14c9a92d0>"
      ]
     },
     "execution_count": 852,
     "metadata": {},
     "output_type": "execute_result"
    }
   ],
   "source": [
    "slr.fit(tr_x, tr_y, te_x, te_y)"
   ]
  },
  {
   "cell_type": "code",
   "execution_count": 854,
   "metadata": {
    "ExecuteTime": {
     "end_time": "2020-02-08T03:42:52.573017Z",
     "start_time": "2020-02-08T03:42:52.326570Z"
    }
   },
   "outputs": [
    {
     "data": {
      "image/png": "[encoded data removed]",
      "text/plain": [
       "<Figure size 432x288 with 1 Axes>"
      ]
     },
     "metadata": {
      "needs_background": "light"
     },
     "output_type": "display_data"
    }
   ],
   "source": [
    "x = np.arange(-3, 6, 0.1).reshape(-1, 1)\n",
    "plt.scatter(tr_x, tr_y, label=\"train_data\")\n",
    "plt.scatter(te_x, te_y, marker=\"^\", color=\"orange\", label=\"val_data\")\n",
    "plt.plot(x, slr.predict(x), color=\"b\")\n",
    "plt.legend(loc='lower right')\n",
    "plt.xlabel(\"GrLivArea(Standardization)\")\n",
    "plt.ylabel('SalePrice(Logarithmic)')\n",
    "plt.show()"
   ]
  },
  {
   "cell_type": "markdown",
   "metadata": {},
   "source": [
    "bias項を除くと必ず原点を通るようになるため学習がうまくいかなくなる。"
   ]
  },
  {
   "cell_type": "markdown",
   "metadata": {},
   "source": [
    "# 【問題9】（アドバンス課題）特徴量の多次元化\n",
    "特徴量の二乗や三乗を入力に利用すると学習結果がどう変化するか検証してください。"
   ]
  },
  {
   "cell_type": "code",
   "execution_count": 867,
   "metadata": {
    "ExecuteTime": {
     "end_time": "2020-02-08T03:46:40.187410Z",
     "start_time": "2020-02-08T03:46:40.180547Z"
    }
   },
   "outputs": [],
   "source": [
    "train_x2 = df[[\"GrLivArea\"]]**2\n",
    "train_y2 = df[\"SalePrice\"]"
   ]
  },
  {
   "cell_type": "code",
   "execution_count": 868,
   "metadata": {
    "ExecuteTime": {
     "end_time": "2020-02-08T03:46:42.826611Z",
     "start_time": "2020-02-08T03:46:42.821474Z"
    }
   },
   "outputs": [],
   "source": [
    "slr = ScratchLinearRegression(num_iter=3000, lr=0.0001, bias=False, verbose=False)"
   ]
  },
  {
   "cell_type": "code",
   "execution_count": 869,
   "metadata": {
    "ExecuteTime": {
     "end_time": "2020-02-08T03:46:45.186472Z",
     "start_time": "2020-02-08T03:46:45.178722Z"
    }
   },
   "outputs": [],
   "source": [
    "tr_x, te_x, tr_y, te_y = train_test_split(train_x2, train_y2, random_state=1)"
   ]
  },
  {
   "cell_type": "code",
   "execution_count": 870,
   "metadata": {
    "ExecuteTime": {
     "end_time": "2020-02-08T03:46:47.549021Z",
     "start_time": "2020-02-08T03:46:47.531337Z"
    }
   },
   "outputs": [],
   "source": [
    "tr_y = np.array(tr_y)\n",
    "te_y = np.array(te_y)\n",
    "tr_y = np.log10(tr_y)\n",
    "te_y = np.log10(te_y)\n",
    "from sklearn.preprocessing import StandardScaler\n",
    "scx = StandardScaler()\n",
    "tr_x = scx.fit_transform(tr_x)\n",
    "te_x = scx.transform(te_x)"
   ]
  },
  {
   "cell_type": "code",
   "execution_count": 871,
   "metadata": {
    "ExecuteTime": {
     "end_time": "2020-02-08T03:46:50.855816Z",
     "start_time": "2020-02-08T03:46:50.020321Z"
    }
   },
   "outputs": [
    {
     "data": {
      "text/plain": [
       "<__main__.ScratchLinearRegression at 0x14a7c9e50>"
      ]
     },
     "execution_count": 871,
     "metadata": {},
     "output_type": "execute_result"
    }
   ],
   "source": [
    "slr.fit(tr_x, tr_y, te_x, te_y)"
   ]
  },
  {
   "cell_type": "code",
   "execution_count": 872,
   "metadata": {
    "ExecuteTime": {
     "end_time": "2020-02-08T03:46:53.671934Z",
     "start_time": "2020-02-08T03:46:53.488266Z"
    }
   },
   "outputs": [
    {
     "data": {
      "image/png": "[encoded data removed]",
      "text/plain": [
       "<Figure size 432x288 with 1 Axes>"
      ]
     },
     "metadata": {
      "needs_background": "light"
     },
     "output_type": "display_data"
    }
   ],
   "source": [
    "x = np.arange(-3, 6, 0.1).reshape(-1, 1)\n",
    "plt.scatter(tr_x, tr_y, label=\"train_data\")\n",
    "plt.scatter(te_x, te_y, marker=\"^\", color=\"orange\", label=\"val_data\")\n",
    "plt.plot(x, slr.predict(x), color=\"b\")\n",
    "plt.legend(loc='lower right')\n",
    "plt.xlabel(\"GrLivArea(Standardization)\")\n",
    "plt.ylabel('SalePrice(Logarithmic)')\n",
    "plt.show()"
   ]
  },
  {
   "cell_type": "markdown",
   "metadata": {},
   "source": [
    "# 【問題10】（アドバンス課題）更新式の導出\n",
    "最急降下法の更新式は以下でした。この式が導出される過程を説明してください。\n",
    "θ\n",
    "j\n",
    ":=\n",
    "θ\n",
    "j\n",
    "−\n",
    "α\n",
    "1\n",
    "m\n",
    "m\n",
    "∑\n",
    "i\n",
    "=\n",
    "1\n",
    " \n",
    "[\n",
    "(\n",
    "h\n",
    "θ\n",
    "(\n",
    "x\n",
    "(\n",
    "i\n",
    ")\n",
    ")\n",
    "−\n",
    "y\n",
    "(\n",
    "i\n",
    ")\n",
    ")\n",
    "x\n",
    "(\n",
    "i\n",
    ")\n",
    "j\n",
    "]\n",
    "以下の式から説明をはじめることができます。\n",
    "\n",
    "θ\n",
    "j\n",
    ":=\n",
    "θ\n",
    "j\n",
    "−\n",
    "∂\n",
    "∂\n",
    "θ\n",
    "j\n",
    "J\n",
    "(\n",
    "θ\n",
    ")\n",
    "目的関数（損失関数） \n",
    "J\n",
    "(\n",
    "θ\n",
    ")\n",
    " は次の式です。\n",
    "\n",
    "J\n",
    "(\n",
    "θ\n",
    ")\n",
    "=\n",
    "1\n",
    "2\n",
    "m\n",
    "m\n",
    "∑\n",
    "i\n",
    "=\n",
    "1\n",
    " \n",
    "(\n",
    "h\n",
    "θ\n",
    "(\n",
    "x\n",
    "(\n",
    "i\n",
    ")\n",
    ")\n",
    "−\n",
    "y\n",
    "(\n",
    "i\n",
    ")\n",
    ")\n",
    "2\n",
    "."
   ]
  },
  {
   "cell_type": "markdown",
   "metadata": {},
   "source": [
    "$$\n",
    "J(θ) = \\frac{1}{2m}\\sum_{i=1}^{m}(h_θ(x^{(i)})-y^{(i)})^2\n",
    "$$\n",
    "$$\n",
    "f(g(x))\n",
    "$$\n",
    "の微分は\n",
    "$$\n",
    "f'(g(x))g'(x)\n",
    "$$\n",
    "なので\n",
    "$$\n",
    "J'(θ) = \\frac{1}{m}\\sum_{i=1}^{m}(h_θ(x^{(i)})-y^{(i)})x_j^{(i)}\n",
    "$$\n",
    "これに学習率をかけたものを重みに足して更新する。\n",
    "$$\n",
    "θ_j := θ_j - α\\frac{1}{m}\\sum_{i=1}^{m}(h_θ(x^{(i)})-y^{(i)})x_j^{(i)}\n",
    "$$"
   ]
  },
  {
   "cell_type": "markdown",
   "metadata": {},
   "source": [
    "\n"
   ]
  },
  {
   "cell_type": "markdown",
   "metadata": {},
   "source": [
    "# 【問題11】（アドバンス課題）局所最適解の問題\n",
    "最急降下法には一般的に局所最適解の問題があります。しかし、線形回帰では学習を続ければ必ず最適解を求めることができます。それはなぜか数式やグラフを用いて説明してください。"
   ]
  },
  {
   "cell_type": "markdown",
   "metadata": {},
   "source": [
    "(回答)\\\n",
    "最適解＝コスト関数を最小化する。　線形回帰のコスト関数は二次関数で凸部分が１箇所しかないので学習を続ければ必ずその凸部分におさまる。\n",
    "\n",
    "$$\n",
    "J(θ) = \\frac{1}{2m}\\sum_{i=1}^{m}(h_θ(x^{(i)})-y^{(i)})^2\n",
    "$$"
   ]
  },
  {
   "cell_type": "code",
   "execution_count": null,
   "metadata": {},
   "outputs": [],
   "source": []
  }
 ],
 "metadata": {
  "kernelspec": {
   "display_name": "Python 3",
   "language": "python",
   "name": "python3"
  },
  "language_info": {
   "codemirror_mode": {
    "name": "ipython",
    "version": 3
   },
   "file_extension": ".py",
   "mimetype": "text/x-python",
   "name": "python",
   "nbconvert_exporter": "python",
   "pygments_lexer": "ipython3",
   "version": "3.7.6"
  },
  "nbTranslate": {
   "displayLangs": [
    "*"
   ],
   "hotkey": "alt-t",
   "langInMainMenu": true,
   "sourceLang": "en",
   "targetLang": "fr",
   "useGoogleTranslate": true
  },
  "toc": {
   "base_numbering": 1,
   "nav_menu": {},
   "number_sections": true,
   "sideBar": true,
   "skip_h1_title": false,
   "title_cell": "Table of Contents",
   "title_sidebar": "Contents",
   "toc_cell": false,
   "toc_position": {},
   "toc_section_display": true,
   "toc_window_display": false
  },
  "varInspector": {
   "cols": {
    "lenName": 16,
    "lenType": 16,
    "lenVar": 40
   },
   "kernels_config": {
    "python": {
     "delete_cmd_postfix": "",
     "delete_cmd_prefix": "del ",
     "library": "var_list.py",
     "varRefreshCmd": "print(var_dic_list())"
    },
    "r": {
     "delete_cmd_postfix": ") ",
     "delete_cmd_prefix": "rm(",
     "library": "var_list.r",
     "varRefreshCmd": "cat(var_dic_list()) "
    }
   },
   "types_to_exclude": [
    "module",
    "function",
    "builtin_function_or_method",
    "instance",
    "_Feature"
   ],
   "window_display": false
  }
 },
 "nbformat": 4,
 "nbformat_minor": 2
}
