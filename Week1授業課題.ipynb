{
 "cells": [
  {
   "cell_type": "markdown",
   "metadata": {},
   "source": [
    "（課題１）曽呂利新左衛門問題"
   ]
  },
  {
   "cell_type": "markdown",
   "metadata": {
    "colab_type": "text",
    "id": "n3aol-5NroTe"
   },
   "source": [
    "【問題1】100日目の米粒の数\n",
    "100日目には合計で米粒をいくつもらっているのかを計算するコードを作成し、答えを出力してください。また、1日目から100日目までの「その日にもらう米の数」と「その日までに累計で貰う米の数」の推移を折れ線グラフで表現してください。（縦軸が米の数、横軸が日数）\n"
   ]
  },
  {
   "cell_type": "code",
   "execution_count": 98,
   "metadata": {
    "colab": {
     "base_uri": "https://localhost:8080/",
     "height": 295
    },
    "colab_type": "code",
    "id": "jTq43FwgrkoU",
    "outputId": "654ca3a8-86c1-4f46-e2ff-380aeff268a8"
   },
   "outputs": [
    {
     "name": "stdout",
     "output_type": "stream",
     "text": [
      "100日目までにもらっている米粒は合計:1.27e+30粒\n"
     ]
    },
    {
     "data": {
      "image/png": "[encoded data removed]",
      "text/plain": [
       "<Figure size 432x288 with 1 Axes>"
      ]
     },
     "metadata": {
      "needs_background": "light"
     },
     "output_type": "display_data"
    }
   ],
   "source": [
    "\"\"\"\n",
    "１００日目までにもらっている米粒の量の累積数\n",
    "および増加の推移\n",
    "\"\"\"\n",
    "\n",
    "import numpy as np\n",
    "import matplotlib.pyplot as plt\n",
    "%matplotlib inline\n",
    "\n",
    "\n",
    "rice_sin = [] # 当日のお米\n",
    "rice_cum = [] # 累積のお米\n",
    "days = 100\n",
    "total = 0\n",
    "\n",
    "\n",
    "for i in range(days):\n",
    "    rice = 1 * 2 ** i\n",
    "    total += rice\n",
    "    rice_sin.append(rice)\n",
    "    rice_cum.append(total)\n",
    "\n",
    "print(\"100日目までにもらっている米粒は合計:{:.2e}粒\".format(rice_cum[-1]))    \n",
    "\n",
    "\n",
    "plt.plot(np.arange(1, 101), rice_sin)\n",
    "plt.plot(np.arange(1, 101), rice_cum, linestyle='--')\n",
    "plt.xlabel(\"day\")\n",
    "plt.ylabel(\"number of rice\")\n",
    "plt.show()"
   ]
  },
  {
   "cell_type": "markdown",
   "metadata": {},
   "source": [
    "【問題2】100日目以外の米粒の数\n",
    "この逸話は30日だったり81日だったりと日数が曖昧です。どの話にも対応できるように日数を引数とした 関数 を作成しましょう。関数を作成した上で、コースを受講する日数の間でいくつ米粒をもらえるかを答えてください。前の問題同様に折れ線グラフも出力してください。\n"
   ]
  },
  {
   "cell_type": "code",
   "execution_count": 96,
   "metadata": {
    "colab": {
     "base_uri": "https://localhost:8080/",
     "height": 312
    },
    "colab_type": "code",
    "id": "9PWdoTTG3q1m",
    "outputId": "ec719964-0a81-47cd-b7c6-992edbed6291"
   },
   "outputs": [
    {
     "name": "stdout",
     "output_type": "stream",
     "text": [
      "コースの受講が終了する112日目までにもらっている米粒は合計:5.19e+33粒\n"
     ]
    },
    {
     "data": {
      "image/png": "[encoded data removed]",
      "text/plain": [
       "<Figure size 432x288 with 1 Axes>"
      ]
     },
     "metadata": {
      "needs_background": "light"
     },
     "output_type": "display_data"
    }
   ],
   "source": [
    "\"\"\"\n",
    "問１を関数化する\n",
    "コースの受講期間は１月９日〜４月３０日までとし、合計１１２日間とする。\n",
    "\"\"\"\n",
    "\n",
    "import numpy as np\n",
    "import matplotlib.pyplot as plt\n",
    "%matplotlib inline\n",
    "\n",
    "def count_rice(days=None):\n",
    "    \"\"\"任意の日にちの間にもえらえる米粒の量を計算する関数\n",
    "    \n",
    "    パラメーター\n",
    "    ーーーーーーーーー\n",
    "    rice : int\n",
    "        その日にもらえる米粒の計算結果\n",
    "        \n",
    "    total : int\n",
    "        累積の米粒を計算するために用いる\n",
    "        \n",
    "    \n",
    "    戻り値\n",
    "    ーーーーーーーーー\n",
    "    rice_sin：リスト\n",
    "        その日にもらえる米粒\n",
    "    \n",
    "    rice_cum：リスト\n",
    "        もらえる米粒の累積数\n",
    "    \"\"\"\n",
    "    \n",
    "    rice_sin = []\n",
    "    rice_cum = [] \n",
    "    total = 0\n",
    "\n",
    "    for i in range(days):\n",
    "        rice = 1 * 2 ** i\n",
    "        total += rice\n",
    "        rice_sin.append(rice)\n",
    "        rice_cum.append(total)\n",
    "\n",
    "    return rice_sin, rice_cum\n",
    "\n",
    "\n",
    "days = 112\n",
    "\n",
    "rice_sin, rice_cum = count_rice(days)\n",
    "print(\"コースの受講が終了する{}日目までにもらっている\"\n",
    "        \"米粒は合計:{:.2e}粒\".format(days, rice_cum[-1]))    \n",
    "plt.plot(np.arange(1, days+1), rice_sin)\n",
    "plt.plot(np.arange(1, days+1), rice_cum, linestyle='--')\n",
    "plt.xlabel(\"day\")\n",
    "plt.ylabel(\"number of rice\")\n",
    "plt.show()"
   ]
  },
  {
   "cell_type": "markdown",
   "metadata": {
    "colab_type": "text",
    "id": "TYAUqv5bMWAj"
   },
   "source": [
    "【問題3】何人が何日生活できる米か\n",
    "この米があれば何人が何日生活できるか計算する関数を作成してください。コースを受講する期間に貰える米粒で、このクラスにいる人数であれば、何日間生活できるかを出力してみましょう。\n",
    "\n",
    "関数の最低限の入力は 米粒の数(int) と 人数(int) 、出力は 生活できる日数(int) です。関数名やコメントなどは分かりやすく考えて作成してください。\n",
    "\n",
    "ここでは1日に必要な米粒の数は提示しません。自分なりに調べて、計算式に落とし込んでください。どう調べ、何を根拠にしたかもコメントを残しておいてください。\n"
   ]
  },
  {
   "cell_type": "code",
   "execution_count": 34,
   "metadata": {
    "colab": {},
    "colab_type": "code",
    "id": "7zpKsJeaMWgE"
   },
   "outputs": [
    {
     "name": "stdout",
     "output_type": "stream",
     "text": [
      "397600.0\n"
     ]
    }
   ],
   "source": [
    "\"\"\"\n",
    "<考え方>\n",
    "ご飯１杯１５０gのカロリー２５２kcal\n",
    "ご飯１杯１５０gに相当する米の粒量３２５０粒\n",
    "成人男性１人あたり１日に2200kcal必要と仮定し\n",
    "１日あたりの１人の米粒の摂取量は：3250*2200/252（※１）\n",
    "コース受講生＋メンター＝１４人とし\n",
    "１日あたりに必要な米の量は：※１＊１４\n",
    "\"\"\"\n",
    "\n",
    "\n",
    "#問２のrice_cumを使用し\n",
    "number_of_rice = rice_cum[-1]\n",
    "\n",
    "#前提条件（考え方）を変数に格納\n",
    "kcal_per_cup = 252\n",
    "count_rice_per_cup = 3250\n",
    "kcal_per_man = 2200\n",
    "count_men = 14 #受講生＋メンター\n",
    "\n",
    "\n",
    "#１日あたりの１人の米粒の摂取量(100粒単位に四捨五入)\n",
    "number_of_rice_per_dayman = round(count_rice_per_cup * kcal_per_man / kcal_per_cup, -2)\n",
    "#１日あたりのコース受講生の米粒の摂取量\n",
    "number_of_rice_per_day = number_of_rice_per_dayman * count_men"
   ]
  },
  {
   "cell_type": "code",
   "execution_count": 42,
   "metadata": {},
   "outputs": [
    {
     "name": "stdout",
     "output_type": "stream",
     "text": [
      "コースを受講する期間に貰える米粒でコース受講生14人は約(1.31e+28)日間生活できる。\n"
     ]
    }
   ],
   "source": [
    "print(\"コースを受講する期間に貰える米粒でコース受講生{}人は約({:.2e})\"\n",
    "        \"日間生活できる。\".format(count_men, number_of_rice / number_of_rice_per_day))"
   ]
  },
  {
   "cell_type": "markdown",
   "metadata": {},
   "source": [
    "（課題２）何回折ったら富士山を超えるか問題\n"
   ]
  },
  {
   "cell_type": "markdown",
   "metadata": {},
   "source": [
    "【問題1】富士山を超える最小の折る回数\n",
    "厚さが「富士山(3776m)」を超えるのは何回紙を折った時か計算するプログラムを作成してください。"
   ]
  },
  {
   "cell_type": "code",
   "execution_count": 48,
   "metadata": {},
   "outputs": [
    {
     "name": "stdout",
     "output_type": "stream",
     "text": [
      "26\n"
     ]
    }
   ],
   "source": [
    "mt_fuji = 3776\n",
    "Thickness = 0.00008\n",
    "thickness = Thickness\n",
    "n_folded = 0\n",
    "\n",
    "#何回折れば厚さが富士山を超えるかを計算\n",
    "while mt_fuji > thickness: \n",
    "    thickness = thickness * 2\n",
    "    n_folded += 1\n",
    "\n",
    "print(n_folded)"
   ]
  },
  {
   "cell_type": "markdown",
   "metadata": {},
   "source": [
    "【問題2】任意の厚さに対応した関数を作成\n",
    "距離を入力すると、何回折った時に超えるかを出力する関数を作成してください。引数として、折る前の厚さ t0\n",
    " も設定できるようにしましょう。\n",
    "この関数を利用して、「最も近い太陽以外の恒星」に到達するには紙を何回折る必要があるか計算してください。「最も近い太陽以外の恒星」の距離は調査してください。"
   ]
  },
  {
   "cell_type": "code",
   "execution_count": 49,
   "metadata": {},
   "outputs": [],
   "source": [
    "def fold_paper(thickness=0.00008, distance=None):\n",
    "    \"\"\"\n",
    "    与えられた距離を超える折りたたみの回数を算出\n",
    "    \n",
    "    パラメーター\n",
    "    ーーーーーーーーーー\n",
    "    thickness : float\n",
    "        紙の厚さ\n",
    "    \n",
    "    distance : int or float\n",
    "        目標までの距離\n",
    "    \n",
    "    戻り値\n",
    "    ーーーーーーーーーー\n",
    "    n_folded : int\n",
    "        折った回数        \n",
    "    \n",
    "    \"\"\"\n",
    "    n_folded = 0\n",
    "    while  distance > thickness : \n",
    "        thickness = thickness * 2\n",
    "        n_folded += 1    \n",
    "    return n_folded"
   ]
  },
  {
   "cell_type": "code",
   "execution_count": 102,
   "metadata": {},
   "outputs": [
    {
     "name": "stdout",
     "output_type": "stream",
     "text": [
      "69回\n"
     ]
    }
   ],
   "source": [
    "#最も近い太陽以外の恒星」に到達するには紙を何回折る必要があるか\n",
    "fixed_star_dis = 4.243 * 9.46 * 10**15 \n",
    "print(fold_paper(distance=fixed_star_dis), \"回\", sep='')"
   ]
  },
  {
   "cell_type": "markdown",
   "metadata": {},
   "source": [
    "【問題3】必要な紙の長さ\n",
    "実際のところ身近にある紙は43回はおろか10回も折れません。しかし、大きな紙ほどたくさん折ることができ、トイレットペーパーのような長い紙を一方向に折ることを考えた時の折れる回数を求める公式が存在します。\n",
    "公式を利用して、実際に紙を折り任意の厚さに到達するために必要な紙の長さを求める関数を作成してください。\n",
    "そしてこれを使って「月」「富士山」「最も近い太陽以外の恒星」に届くために必要な紙の長さを求めてください。"
   ]
  },
  {
   "cell_type": "code",
   "execution_count": 51,
   "metadata": {},
   "outputs": [],
   "source": [
    "import numpy as np\n",
    "def paper_length(thickness=0.00008, n_folded=None):\n",
    "    \"\"\"\n",
    "    紙を折り任意の厚さに到達するために必要な紙の長さを求める関数\n",
    "    \n",
    "    パラメーター\n",
    "    ーーーーーーーーーー\n",
    "    n_folded : int\n",
    "        折る回数\n",
    "    \n",
    "    戻り値 \n",
    "    ーーーーーーーーーー\n",
    "    length : float\n",
    "        指定回数折るためん必要な紙の長さ\n",
    "    \"\"\"\n",
    "    \n",
    "    length = (np.pi * thickness / 6) * (2**n_folded + 4) * (2**n_folded -1)\n",
    "    return length"
   ]
  },
  {
   "cell_type": "code",
   "execution_count": 60,
   "metadata": {},
   "outputs": [
    {
     "name": "stdout",
     "output_type": "stream",
     "text": [
      "49回折る際に必要な紙の長さは1.33e+25メートル\n"
     ]
    }
   ],
   "source": [
    "i = 49\n",
    "print(\"{}回折る際に必要な紙の長さは{:.2e}メートル\".format(i, paper_length(n_folded=i)))"
   ]
  },
  {
   "cell_type": "code",
   "execution_count": 62,
   "metadata": {},
   "outputs": [
    {
     "name": "stdout",
     "output_type": "stream",
     "text": [
      "折った紙の厚さが『富士山』に達するためには、紙の長さは1.89e+11メートル必要\n",
      "折った紙の厚さが『最も近い太陽以外の恒星』に達するためには、紙の長さは1.46e+37メートル必要\n",
      "折った紙の厚さが『月』に達するためには、紙の長さは3.24e+21メートル必要\n"
     ]
    }
   ],
   "source": [
    "mt_fuji = 3776\n",
    "fuji_folded = fold_paper(distance=mt_fuji) #富士山\n",
    "print(\"折った紙の厚さが『富士山』に達するためには、紙の長さは{:.2e}\"\n",
    "        \"メートル必要\".format(paper_length(n_folded=fuji_folded)))\n",
    "\n",
    "fixed_star_dis = 4.243 * 9.46 * 10**15 \n",
    "fixed_star_folded = fold_paper(distance=fixed_star_dis) #恒星\n",
    "print(\"折った紙の厚さが『最も近い太陽以外の恒星』に達するためには、紙の長さは{:.2e}\"\n",
    "        \"メートル必要\".format(paper_length(n_folded=fixed_star_folded)))\n",
    "\n",
    "moon = 384400000\n",
    "moon_folded = fold_paper(distance=moon) #月\n",
    "print(\"折った紙の厚さが『月』に達するためには、紙の長さは{:.2e}\"\n",
    "        \"メートル必要\".format(paper_length(n_folded=moon_folded)))"
   ]
  },
  {
   "cell_type": "markdown",
   "metadata": {},
   "source": [
    "（課題３）栗まんじゅう問題"
   ]
  },
  {
   "cell_type": "markdown",
   "metadata": {},
   "source": [
    "1個の栗まんじゅうにバイバインを振りかけた場合、太陽系が栗まんじゅうで覆われるのは何分後でしょうか。これを計算するプログラムを作成してください。\n",
    "\n",
    "栗まんじゅうや太陽系の体積を調査した上で仮定して計算してください。栗まんじゅうの隙間や重力などは考えず、問題を単純化して構いません。\n",
    "\n",
    "ボールにバイバインを振りかけた時、東京ドームが一杯になる時間など他の状況にも適用できるような汎用的なプログラムを作成してください。また、グラフを表示するなど分かりやすいノートブックを作成してください。"
   ]
  },
  {
   "cell_type": "code",
   "execution_count": 89,
   "metadata": {},
   "outputs": [
    {
     "name": "stdout",
     "output_type": "stream",
     "text": [
      "太陽系が栗まんじゅうで覆われるのは710分後\n"
     ]
    },
    {
     "data": {
      "image/png": "[encoded data removed]",
      "text/plain": [
       "<Figure size 432x288 with 1 Axes>"
      ]
     },
     "metadata": {
      "needs_background": "light"
     },
     "output_type": "display_data"
    }
   ],
   "source": [
    "import math\n",
    "import numpy as np\n",
    "import matplotlib.pyplot as plt\n",
    "%matplotlib inline\n",
    "\n",
    "\n",
    "def check_vol_kuriman(origin_vol, target_vol):\n",
    "    \"\"\"\n",
    "    1個の栗まんじゅうにバイバインを振りかけた場合、太陽系が栗まんじゅうで\n",
    "    覆われるのは何分後を計算する関数\n",
    "    \n",
    "    パラメーター\n",
    "    ーーーーーーーーーー\n",
    "    origin_vol : float\n",
    "        増加する対象物の体積\n",
    "    target_vol : float\n",
    "        ターゲットの体積\n",
    "    \n",
    "    戻り値\n",
    "    ーーーーーーーーーー\n",
    "    minutes : int\n",
    "        増加する対象物の体積がターゲットの体積を超える時間\n",
    "    \n",
    "    kuriman_list : リスト\n",
    "        origin_volの増加推移\n",
    "    \"\"\"\n",
    "    \n",
    "    suii_list = [ ] \n",
    "    minutes = 0\n",
    "    for i in range(1000):\n",
    "        origin_vol = origin_vol * 2\n",
    "        suii_list.append(origin_vol)\n",
    "        minutes += 5\n",
    "        if origin_vol > target_vol:\n",
    "            return minutes, suii_list\n",
    "            break\n",
    "\n",
    "#栗饅頭および太陽系をどちらも球と仮定して算出する。\n",
    "kuriman_vol = 4/3* math.pi * (0.03)**3\n",
    "solor_system_vol = 4/3* math.pi * (149597870700*30.1)**3\n",
    "\n",
    "minutes, kuriman_suii_list = check_vol_kuriman(kuriman_vol, solor_system_vol)\n",
    "\n",
    "print(\"太陽系が栗まんじゅうで覆われるのは{}分後\".format(minutes))\n",
    "\n",
    "# グラフを作成\n",
    "plt.plot(np.arange(5, minutes+5, 5), kuriman_suii_list, label='kuriman volume') \n",
    "plt.plot(np.arange(5, minutes+5, 5), [solor_system_vol for i in range(len(kuriman_suii_list))], \n",
    "            linestyle='--', label='solor system volume')\n",
    "plt.title(\"kuriman_problem\")\n",
    "plt.xlabel(\"minutes\")\n",
    "plt.ylabel(\"volume\")\n",
    "plt.legend(loc='upper left')\n",
    "plt.show()"
   ]
  },
  {
   "cell_type": "code",
   "execution_count": null,
   "metadata": {
    "scrolled": true
   },
   "outputs": [],
   "source": []
  },
  {
   "cell_type": "code",
   "execution_count": null,
   "metadata": {},
   "outputs": [],
   "source": []
  }
 ],
 "metadata": {
  "colab": {
   "name": "Week1授業課題1 曽呂利新左衛門問題.ipynb",
   "provenance": []
  },
  "kernelspec": {
   "display_name": "Python 3",
   "language": "python",
   "name": "python3"
  },
  "language_info": {
   "codemirror_mode": {
    "name": "ipython",
    "version": 3
   },
   "file_extension": ".py",
   "mimetype": "text/x-python",
   "name": "python",
   "nbconvert_exporter": "python",
   "pygments_lexer": "ipython3",
   "version": "3.7.6"
  }
 },
 "nbformat": 4,
 "nbformat_minor": 1
}
