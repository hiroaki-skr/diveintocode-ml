{
 "cells": [
  {
   "cell_type": "markdown",
   "metadata": {},
   "source": [
    "問題\n",
    "それぞれについてJupyter Notebookにマークダウン形式で記述してください。"
   ]
  },
  {
   "cell_type": "markdown",
   "metadata": {},
   "source": [
    "**(1) 物体検出の分野にはどういった手法が存在したか。**"
   ]
  },
  {
   "cell_type": "markdown",
   "metadata": {},
   "source": [
    "Sliding Window : EdgeBoxes, object in window\n",
    "\n",
    "grouping super_pixel : SelectiveSearch, CPMS, MCG\n",
    "\n",
    "R-CNN、Fast R-CNN、 SPP\n",
    "\n"
   ]
  },
  {
   "cell_type": "markdown",
   "metadata": {},
   "source": [
    "**(2) Fasterとあるが、どういった仕組みで高速化したのか。**"
   ]
  },
  {
   "cell_type": "markdown",
   "metadata": {},
   "source": [
    "Fast R-CNNの前にVGG16等完全畳み込み層による物体検知を導入する事で高速化.\n"
   ]
  },
  {
   "cell_type": "markdown",
   "metadata": {},
   "source": [
    "**(3) One-Stageの手法とTwo-Stageの手法はどう違うのか。**"
   ]
  },
  {
   "cell_type": "markdown",
   "metadata": {},
   "source": [
    "<br>4.1 Experiments on PASCAL VOC,\n",
    "<br>One-Stage Detection vs. Two-Stage Proposal + Detection\n",
    "<br>one_stage：一つの検出器で物体検出とクラス検出の両方行う\n",
    "<br>ｔｗｏ_stage：一つ目の検出器で物体領域を特定し、二つ目の検出器でクラス分類を行う。\n"
   ]
  },
  {
   "cell_type": "markdown",
   "metadata": {},
   "source": [
    "**(4) RPNとは何か。**"
   ]
  },
  {
   "cell_type": "markdown",
   "metadata": {},
   "source": [
    "<br>3.1 Region Proposal Networks\n",
    "<br>畳み込み層から得た特徴マップに対し、各ピクセルをAnchorとし、n×nの畳み込みを行う\n",
    "<br>\n",
    "<br>各々のAnchorに対し k 個のAnchor Boxを割り当て.\n",
    "<br>「各Anchor Boxに対する予測値」と「Anchor Box」の差、「ground truthと最も近いAnchor Box」と「ground truth」の差を算出、それぞれの差を近づけるように学習\n"
   ]
  },
  {
   "cell_type": "markdown",
   "metadata": {},
   "source": [
    "**(5) RoIプーリングとは何か。**"
   ]
  },
  {
   "cell_type": "markdown",
   "metadata": {},
   "source": [
    "<br>領域検出された箇所に対し最大プーリングを行う.\n",
    "<br>処理後のサイズは任意の大きさに決めることができるため\n",
    "<br>各領域が同じサイズになるため、どの領域も最後の全結合に通すことができる"
   ]
  },
  {
   "cell_type": "markdown",
   "metadata": {},
   "source": [
    "**(6) Anchorのサイズはどうするのが適切か。**\n",
    "\n"
   ]
  },
  {
   "cell_type": "markdown",
   "metadata": {},
   "source": [
    "<br>M4 EXPERIMENTS, Sensitivities to Hyper-parametersより\n",
    "<br>単一の同じスケールの場合、アスペクト比は多い方が良い結果となっている。"
   ]
  },
  {
   "cell_type": "markdown",
   "metadata": {},
   "source": [
    "**(7) 何というデータセットを使い、先行研究に比べどういった指標値が得られているか。**"
   ]
  },
  {
   "cell_type": "markdown",
   "metadata": {
    "ExecuteTime": {
     "end_time": "2020-03-13T07:28:19.005622Z",
     "start_time": "2020-03-13T07:28:16.655728Z"
    }
   },
   "source": [
    "<br>・データセット：PASCAL VOC 2007、PASCAL VOC 2012、MS COCO\n",
    "<br>　→PASCAL VOCのクラスは２０、MS COCOのクラスは８０\n",
    "<br>・評価指標：mAP（mean Average Precision）\n"
   ]
  }
 ],
 "metadata": {
  "kernelspec": {
   "display_name": "Python 3",
   "language": "python",
   "name": "python3"
  },
  "language_info": {
   "codemirror_mode": {
    "name": "ipython",
    "version": 3
   },
   "file_extension": ".py",
   "mimetype": "text/x-python",
   "name": "python",
   "nbconvert_exporter": "python",
   "pygments_lexer": "ipython3",
   "version": "3.7.4"
  },
  "nbTranslate": {
   "displayLangs": [
    "*"
   ],
   "hotkey": "alt-t",
   "langInMainMenu": true,
   "sourceLang": "en",
   "targetLang": "fr",
   "useGoogleTranslate": true
  },
  "toc": {
   "base_numbering": 1,
   "nav_menu": {},
   "number_sections": true,
   "sideBar": true,
   "skip_h1_title": false,
   "title_cell": "Table of Contents",
   "title_sidebar": "Contents",
   "toc_cell": false,
   "toc_position": {},
   "toc_section_display": true,
   "toc_window_display": false
  },
  "varInspector": {
   "cols": {
    "lenName": 16,
    "lenType": 16,
    "lenVar": 40
   },
   "kernels_config": {
    "python": {
     "delete_cmd_postfix": "",
     "delete_cmd_prefix": "del ",
     "library": "var_list.py",
     "varRefreshCmd": "print(var_dic_list())"
    },
    "r": {
     "delete_cmd_postfix": ") ",
     "delete_cmd_prefix": "rm(",
     "library": "var_list.r",
     "varRefreshCmd": "cat(var_dic_list()) "
    }
   },
   "types_to_exclude": [
    "module",
    "function",
    "builtin_function_or_method",
    "instance",
    "_Feature"
   ],
   "window_display": false
  }
 },
 "nbformat": 4,
 "nbformat_minor": 2
}
