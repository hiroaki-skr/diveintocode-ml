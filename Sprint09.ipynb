{
 "cells": [
  {
   "cell_type": "code",
   "execution_count": 457,
   "metadata": {
    "ExecuteTime": {
     "end_time": "2020-02-26T23:18:40.961773Z",
     "start_time": "2020-02-26T23:18:40.940917Z"
    }
   },
   "outputs": [],
   "source": [
    "from sklearn.preprocessing import OneHotEncoder\n",
    "import numpy as np\n",
    "import pdb\n",
    "import tqdm"
   ]
  },
  {
   "cell_type": "markdown",
   "metadata": {},
   "source": [
    "その１"
   ]
  },
  {
   "cell_type": "code",
   "execution_count": 487,
   "metadata": {
    "ExecuteTime": {
     "end_time": "2020-02-26T23:38:00.315249Z",
     "start_time": "2020-02-26T23:38:00.270944Z"
    }
   },
   "outputs": [],
   "source": [
    "#Adagrad\n",
    "class ScratchDeepNeuralNetrowkClassifier1:\n",
    "    def __init__(self, n_features, n_nodes1, n_nodes2,  n_output, sigma=0.01, lr=0.01, n_iter=10, verbose = True):\n",
    "        self.verbose = verbose\n",
    "        self.n_features = n_features\n",
    "        self.n_nodes1 = n_nodes1\n",
    "        self.n_nodes2 = n_nodes2\n",
    "        self.n_output = n_output\n",
    "        self.lr = lr\n",
    "        self.iter = n_iter\n",
    "        self.batch_size = 20\n",
    "        self.cost_list = []\n",
    "        self.cost_list_tr = []\n",
    "        self.cost_list_val = []\n",
    "        self.iter = n_iter\n",
    "        self.sigma = sigma\n",
    "        self.A1 = None\n",
    "        self.A2 = None\n",
    "        self.A3 = None\n",
    "        self.Z1 = None\n",
    "        self.Z2 = None\n",
    "        self.Z3 = None\n",
    "        self.FC1 = None\n",
    "        self.FC2 = None\n",
    "        self.FC3 = None\n",
    "        self.x_batch = None\n",
    "        \n",
    "    def fit(self, X, y, X_val=None, y_val=None):\n",
    "        \"\"\"\n",
    "        ニューラルネットワーク分類器を学習する。\n",
    "\n",
    "        Parameters\n",
    "        ----------\n",
    "        X : 次の形のndarray, shape (n_samples, n_features)\n",
    "            訓練データの特徴量\n",
    "        y : 次の形のndarray, shape (n_samples, )\n",
    "            訓練データの正解値\n",
    "        X_val : 次の形のndarray, shape (n_samples, n_features)\n",
    "            検証データの特徴量\n",
    "        y_val : 次の形のndarray, shape (n_samples, )\n",
    "            検証データの正解値\n",
    "        \"\"\" \n",
    "        #インスタンス作成\n",
    "        optimizer1 = AdaGrad(self.lr, self.n_features, self.n_nodes1)\n",
    "        optimizer2 = AdaGrad(self.lr, self.n_nodes1, self.n_nodes2)\n",
    "        optimizer3 = AdaGrad(self.lr, self.n_nodes2, self.n_output)\n",
    "        xa1 = XavierInitializer()\n",
    "        xa2 = XavierInitializer()\n",
    "        xa3 = XavierInitializer()\n",
    "        self.FC1 = FC(self.n_features, self.n_nodes1, SimpleInitializer(xa1.xavier(self.n_features)), optimizer1)\n",
    "        self.activation1 = Tanh()\n",
    "        self.FC2 = FC(self.n_nodes1, self.n_nodes2, SimpleInitializer(xa2.xavier(self.n_nodes1)), optimizer2)\n",
    "        self.activation2 = Tanh()\n",
    "        self.FC3 = FC(self.n_nodes2, self.n_output, SimpleInitializer(xa3.xavier(self.n_nodes2)), optimizer3)\n",
    "        self.activation3 = Softmax()\n",
    "        \n",
    "        for ite in range(self.iter):\n",
    "            get_mini_batch = GetMiniBatch(X, y, batch_size=self.batch_size)\n",
    "            for x_batch, y_batch in get_mini_batch:\n",
    "                self.x_batch = x_batch\n",
    "                self.forward(x_batch)\n",
    "                self.backward(y_batch)\n",
    "                \n",
    "            if X_val is not None:\n",
    "                Z3 = self.forward(X_val)\n",
    "                \n",
    "                cost = self.activation3.cost(Z3, y_val, len(y_val))\n",
    "                self.cost_list_val.append(cost)\n",
    "                self.cost_list_tr.append(np.mean(self.cost_list))\n",
    "                self.cost_list = []\n",
    "            \n",
    "            if self.verbose:\n",
    "                print(\"{}回目\".format(ite+1))\n",
    "            \n",
    "                 \n",
    "\n",
    "    def forward(self, X):\n",
    "        self.A1 = self.FC1.forward(X)\n",
    "        self.Z1 = self.activation1.forward(self.A1)\n",
    "        self.A2 = self.FC2.forward(self.Z1)\n",
    "        self.Z2 = self.activation2.forward(self.A2)\n",
    "        self.A3 = self.FC3.forward(self.Z2)\n",
    "        self.Z3 = self.activation3.forward(self.A3)\n",
    "        return self.Z3\n",
    "\n",
    "        \n",
    "    def backward(self, y):\n",
    "        dA3 = self.activation3.backward(self.Z3, y) # 交差エントロピー誤差とソフトマックスを合わせている\n",
    "        cost = self.activation3.cost(self.Z3, y, self.batch_size)\n",
    "        self.cost_list.append(cost)\n",
    "        dZ2 = self.FC3.backward(dA3, self.Z2)\n",
    "        dA2 = self.activation2.backward(self.A2, dZ2)\n",
    "        dZ1 = self.FC2.backward(dA2, self.Z1)\n",
    "        dA1 = self.activation1.backward(self.A1, dZ1)\n",
    "        dZ0 = self.FC1.backward(dA1, self.x_batch)\n",
    "        \n",
    "\n",
    "    def predict(self, X):\n",
    "        \"\"\"\n",
    "        ニューラルネットワーク分類器を使い推定する。\n",
    "\n",
    "        Parameters\n",
    "        ----------\n",
    "        X : 次の形のndarray, shape (n_samples, n_features)\n",
    "            サンプル\n",
    "\n",
    "        Returns\n",
    "        -------\n",
    "            次の形のndarray, shape (n_samples, 1)\n",
    "            推定結果\n",
    "        \"\"\"\n",
    "        pred = self.forward(X)\n",
    "        pred_num = np.argmax(pred, axis=1)        \n",
    "        return pred_num"
   ]
  },
  {
   "cell_type": "markdown",
   "metadata": {},
   "source": [
    "その２"
   ]
  },
  {
   "cell_type": "code",
   "execution_count": 486,
   "metadata": {
    "ExecuteTime": {
     "end_time": "2020-02-26T23:37:53.910205Z",
     "start_time": "2020-02-26T23:37:53.869041Z"
    }
   },
   "outputs": [],
   "source": [
    "#SGD\n",
    "class ScratchDeepNeuralNetrowkClassifier2:\n",
    "    def __init__(self, n_features, n_nodes1, n_nodes2,  n_output, sigma=0.01, lr=0.01, n_iter=10, verbose = True):\n",
    "        self.verbose = verbose\n",
    "        self.n_features = n_features\n",
    "        self.n_nodes1 = n_nodes1\n",
    "        self.n_nodes2 = n_nodes2\n",
    "        self.n_output = n_output\n",
    "        self.lr = lr\n",
    "        self.iter = n_iter\n",
    "        self.batch_size = 20\n",
    "        self.cost_list = []\n",
    "        self.cost_list_tr = []\n",
    "        self.cost_list_val = []\n",
    "        self.iter = n_iter\n",
    "        self.sigma = sigma\n",
    "        self.A1 = None\n",
    "        self.A2 = None\n",
    "        self.A3 = None\n",
    "        self.Z1 = None\n",
    "        self.Z2 = None\n",
    "        self.Z3 = None\n",
    "        self.FC1 = None\n",
    "        self.FC2 = None\n",
    "        self.FC3 = None\n",
    "        self.x_batch = None\n",
    "        \n",
    "    def fit(self, X, y, X_val=None, y_val=None):\n",
    "        \"\"\"\n",
    "        ニューラルネットワーク分類器を学習する。\n",
    "\n",
    "        Parameters\n",
    "        ----------\n",
    "        X : 次の形のndarray, shape (n_samples, n_features)\n",
    "            訓練データの特徴量\n",
    "        y : 次の形のndarray, shape (n_samples, )\n",
    "            訓練データの正解値\n",
    "        X_val : 次の形のndarray, shape (n_samples, n_features)\n",
    "            検証データの特徴量\n",
    "        y_val : 次の形のndarray, shape (n_samples, )\n",
    "            検証データの正解値\n",
    "        \"\"\" \n",
    "    # このfor文内でミニバッチが使える\n",
    "        #インスタンス作成\n",
    "        optimizer = SGD(self.lr)\n",
    "        xa1 = XavierInitializer()\n",
    "        xa2 = XavierInitializer()\n",
    "        xa3 = XavierInitializer()\n",
    "        self.FC1 = FC(self.n_features, self.n_nodes1, SimpleInitializer(xa1.xavier(self.n_features)), optimizer)\n",
    "        self.activation1 = Tanh()\n",
    "        self.FC2 = FC(self.n_nodes1, self.n_nodes2, SimpleInitializer(xa2.xavier(self.n_nodes1)), optimizer)\n",
    "        self.activation2 = Tanh()\n",
    "        self.FC3 = FC(self.n_nodes2, self.n_output, SimpleInitializer(xa3.xavier(self.n_nodes2)), optimizer)\n",
    "        self.activation3 = Softmax()\n",
    "        \n",
    "        for ite in range(self.iter):\n",
    "            get_mini_batch = GetMiniBatch(X, y, batch_size=self.batch_size)\n",
    "            for x_batch, y_batch in get_mini_batch:\n",
    "                self.x_batch = x_batch\n",
    "                self.forward(x_batch)\n",
    "                self.backward(y_batch)\n",
    "                \n",
    "            if X_val is not None:\n",
    "                Z3 = self.forward(X_val)\n",
    "                \n",
    "                cost = self.activation3.cost(Z3, y_val, len(y_val))\n",
    "                self.cost_list_val.append(cost)\n",
    "                self.cost_list_tr.append(np.mean(self.cost_list))\n",
    "                self.cost_list = []\n",
    "            \n",
    "            if self.verbose:\n",
    "                print(\"{}回目\".format(ite+1))\n",
    "            \n",
    "                 \n",
    "\n",
    "    def forward(self, X):\n",
    "        self.A1 = self.FC1.forward(X)\n",
    "        self.Z1 = self.activation1.forward(self.A1)\n",
    "        self.A2 = self.FC2.forward(self.Z1)\n",
    "        self.Z2 = self.activation2.forward(self.A2)\n",
    "        self.A3 = self.FC3.forward(self.Z2)\n",
    "        self.Z3 = self.activation3.forward(self.A3)\n",
    "        return self.Z3\n",
    "\n",
    "        \n",
    "    def backward(self, y):\n",
    "        dA3 = self.activation3.backward(self.Z3, y) # 交差エントロピー誤差とソフトマックスを合わせている\n",
    "        cost = self.activation3.cost(self.Z3, y, self.batch_size)\n",
    "        self.cost_list.append(cost)\n",
    "        dZ2 = self.FC3.backward(dA3, self.Z2)\n",
    "        dA2 = self.activation2.backward(self.A2, dZ2)\n",
    "        dZ1 = self.FC2.backward(dA2, self.Z1)\n",
    "        dA1 = self.activation1.backward(self.A1, dZ1)\n",
    "        dZ0 = self.FC1.backward(dA1, self.x_batch)\n",
    "        \n",
    "\n",
    "    def predict(self, X):\n",
    "        \"\"\"\n",
    "        ニューラルネットワーク分類器を使い推定する。\n",
    "\n",
    "        Parameters\n",
    "        ----------\n",
    "        X : 次の形のndarray, shape (n_samples, n_features)\n",
    "            サンプル\n",
    "\n",
    "        Returns\n",
    "        -------\n",
    "            次の形のndarray, shape (n_samples, 1)\n",
    "            推定結果\n",
    "        \"\"\"\n",
    "        pred = self.forward(X)\n",
    "        pred_num = np.argmax(pred, axis=1)        \n",
    "        return pred_num"
   ]
  },
  {
   "cell_type": "markdown",
   "metadata": {},
   "source": [
    "その３"
   ]
  },
  {
   "cell_type": "code",
   "execution_count": 493,
   "metadata": {
    "ExecuteTime": {
     "end_time": "2020-02-26T23:45:34.618199Z",
     "start_time": "2020-02-26T23:45:34.592206Z"
    }
   },
   "outputs": [],
   "source": [
    "#４層、ノードを減らす（）、活性化関数をtanh⇨sigmoidに変更、SGD\n",
    "class ScratchDeepNeuralNetrowkClassifier3:\n",
    "    def __init__(self, n_features, n_nodes1, n_nodes2,  n_nodes3, n_output, sigma=0.01, lr=0.01, n_iter=10, verbose = True):\n",
    "        self.verbose = verbose\n",
    "        self.n_features = n_features\n",
    "        self.n_nodes1 = n_nodes1\n",
    "        self.n_nodes2 = n_nodes2\n",
    "        self.n_nodes3 = n_nodes3\n",
    "        self.n_output = n_output\n",
    "        self.lr = lr\n",
    "        self.iter = n_iter\n",
    "        self.batch_size = 20\n",
    "        self.cost_list = []\n",
    "        self.cost_list_tr = []\n",
    "        self.cost_list_val = []\n",
    "        self.iter = n_iter\n",
    "        self.sigma = sigma\n",
    "        self.A1 = None\n",
    "        self.A2 = None\n",
    "        self.A3 = None\n",
    "        self.Z1 = None\n",
    "        self.Z2 = None\n",
    "        self.Z3 = None\n",
    "        self.FC1 = None\n",
    "        self.FC2 = None\n",
    "        self.FC3 = None\n",
    "        self.FC4 = None\n",
    "        self.x_batch = None\n",
    "        \n",
    "    def fit(self, X, y, X_val=None, y_val=None):\n",
    "        \"\"\"\n",
    "        ニューラルネットワーク分類器を学習する。\n",
    "\n",
    "        Parameters\n",
    "        ----------\n",
    "        X : 次の形のndarray, shape (n_samples, n_features)\n",
    "            訓練データの特徴量\n",
    "        y : 次の形のndarray, shape (n_samples, )\n",
    "            訓練データの正解値\n",
    "        X_val : 次の形のndarray, shape (n_samples, n_features)\n",
    "            検証データの特徴量\n",
    "        y_val : 次の形のndarray, shape (n_samples, )\n",
    "            検証データの正解値\n",
    "        \"\"\" \n",
    "    # このfor文内でミニバッチが使える\n",
    "        #インスタンス作成\n",
    "        optimizer = SGD(self.lr)\n",
    "        xa1 = XavierInitializer()\n",
    "        xa2 = XavierInitializer()\n",
    "        xa3 = XavierInitializer()\n",
    "        xa4 = XavierInitializer()\n",
    "        self.FC1 = FC(self.n_features, self.n_nodes1, SimpleInitializer(xa1.xavier(self.n_features)), optimizer)\n",
    "        self.activation1 = Tanh()\n",
    "        self.FC2 = FC(self.n_nodes1, self.n_nodes2, SimpleInitializer(xa2.xavier(self.n_nodes1)), optimizer)\n",
    "        self.activation2 = Tanh()\n",
    "        self.FC3 = FC(self.n_nodes2, self.n_nodes3, SimpleInitializer(xa3.xavier(self.n_nodes2)), optimizer)\n",
    "        self.activation3 = Tanh()\n",
    "        self.FC4 = FC(self.n_nodes3, self.n_output, SimpleInitializer(xa4.xavier(self.n_nodes3)), optimizer)\n",
    "        self.activation4 = Softmax()\n",
    "        \n",
    "        for ite in range(self.iter):\n",
    "            get_mini_batch = GetMiniBatch(X, y, batch_size=self.batch_size)\n",
    "            for x_batch, y_batch in get_mini_batch:\n",
    "                self.x_batch = x_batch\n",
    "                self.forward(x_batch)\n",
    "                self.backward(y_batch)\n",
    "                \n",
    "            if X_val is not None:\n",
    "                Z4 = self.forward(X_val)\n",
    "                \n",
    "                cost = self.activation4.cost(Z4, y_val, len(y_val))\n",
    "                self.cost_list_val.append(cost)\n",
    "                self.cost_list_tr.append(np.mean(self.cost_list))\n",
    "                self.cost_list = []\n",
    "            \n",
    "            if self.verbose:\n",
    "                print(\"{}回目\".format(ite+1))\n",
    "            \n",
    "                 \n",
    "\n",
    "    def forward(self, X):\n",
    "        self.A1 = self.FC1.forward(X)\n",
    "        self.Z1 = self.activation1.forward(self.A1)\n",
    "        self.A2 = self.FC2.forward(self.Z1)\n",
    "        self.Z2 = self.activation2.forward(self.A2)\n",
    "        self.A3 = self.FC3.forward(self.Z2)\n",
    "        self.Z3 = self.activation3.forward(self.A3)\n",
    "        self.A4 = self.FC4.forward(self.Z3)\n",
    "        self.Z4 = self.activation4.forward(self.A4)\n",
    "        return self.Z4\n",
    "\n",
    "        \n",
    "    def backward(self, y):\n",
    "        dA4 = self.activation4.backward(self.Z4, y) # 交差エントロピー誤差とソフトマックスを合わせている\n",
    "        cost = self.activation4.cost(self.Z4, y, self.batch_size)\n",
    "        self.cost_list.append(cost)\n",
    "        dZ3 = self.FC4.backward(dA4, self.Z3)\n",
    "        dA3 = self.activation3.backward(self.A3, dZ3)\n",
    "        dZ2 = self.FC3.backward(dA3, self.Z2)\n",
    "        dA2 = self.activation2.backward(self.A2, dZ2)\n",
    "        dZ1 = self.FC2.backward(dA2, self.Z1)\n",
    "        dA1 = self.activation1.backward(self.A1, dZ1)\n",
    "        dZ0 = self.FC1.backward(dA1, self.x_batch)\n",
    "        \n",
    "\n",
    "    def predict(self, X):\n",
    "        \"\"\"\n",
    "        ニューラルネットワーク分類器を使い推定する。\n",
    "\n",
    "        Parameters\n",
    "        ----------\n",
    "        X : 次の形のndarray, shape (n_samples, n_features)\n",
    "            サンプル\n",
    "\n",
    "        Returns\n",
    "        -------\n",
    "            次の形のndarray, shape (n_samples, 1)\n",
    "            推定結果\n",
    "        \"\"\"\n",
    "        pred = self.forward(X)\n",
    "        pred_num = np.argmax(pred, axis=1)        \n",
    "        return pred_num"
   ]
  },
  {
   "cell_type": "code",
   "execution_count": 464,
   "metadata": {
    "ExecuteTime": {
     "end_time": "2020-02-26T23:25:24.584951Z",
     "start_time": "2020-02-26T23:25:24.572105Z"
    }
   },
   "outputs": [],
   "source": [
    "class GetMiniBatch:\n",
    "    \"\"\"\n",
    "    ミニバッチを取得するイテレータ\n",
    "\n",
    "    Parameters\n",
    "    ----------\n",
    "    X : 次の形のndarray, shape (n_samples, n_features)\n",
    "      訓練データ\n",
    "    y : 次の形のndarray, shape (n_samples, 1)\n",
    "      正解値\n",
    "    batch_size : int\n",
    "      バッチサイズ\n",
    "    seed : int\n",
    "      NumPyの乱数のシード\n",
    "    \"\"\"\n",
    "    def __init__(self, X, y, batch_size = 20, seed=0):\n",
    "        self.batch_size = batch_size\n",
    "        np.random.seed(seed)\n",
    "        shuffle_index = np.random.permutation(np.arange(X.shape[0]))\n",
    "        self._X = X[shuffle_index]\n",
    "        self._y = y[shuffle_index]\n",
    "        self._stop = np.ceil(X.shape[0]/self.batch_size).astype(np.int)\n",
    "    def __len__(self):\n",
    "        return self._stop\n",
    "    def __getitem__(self,item):\n",
    "        p0 = item*self.batch_size\n",
    "        p1 = item*self.batch_size + self.batch_size\n",
    "        return self._X[p0:p1], self._y[p0:p1]        \n",
    "    def __iter__(self):\n",
    "        self._counter = 0\n",
    "        return self\n",
    "    def __next__(self):\n",
    "        if self._counter >= self._stop:\n",
    "            raise StopIteration()\n",
    "        p0 = self._counter*self.batch_size\n",
    "        p1 = self._counter*self.batch_size + self.batch_size\n",
    "        self._counter += 1\n",
    "        return self._X[p0:p1], self._y[p0:p1]"
   ]
  },
  {
   "cell_type": "code",
   "execution_count": 364,
   "metadata": {
    "ExecuteTime": {
     "end_time": "2020-02-26T08:34:51.853890Z",
     "start_time": "2020-02-26T08:34:51.846330Z"
    }
   },
   "outputs": [],
   "source": [
    "class FC:\n",
    "    \"\"\"\n",
    "    ノード数n_nodes1からn_nodes2への全結合層\n",
    "    Parameters\n",
    "    ----------\n",
    "    n_nodes1 : int\n",
    "      前の層のノード数\n",
    "    n_nodes2 : int\n",
    "      後の層のノード数\n",
    "    initializer : 初期化方法のインスタンス\n",
    "    optimizer : 最適化手法のインスタンス\n",
    "    \"\"\"\n",
    "    def __init__(self, n_nodes1, n_nodes2, initializer, optimizer):\n",
    "        self.optimizer = optimizer\n",
    "        self.n_nodes1 = n_nodes1\n",
    "        self.n_nodes2 = n_nodes2\n",
    "        self.W = initializer.W(self.n_nodes1, self.n_nodes2)\n",
    "        self.b = initializer.B(self.n_nodes2)\n",
    "        self.dA = None\n",
    "        self.Z = None\n",
    "        \n",
    "        # 初期化\n",
    "        # initializerのメソッドを使い、self.Wとself.Bを初期化する\n",
    "\n",
    "    def forward(self, X):\n",
    "        \"\"\"\n",
    "        フォワード\n",
    "        Parameters\n",
    "        ----------\n",
    "        X : 次の形のndarray, shape (batch_size, n_nodes1)\n",
    "            入力\n",
    "        Returns\n",
    "        ----------\n",
    "        A : 次の形のndarray, shape (batch_size, n_nodes2)\n",
    "            出力\n",
    "        \"\"\"  \n",
    "        A = np.dot(X, self.W) + self.b\n",
    "        return A\n",
    "    \n",
    "    def backward(self, dA, Z):\n",
    "        \"\"\"\n",
    "        バックワード\n",
    "        Parameters\n",
    "        ----------\n",
    "        dA : 次の形のndarray, shape (batch_size, n_nodes2)\n",
    "            後ろから流れてきた勾配\n",
    "        Returns\n",
    "        ----------\n",
    "        dZ : 次の形のndarray, shape (batch_size, n_nodes1)\n",
    "            前に流す勾配\n",
    "        \"\"\"\n",
    "        # 更新\n",
    "        self.dA = dA\n",
    "        self.Z = Z\n",
    "        dZ = np.dot(self.dA, self.W.T)\n",
    "        self = self.optimizer.update(self)\n",
    "        return dZ"
   ]
  },
  {
   "cell_type": "code",
   "execution_count": 285,
   "metadata": {
    "ExecuteTime": {
     "end_time": "2020-02-26T07:52:13.625242Z",
     "start_time": "2020-02-26T07:52:13.611522Z"
    }
   },
   "outputs": [],
   "source": [
    "class SimpleInitializer:\n",
    "    \"\"\"\n",
    "    ガウス分布によるシンプルな初期化\n",
    "    Parameters\n",
    "    ----------\n",
    "    sigma : float\n",
    "      ガウス分布の標準偏差\n",
    "    \"\"\"\n",
    "    def __init__(self, sigma):\n",
    "        self.sigma = sigma\n",
    "        \n",
    "    def W(self, n_nodes1, n_nodes2):\n",
    "        \"\"\"\n",
    "        重みの初期化\n",
    "        Parameters\n",
    "        ----------\n",
    "        n_nodes1 : int\n",
    "          前の層のノード数\n",
    "        n_nodes2 : int\n",
    "          後の層のノード数\n",
    "\n",
    "        Returns\n",
    "        ----------\n",
    "        W :\n",
    "        \"\"\"\n",
    "        W = self.sigma * np.random.randn(n_nodes1, n_nodes2)\n",
    "        return W\n",
    "    def B(self, n_nodes2):\n",
    "        \"\"\"\n",
    "        バイアスの初期化\n",
    "        Parameters\n",
    "        ----------\n",
    "        n_nodes2 : int\n",
    "          後の層のノード数\n",
    "\n",
    "        Returns\n",
    "        ----------\n",
    "        B :\n",
    "        \"\"\"\n",
    "        B = self.sigma * np.random.randn(n_nodes2, 1).T\n",
    "        return B"
   ]
  },
  {
   "cell_type": "code",
   "execution_count": 446,
   "metadata": {
    "ExecuteTime": {
     "end_time": "2020-02-26T10:05:27.308880Z",
     "start_time": "2020-02-26T10:05:27.300783Z"
    }
   },
   "outputs": [],
   "source": [
    "class AdaGrad:\n",
    "    def __init__(self, lr, n_nodes1, n_nodes2):\n",
    "        self.lr = lr\n",
    "        self.Hw = np.zeros([n_nodes1, n_nodes2])\n",
    "        self.Hb = np.zeros(n_nodes2)\n",
    "        \n",
    "    def update(self, layer):\n",
    "        dB = np.sum(layer.dA, axis=0)\n",
    "        dW = np.dot(layer.Z.T, layer.dA)\n",
    "        self.Hb += (dB)**2\n",
    "        self.Hw += (dW)**2\n",
    "        layer.b += -self.lr*(1/(np.sqrt(self.Hb) + 1e-8))*dB\n",
    "        layer.W += -self.lr*(1/(np.sqrt(self.Hw) + 1e-8))*dW"
   ]
  },
  {
   "cell_type": "code",
   "execution_count": 447,
   "metadata": {
    "ExecuteTime": {
     "end_time": "2020-02-26T10:05:29.754444Z",
     "start_time": "2020-02-26T10:05:29.748471Z"
    }
   },
   "outputs": [],
   "source": [
    "class SGD:\n",
    "    \"\"\"\n",
    "    確率的勾配降下法\n",
    "    Parameters\n",
    "    ----------\n",
    "    lr : 学習率\n",
    "    \"\"\"\n",
    "    def __init__(self, lr, ):\n",
    "        self.lr = lr\n",
    "        \n",
    "    def update(self, layer):\n",
    "        \"\"\"\n",
    "        ある層の重みやバイアスの更新\n",
    "        Parameters\n",
    "        ----------\n",
    "        layer : 更新前の層のインスタンス\n",
    "        \"\"\"\n",
    "        dB = np.sum(layer.dA, axis=0)\n",
    "        dW = np.dot(layer.Z.T, layer.dA)\n",
    "        layer.b -= self.lr*dB\n",
    "        layer.W -= self.lr*dW                "
   ]
  },
  {
   "cell_type": "code",
   "execution_count": 288,
   "metadata": {
    "ExecuteTime": {
     "end_time": "2020-02-26T07:52:14.183362Z",
     "start_time": "2020-02-26T07:52:14.178755Z"
    }
   },
   "outputs": [],
   "source": [
    "class XavierInitializer:\n",
    "    \n",
    "    def xavier(self, n_nodes1):\n",
    "        return 1/np.sqrt(n_nodes1)"
   ]
  },
  {
   "cell_type": "code",
   "execution_count": 289,
   "metadata": {
    "ExecuteTime": {
     "end_time": "2020-02-26T07:52:14.352658Z",
     "start_time": "2020-02-26T07:52:14.346056Z"
    }
   },
   "outputs": [],
   "source": [
    "class HeInitializer:\n",
    "    \n",
    "    def he(self, n_nodes1):\n",
    "        return np.sqrt(2/ n_nodes1)"
   ]
  },
  {
   "cell_type": "code",
   "execution_count": 474,
   "metadata": {
    "ExecuteTime": {
     "end_time": "2020-02-26T23:28:00.294507Z",
     "start_time": "2020-02-26T23:28:00.289679Z"
    }
   },
   "outputs": [],
   "source": [
    "class Sigmoid:\n",
    "    def forward(self, x):\n",
    "        return 1/(1-np.exp(-x))\n",
    "    \n",
    "    def backward(self, a, dz):\n",
    "        return dz * (1 - self.forward(a))*self.forward(a)"
   ]
  },
  {
   "cell_type": "code",
   "execution_count": 291,
   "metadata": {
    "ExecuteTime": {
     "end_time": "2020-02-26T07:52:15.384182Z",
     "start_time": "2020-02-26T07:52:15.378497Z"
    }
   },
   "outputs": [],
   "source": [
    "class Tanh:    \n",
    "    def forward(self, x):\n",
    "        return (np.exp(x)-np.exp(-x)) / (np.exp(x)+np.exp(-x))\n",
    "    \n",
    "    def backward(self, a, dz):\n",
    "        return dz * (1 - self.forward(a)**2)"
   ]
  },
  {
   "cell_type": "code",
   "execution_count": 292,
   "metadata": {
    "ExecuteTime": {
     "end_time": "2020-02-26T07:52:15.729655Z",
     "start_time": "2020-02-26T07:52:15.724935Z"
    }
   },
   "outputs": [],
   "source": [
    "class Relu:\n",
    "    def forward(x):\n",
    "        if x > 0:\n",
    "            return x\n",
    "        else:\n",
    "            return 0\n",
    "    \n",
    "    def backward(x, dz):\n",
    "        if x > 0:\n",
    "            return dz\n",
    "        else:\n",
    "            return 0"
   ]
  },
  {
   "cell_type": "code",
   "execution_count": 293,
   "metadata": {
    "ExecuteTime": {
     "end_time": "2020-02-26T07:52:16.948527Z",
     "start_time": "2020-02-26T07:52:16.941804Z"
    }
   },
   "outputs": [],
   "source": [
    "class Softmax:\n",
    "    def forward(self, y):\n",
    "        return np.exp(y) / np.sum(np.exp(y), axis=1).reshape(-1, 1)\n",
    "    \n",
    "    def backward(self, output, y):\n",
    "        dA3 = output - y\n",
    "        return dA3\n",
    "    \n",
    "    def cost(self, output, y, batch_size):\n",
    "        return -(1/batch_size)*np.sum(np.log(output)*y)\n",
    "        "
   ]
  },
  {
   "cell_type": "code",
   "execution_count": 236,
   "metadata": {
    "ExecuteTime": {
     "end_time": "2020-02-26T07:32:03.312490Z",
     "start_time": "2020-02-26T07:32:02.962416Z"
    }
   },
   "outputs": [],
   "source": [
    "from tensorflow.keras.datasets import mnist\n",
    "(X_train, y_train), (X_test, y_test) = mnist.load_data()"
   ]
  },
  {
   "cell_type": "code",
   "execution_count": 237,
   "metadata": {
    "ExecuteTime": {
     "end_time": "2020-02-26T07:32:04.221659Z",
     "start_time": "2020-02-26T07:32:04.217672Z"
    }
   },
   "outputs": [],
   "source": [
    "X_train = X_train.reshape(-1, 784)\n",
    "X_test = X_test.reshape(-1, 784)"
   ]
  },
  {
   "cell_type": "code",
   "execution_count": 238,
   "metadata": {
    "ExecuteTime": {
     "end_time": "2020-02-26T07:32:05.457194Z",
     "start_time": "2020-02-26T07:32:05.104556Z"
    }
   },
   "outputs": [
    {
     "name": "stdout",
     "output_type": "stream",
     "text": [
      "1.0\n",
      "0.0\n"
     ]
    }
   ],
   "source": [
    "X_train = X_train.astype(np.float)\n",
    "X_test = X_test.astype(np.float)\n",
    "X_train /= 255\n",
    "X_test /= 255\n",
    "print(X_train.max()) # 1.0\n",
    "print(X_train.min()) "
   ]
  },
  {
   "cell_type": "code",
   "execution_count": 240,
   "metadata": {
    "ExecuteTime": {
     "end_time": "2020-02-26T07:32:20.012038Z",
     "start_time": "2020-02-26T07:32:19.975015Z"
    }
   },
   "outputs": [
    {
     "name": "stdout",
     "output_type": "stream",
     "text": [
      "(60000,)\n",
      "(60000, 10)\n",
      "float64\n"
     ]
    }
   ],
   "source": [
    "from sklearn.preprocessing import OneHotEncoder\n",
    "enc = OneHotEncoder(handle_unknown='ignore', sparse=False)\n",
    "y_train_one_hot = enc.fit_transform(y_train[:, np.newaxis])\n",
    "y_test_one_hot = enc.transform(y_test[:, np.newaxis])\n",
    "print(y_train.shape) # (60000,)\n",
    "print(y_train_one_hot.shape) # (60000, 10)\n",
    "print(y_train_one_hot.dtype) # float64"
   ]
  },
  {
   "cell_type": "code",
   "execution_count": 243,
   "metadata": {
    "ExecuteTime": {
     "end_time": "2020-02-26T07:32:40.452052Z",
     "start_time": "2020-02-26T07:32:40.180183Z"
    }
   },
   "outputs": [
    {
     "name": "stdout",
     "output_type": "stream",
     "text": [
      "(48000, 784)\n",
      "(12000, 784)\n"
     ]
    }
   ],
   "source": [
    "from sklearn.model_selection import train_test_split\n",
    "X_train, X_val, y_train, y_val = train_test_split(X_train, y_train_one_hot, test_size=0.2)\n",
    "print(X_train.shape) # (48000, 784)\n",
    "print(X_val.shape) # (12000, 784)"
   ]
  },
  {
   "cell_type": "code",
   "execution_count": 498,
   "metadata": {
    "ExecuteTime": {
     "end_time": "2020-02-26T23:51:10.418520Z",
     "start_time": "2020-02-26T23:51:10.411368Z"
    }
   },
   "outputs": [],
   "source": [
    "dnn1 = ScratchDeepNeuralNetrowkClassifier1(n_features=784, n_nodes1=400, n_nodes2=200,  n_output=10, lr=0.001, n_iter=10, verbose = True)\n",
    "dnn2 = ScratchDeepNeuralNetrowkClassifier2(n_features=784, n_nodes1=400, n_nodes2=200,  n_output=10, lr=0.001, n_iter=10, verbose = True)\n",
    "dnn3 = ScratchDeepNeuralNetrowkClassifier3(n_features=784, n_nodes1=200, n_nodes2=100, n_nodes3=50, n_output=10, lr=0.001, n_iter=10, verbose = True)"
   ]
  },
  {
   "cell_type": "code",
   "execution_count": 499,
   "metadata": {
    "ExecuteTime": {
     "end_time": "2020-02-26T23:54:56.440343Z",
     "start_time": "2020-02-26T23:51:11.050008Z"
    },
    "scrolled": true
   },
   "outputs": [
    {
     "name": "stdout",
     "output_type": "stream",
     "text": [
      "1回目\n",
      "2回目\n",
      "3回目\n",
      "4回目\n",
      "5回目\n",
      "6回目\n",
      "7回目\n",
      "8回目\n",
      "9回目\n",
      "10回目\n",
      "1回目\n",
      "2回目\n",
      "3回目\n",
      "4回目\n",
      "5回目\n",
      "6回目\n",
      "7回目\n",
      "8回目\n",
      "9回目\n",
      "10回目\n",
      "1回目\n",
      "2回目\n",
      "3回目\n",
      "4回目\n",
      "5回目\n",
      "6回目\n",
      "7回目\n",
      "8回目\n",
      "9回目\n",
      "10回目\n"
     ]
    }
   ],
   "source": [
    "dnn1.fit(X_train, y_train, X_val, y_val)\n",
    "dnn2.fit(X_train, y_train, X_val, y_val)\n",
    "dnn3.fit(X_train, y_train, X_val, y_val)"
   ]
  },
  {
   "cell_type": "code",
   "execution_count": 500,
   "metadata": {
    "ExecuteTime": {
     "end_time": "2020-02-26T23:55:10.560626Z",
     "start_time": "2020-02-26T23:55:09.857609Z"
    }
   },
   "outputs": [],
   "source": [
    "pred_test1 = dnn1.predict(X_test)\n",
    "pred_test2 = dnn2.predict(X_test)\n",
    "pred_test3 = dnn3.predict(X_test)"
   ]
  },
  {
   "cell_type": "code",
   "execution_count": 501,
   "metadata": {
    "ExecuteTime": {
     "end_time": "2020-02-26T23:55:11.042023Z",
     "start_time": "2020-02-26T23:55:11.032298Z"
    }
   },
   "outputs": [
    {
     "name": "stdout",
     "output_type": "stream",
     "text": [
      "test_Accuracy:0.933\n",
      "test_Accuracy:0.970\n",
      "test_Accuracy:0.971\n"
     ]
    }
   ],
   "source": [
    "print(\"test_Accuracy:{:.3f}\".format(np.sum(pred_test1==y_test) / len(pred_test1)))\n",
    "print(\"test_Accuracy:{:.3f}\".format(np.sum(pred_test2==y_test) / len(pred_test2)))\n",
    "print(\"test_Accuracy:{:.3f}\".format(np.sum(pred_test3==y_test) / len(pred_test3)))"
   ]
  },
  {
   "cell_type": "code",
   "execution_count": 508,
   "metadata": {
    "ExecuteTime": {
     "end_time": "2020-02-27T00:02:57.427792Z",
     "start_time": "2020-02-27T00:02:56.887061Z"
    }
   },
   "outputs": [
    {
     "data": {
      "image/png": "[encoded data removed]",
      "text/plain": [
       "<Figure size 432x288 with 1 Axes>"
      ]
     },
     "metadata": {
      "needs_background": "light"
     },
     "output_type": "display_data"
    },
    {
     "data": {
      "image/png": "[encoded data removed]",
      "text/plain": [
       "<Figure size 432x288 with 1 Axes>"
      ]
     },
     "metadata": {
      "needs_background": "light"
     },
     "output_type": "display_data"
    },
    {
     "data": {
      "image/png": "[encoded data removed]",
      "text/plain": [
       "<Figure size 432x288 with 1 Axes>"
      ]
     },
     "metadata": {
      "needs_background": "light"
     },
     "output_type": "display_data"
    }
   ],
   "source": [
    "import matplotlib.pyplot as plt\n",
    "models = [dnn1, dnn2, dnn3]\n",
    "model_name = [\"AdaGrada\", \"SGD\", \"SGD(four_layer)\"]\n",
    "for name, model in zip(model_name, models):\n",
    "    plt.plot([i for i in range(len(model.cost_list_tr))],model.cost_list_tr, label=\"train\")\n",
    "    plt.plot([i for i in range(len(model.cost_list_val))],model.cost_list_val, label=\"val\")\n",
    "    plt.title(name)\n",
    "    plt.xlabel(\"epochs\")\n",
    "    plt.ylabel(\"loss\")\n",
    "    plt.legend(loc=\"best\")\n",
    "    plt.show()"
   ]
  },
  {
   "cell_type": "code",
   "execution_count": null,
   "metadata": {},
   "outputs": [],
   "source": []
  }
 ],
 "metadata": {
  "kernelspec": {
   "display_name": "Python 3",
   "language": "python",
   "name": "python3"
  },
  "language_info": {
   "codemirror_mode": {
    "name": "ipython",
    "version": 3
   },
   "file_extension": ".py",
   "mimetype": "text/x-python",
   "name": "python",
   "nbconvert_exporter": "python",
   "pygments_lexer": "ipython3",
   "version": "3.7.4"
  },
  "nbTranslate": {
   "displayLangs": [
    "*"
   ],
   "hotkey": "alt-t",
   "langInMainMenu": true,
   "sourceLang": "en",
   "targetLang": "fr",
   "useGoogleTranslate": true
  },
  "toc": {
   "base_numbering": 1,
   "nav_menu": {},
   "number_sections": true,
   "sideBar": true,
   "skip_h1_title": false,
   "title_cell": "Table of Contents",
   "title_sidebar": "Contents",
   "toc_cell": false,
   "toc_position": {},
   "toc_section_display": true,
   "toc_window_display": false
  },
  "varInspector": {
   "cols": {
    "lenName": 16,
    "lenType": 16,
    "lenVar": 40
   },
   "kernels_config": {
    "python": {
     "delete_cmd_postfix": "",
     "delete_cmd_prefix": "del ",
     "library": "var_list.py",
     "varRefreshCmd": "print(var_dic_list())"
    },
    "r": {
     "delete_cmd_postfix": ") ",
     "delete_cmd_prefix": "rm(",
     "library": "var_list.r",
     "varRefreshCmd": "cat(var_dic_list()) "
    }
   },
   "types_to_exclude": [
    "module",
    "function",
    "builtin_function_or_method",
    "instance",
    "_Feature"
   ],
   "window_display": false
  }
 },
 "nbformat": 4,
 "nbformat_minor": 2
}
