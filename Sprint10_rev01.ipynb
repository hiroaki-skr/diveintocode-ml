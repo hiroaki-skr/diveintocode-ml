{
 "cells": [
  {
   "cell_type": "code",
   "execution_count": 1,
   "metadata": {
    "ExecuteTime": {
     "end_time": "2020-03-07T01:38:39.388452Z",
     "start_time": "2020-03-07T01:38:29.175699Z"
    }
   },
   "outputs": [],
   "source": [
    "from tensorflow.keras.datasets import mnist\n",
    "(X_train, y_train), (X_test, y_test) = mnist.load_data()"
   ]
  },
  {
   "cell_type": "code",
   "execution_count": 2,
   "metadata": {
    "ExecuteTime": {
     "end_time": "2020-03-07T01:38:44.428822Z",
     "start_time": "2020-03-07T01:38:44.080043Z"
    }
   },
   "outputs": [
    {
     "name": "stdout",
     "output_type": "stream",
     "text": [
      "1.0\n",
      "0.0\n"
     ]
    }
   ],
   "source": [
    "X_train = X_train.astype(np.float)\n",
    "X_test = X_test.astype(np.float)\n",
    "X_train /= 255\n",
    "X_test /= 255\n",
    "print(X_train.max()) # 1.0\n",
    "print(X_train.min()) "
   ]
  },
  {
   "cell_type": "code",
   "execution_count": 3,
   "metadata": {
    "ExecuteTime": {
     "end_time": "2020-03-07T01:38:53.516167Z",
     "start_time": "2020-03-07T01:38:53.119383Z"
    }
   },
   "outputs": [
    {
     "name": "stdout",
     "output_type": "stream",
     "text": [
      "(60000,)\n",
      "(60000, 10)\n",
      "float64\n"
     ]
    }
   ],
   "source": [
    "from sklearn.preprocessing import OneHotEncoder\n",
    "enc = OneHotEncoder(handle_unknown='ignore', sparse=False)\n",
    "y_train_one_hot = enc.fit_transform(y_train[:, np.newaxis])\n",
    "y_test_one_hot = enc.transform(y_test[:, np.newaxis])\n",
    "print(y_train.shape) # (60000,)\n",
    "print(y_train_one_hot.shape) # (60000, 10)\n",
    "print(y_train_one_hot.dtype) # float64"
   ]
  },
  {
   "cell_type": "code",
   "execution_count": 4,
   "metadata": {
    "ExecuteTime": {
     "end_time": "2020-03-07T01:39:02.970890Z",
     "start_time": "2020-03-07T01:39:02.697704Z"
    }
   },
   "outputs": [
    {
     "name": "stdout",
     "output_type": "stream",
     "text": [
      "(48000, 28, 28)\n",
      "(12000, 28, 28)\n"
     ]
    }
   ],
   "source": [
    "from sklearn.model_selection import train_test_split\n",
    "X_train, X_val, y_train, y_val = train_test_split(X_train, y_train_one_hot, test_size=0.2)\n",
    "print(X_train.shape) # (48000, 784)\n",
    "print(X_val.shape) # (12000, 784)"
   ]
  },
  {
   "cell_type": "code",
   "execution_count": 79,
   "metadata": {
    "ExecuteTime": {
     "end_time": "2020-03-07T02:14:22.509578Z",
     "start_time": "2020-03-07T02:14:22.393655Z"
    }
   },
   "outputs": [],
   "source": [
    "class Scratch1dCNNClassifier:\n",
    "    def __init__(self, filters, kernel_size, padding, strides, pooling_size=(2,2), lr=0.01, n_iter=1, sigma=0.01, verbose = True):\n",
    "        self.verbose = verbose\n",
    "        self.lr = lr\n",
    "        self.iter = n_iter\n",
    "        self.strides = strides\n",
    "        self.padding = padding\n",
    "        self.filters = filters\n",
    "        self.kernel_size = kernel_size\n",
    "        self.pooling_size = pooling_size\n",
    "        self.batch_size = 20\n",
    "        self.sigma = sigma\n",
    "        self.cost_list = []\n",
    "        self.cost_list_tr = []\n",
    "        self.cost_list_val = []\n",
    "        self.optimizer = None\n",
    "        self.X = None\n",
    "\n",
    "        \n",
    "    def fit(self, X, y):\n",
    "        \"\"\"\n",
    "        ニューラルネットワーク分類器を学習する。\n",
    "\n",
    "        Parameters\n",
    "        ----------\n",
    "        X : 次の形のndarray, shape (n_samples, n_features)\n",
    "            訓練データの特徴量\n",
    "        y : 次の形のndarray, shape (n_samples, )\n",
    "            訓練データの正解値\n",
    "        X_val : 次の形のndarray, shape (n_samples, n_features)\n",
    "            検証データの特徴量\n",
    "        y_val : 次の形のndarray, shape (n_samples, )\n",
    "            検証データの正解値\n",
    "        \"\"\" \n",
    "    # このfor文内でミニバッチが使える\n",
    "        #インスタンス作成\n",
    "        self.X = np.array(X)\n",
    "        \n",
    "        optimizer = SGD(self.lr)\n",
    "        \n",
    "        self.SC = SimpleConv1d(self.kernel_size, self.padding, self.strides, SimpleInitializer(self.X.shape[2], self.kernel_size, self.filters, self.sigma), self.lr)\n",
    "        self.activation1 = Relu()\n",
    "        self.FC = FC(3128, 10, FCInitializer(self.sigma), optimizer)\n",
    "        self.FL = Flatten()\n",
    "        self.activation2 = Softmax()\n",
    "        \n",
    "        batch_n = X.shape[0] // self.batch_size\n",
    "        for ite in range(self.iter):\n",
    "            s = 0\n",
    "            for i in range(batch_n):\n",
    "                X_batch = X[s:s+self.batch_size, :, :, :, :]\n",
    "                y_batch = y[s:s+self.batch_size, :]\n",
    "    \n",
    "                self.forward(X_batch)\n",
    "                self.backward(X_batch, y_batch)\n",
    "                s = s + self.batch_size\n",
    "            self.cost_list_tr.append(np.mean(self.cost_list)/self.batch_size)\n",
    "            self.cost_list = []\n",
    "            \n",
    "            if self.verbose:\n",
    "                print(ite)\n",
    "                \n",
    "\n",
    "    def forward(self, X):\n",
    "        # フォワード\n",
    "        output = self.SC.forward(X)\n",
    "        output = self.activation1.forward(output)\n",
    "        output = self.FL.forward(output)\n",
    "        node1 = len(output)\n",
    "        self.Z = output\n",
    "        output = self.FC.forward(self.Z)\n",
    "        self.pred = self.activation2.forward(output)\n",
    "        \n",
    "        return self.pred\n",
    "\n",
    "    def backward(self, X, y):\n",
    "        # バックワード\n",
    "        dout = self.activation2.backward(self.pred, y)\n",
    "        cost = self.activation2.cost(self.pred, y, 1)\n",
    "        self.cost_list.append(cost)\n",
    "        dout = self.FC.backward(dout, self.Z)\n",
    "        dout = self.FL.backward(dout)\n",
    "        dout = self.activation1.backward(dout)\n",
    "        self.SC.backward(dout, X)\n",
    "\n",
    "            \n",
    "            \n",
    "                \n",
    "#         if self.verbose:\n",
    "#             print(\"{}回目\".format(ite+1))\n",
    "            \n",
    "                 \n",
    "\n",
    "\n",
    "        \n",
    "        \n",
    "    def predict(self, X):\n",
    "        \"\"\"\n",
    "        ニューラルネットワーク分類器を使い推定する。\n",
    "\n",
    "        Parameters\n",
    "        ----------\n",
    "        X : 次の形のndarray, shape (n_samples, n_features)\n",
    "            サンプル\n",
    "\n",
    "        Returns\n",
    "        -------\n",
    "            次の形のndarray, shape (n_samples, 1)\n",
    "            推定結果\n",
    "        \"\"\"\n",
    "        pred = self.forward(X)\n",
    "        pred = np.argmax(pred, axis=1)\n",
    "        return pred"
   ]
  },
  {
   "cell_type": "code",
   "execution_count": 83,
   "metadata": {
    "ExecuteTime": {
     "end_time": "2020-03-07T02:14:48.566514Z",
     "start_time": "2020-03-07T02:14:48.552592Z"
    }
   },
   "outputs": [],
   "source": [
    "class FC:\n",
    "    \"\"\"\n",
    "    ノード数n_nodes1からn_nodes2への全結合層\n",
    "    Parameters\n",
    "    ----------\n",
    "    n_nodes1 : int\n",
    "      前の層のノード数\n",
    "    n_nodes2 : int\n",
    "      後の層のノード数\n",
    "    initializer : 初期化方法のインスタンス\n",
    "    optimizer : 最適化手法のインスタンス\n",
    "    \"\"\"\n",
    "    def __init__(self, n_nodes1, n_nodes2, initializer, optimizer):\n",
    "        self.optimizer = optimizer\n",
    "        self.n_nodes1 = n_nodes1\n",
    "        self.n_nodes2 = n_nodes2\n",
    "        self.W = initializer.W(self.n_nodes1, self.n_nodes2)\n",
    "        self.b = initializer.B(self.n_nodes2)\n",
    "        self.dA = None\n",
    "        self.Z = None\n",
    "        \n",
    "        # 初期化\n",
    "        # initializerのメソッドを使い、self.Wとself.Bを初期化する\n",
    "\n",
    "    def forward(self, X):\n",
    "        \"\"\"\n",
    "        フォワード\n",
    "        Parameters\n",
    "        ----------\n",
    "        X : 次の形のndarray, shape (batch_size, n_nodes1)\n",
    "            入力\n",
    "        Returns\n",
    "        ----------\n",
    "        A : 次の形のndarray, shape (batch_size, n_nodes2)\n",
    "            出力\n",
    "        \"\"\"  \n",
    "        A = np.dot(X, self.W) + self.b\n",
    "        return A\n",
    "    \n",
    "    def backward(self, dA, Z):\n",
    "        \"\"\"\n",
    "        バックワード\n",
    "        Parameters\n",
    "        ----------\n",
    "        dA : 次の形のndarray, shape (batch_size, n_nodes2)\n",
    "            後ろから流れてきた勾配\n",
    "        Returns\n",
    "        ----------\n",
    "        dZ : 次の形のndarray, shape (batch_size, n_nodes1)\n",
    "            前に流す勾配\n",
    "        \"\"\"\n",
    "        # 更新\n",
    "        self.dA = dA\n",
    "        self.Z = Z\n",
    "        dZ = np.dot(self.dA, self.W.T)\n",
    "        self = self.optimizer.update(self)\n",
    "        return dZ"
   ]
  },
  {
   "cell_type": "code",
   "execution_count": 42,
   "metadata": {
    "ExecuteTime": {
     "end_time": "2020-03-07T01:59:27.855924Z",
     "start_time": "2020-03-07T01:59:27.846748Z"
    }
   },
   "outputs": [],
   "source": [
    "class Flatten:\n",
    "    def __init__(self,):\n",
    "        self.a = None\n",
    "        self.b = None\n",
    "        self.c = None\n",
    "        self.d = None\n",
    "        self.e = None\n",
    "        \n",
    "    def forward(self, X):\n",
    "        (self.a, self.b, self.c, self.d, self.e) = X.shape\n",
    "        X = np.reshape(X, [self.a, -1])\n",
    "        return X\n",
    "    \n",
    "    def backward(self, dout):\n",
    "        dout = np.reshape(dout, [self.a, self.b, self.c, self.d, self.e])\n",
    "        return dout"
   ]
  },
  {
   "cell_type": "code",
   "execution_count": 43,
   "metadata": {
    "ExecuteTime": {
     "end_time": "2020-03-07T01:59:28.050673Z",
     "start_time": "2020-03-07T01:59:28.010055Z"
    }
   },
   "outputs": [],
   "source": [
    "class MaxPool2D:\n",
    "    def __init__(self, pooling_size):\n",
    "        self.pooling_size = np.array(pooling_size)\n",
    "    \n",
    "    def forward(self, X):\n",
    "        height = self.pooling_size[0]\n",
    "        width = self.pooling_size[1]\n",
    "        self.h = X.shape[3] // height\n",
    "        self.w = X.shape[4] // width\n",
    "\n",
    "        pool_h = 0\n",
    "        pool_w = 0\n",
    "        \n",
    "        copy = X\n",
    "        pooling_X = np.zeros([X.shape[0], X.shape[1], X.shape[2], self.h, self.w])\n",
    "        self.back_pool = np.zeros(X.shape)\n",
    "        for i in range(self.h):\n",
    "            for j in range(self.w):\n",
    "                for k in range(X.shape[1]):\n",
    "                    for sample in range(X.shape[0]):\n",
    "                        max_index = np.argmax(X[sample, k, :, pool_h:pool_h+height, pool_w:pool_w+width])\n",
    "                        max_height = max_index // width\n",
    "                        max_width = max_index % width\n",
    "                        self.back_pool[sample, k, pool_h:pool_h+max_height, pool_w:pool_w+max_width] = 1 \n",
    "                        pooling_X[sample, k, :, i, j] = np.max(X[sample, k, :, pool_h:pool_h+height, pool_w:pool_w+width])\n",
    "                pool_w += width\n",
    "            pool_w = 0\n",
    "            pool_h += height\n",
    "        \n",
    "        return pooling_X\n",
    "    \n",
    "    def backward(self, dout):\n",
    "        back_dout = np.zeros(self.back_pool.shape)\n",
    "        pool_h = 0\n",
    "        pool_w = 0\n",
    "        for i in range(self.h):\n",
    "            for j in range(self.w):\n",
    "                for k in range(self.back_pool.shape[1]):\n",
    "                    for sample in range(self.back_pool.shape[0]):\n",
    "                        back_dout[sample, k, :, pool_h:pool_h+self.pooling_size[0], pool_w:pool_w+self.pooling_size[1]] = dout[sample, k, :, i, j]\n",
    "                pool_w += self.pooling_size[1]\n",
    "            pool_w = 0\n",
    "            pool_h += self.pooling_size[0]\n",
    "        dout = back_dout * self.back_pool\n",
    "        return dout\n",
    "        \n",
    "        "
   ]
  },
  {
   "cell_type": "code",
   "execution_count": 44,
   "metadata": {
    "ExecuteTime": {
     "end_time": "2020-03-07T01:59:28.268121Z",
     "start_time": "2020-03-07T01:59:28.162634Z"
    }
   },
   "outputs": [],
   "source": [
    "# X_size = (n_samples, filters, n_channels, height, width)\n",
    "# W_size = (n_filters, n_kernels, height, width)\n",
    "# b_size = (n_channel, height)\n",
    "class SimpleConv1d:\n",
    "    def __init__(self, kernel_size, padding, strides, initializer, lr):\n",
    "        self.W = initializer.W()\n",
    "        self.b = initializer.B()\n",
    "        self.strides = strides\n",
    "        self.padding = padding\n",
    "        self.kernel_size = np.array(kernel_size)\n",
    "        self.lr = lr\n",
    "        self.X = None\n",
    "        self.dZ = None\n",
    "    \n",
    "    # 出力サイズを求める。\n",
    "    def output_size(self,X):\n",
    "        # 縦\n",
    "        self.next_feature_num_h = int((self.X.shape[3] + 2*self.padding - self.W.shape[2]) / self.strides + 1)\n",
    "        \n",
    "        # 横\n",
    "        self.next_feature_num_w = int((self.X.shape[4] + 2*self.padding - self.W.shape[3]) / self.strides + 1)\n",
    "    \n",
    "    # パディング(あとで)\n",
    "#     def padding_app(self, X):\n",
    "#         for i in range(self.padding):\n",
    "#             zero_h = np.array([0])\n",
    "#             X = np.insert(X, 0, zero_h, axis=1)\n",
    "#             X = np.insert(X, X.shape[3], zero_h, axis=1)\n",
    "\n",
    "#             zero_w = np.array([0])\n",
    "#             X = np.insert(X, 0, zero_w, axis=0)\n",
    "#             X = np.insert(X, X.shape[3], zero_h, axis=1)\n",
    "            \n",
    "    \n",
    "    def forward(self, X):\n",
    "        self.X = X\n",
    "        self.output_size(self.X)\n",
    "        #パディング\n",
    "#         for i in range(self.padding):\n",
    "#             zero_h = np.array([0])\n",
    "#             self.X = np.insert(self.X, 0, zero_h, axis=1)\n",
    "#             self.X = np.insert(self.X, self.X.shape[1], zero_h, axis=1)\n",
    "       \n",
    "        # 積和後のフォーマットを作成\n",
    "        self.sum_of_product = np.zeros([self.X.shape[0], self.W.shape[0], self.W.shape[1], int(self.next_feature_num_h), int(self.next_feature_num_w)])\n",
    "\n",
    "        # 積和計算\n",
    "        # 縦移動\n",
    "        for i in range(self.next_feature_num_h):\n",
    "            # 横移動\n",
    "            for j in range(self.next_feature_num_w):\n",
    "                X_kernel_size = X[:, :, :, i:i+self.kernel_size[0], j:j+self.kernel_size[1]]\n",
    "                calc = np.sum(np.sum(X_kernel_size * self.W, axis=4), axis=3)\n",
    "                self.sum_of_product[:, :, :, i, j] += calc\n",
    "        # チャネル方向へSUM\n",
    "        self.conv_output = np.sum(self.sum_of_product, axis=2, keepdims=True)\n",
    "\n",
    "        return self.conv_output\n",
    "\n",
    "    \n",
    "    def backward(self,dA, X):\n",
    "        \n",
    "        # Bの更新\n",
    "        dB = np.sum(np.sum(np.sum(dA, axis=4), axis=3), axis=0)\n",
    "        self.b -= self.lr * dB\n",
    "        \n",
    "        #Zの更新\n",
    "        move_h = 0\n",
    "        move_w = 0\n",
    "        self.dx = np.zeros([self.X.shape[0], self.W.shape[0], X.shape[2], X.shape[3], X.shape[4]])\n",
    "        for i in range(self.next_feature_num_h):\n",
    "            # 横移動\n",
    "            for j in range(self.next_feature_num_w):\n",
    "                \n",
    "                self.dx[:, :, :, i:i+self.kernel_size[0], j:j+self.kernel_size[1]] = self.W * np.reshape(dA[:, :, :, i, j], [self.X.shape[0], self.W.shape[0], 1, 1, 1])\n",
    "\n",
    "        \n",
    "        #Wの更新\n",
    "        move_h = 0\n",
    "        move_w = 0\n",
    "        for i in range(self.next_feature_num_h):\n",
    "            # 横移動\n",
    "            for j in range(self.next_feature_num_w):\n",
    "                X_kernel_size = X[:, :, :, i:i+self.kernel_size[0], j:j+self.kernel_size[1]]\n",
    "                dW = X_kernel_size * np.reshape(dA[:, :, :, i, j], [self.X.shape[0],self.W.shape[0], 1, 1, 1])\n",
    "                dW = np.sum(dW, axis=0) / X.shape[0]\n",
    "                self.W -= self.lr * dW\n",
    "        return self.dx"
   ]
  },
  {
   "cell_type": "code",
   "execution_count": 45,
   "metadata": {
    "ExecuteTime": {
     "end_time": "2020-03-07T01:59:28.329281Z",
     "start_time": "2020-03-07T01:59:28.322539Z"
    }
   },
   "outputs": [],
   "source": [
    "class SGD:\n",
    "    \"\"\"\n",
    "    確率的勾配降下法\n",
    "    Parameters\n",
    "    ----------\n",
    "    lr : 学習率\n",
    "    \"\"\"\n",
    "    def __init__(self, lr, ):\n",
    "        self.lr = lr\n",
    "        \n",
    "    def update(self, layer):\n",
    "        \"\"\"\n",
    "        ある層の重みやバイアスの更新\n",
    "        Parameters\n",
    "        ----------\n",
    "        layer : 更新前の層のインスタンス\n",
    "        \"\"\"\n",
    "        dB = np.sum(np.sum(layer.dA, axis=0), axis=0, keepdims=True)\n",
    "        dW = np.dot(layer.Z.T, layer.dA)\n",
    "        layer.b -= self.lr*dB\n",
    "        layer.W -= self.lr*dW  "
   ]
  },
  {
   "cell_type": "code",
   "execution_count": 11,
   "metadata": {
    "ExecuteTime": {
     "end_time": "2020-03-07T01:41:18.402659Z",
     "start_time": "2020-03-07T01:41:18.385646Z"
    }
   },
   "outputs": [],
   "source": [
    "class SimpleInitializer:\n",
    "    def __init__(self, channel, kernel_size, filters, sigma):\n",
    "        self.channel = channel\n",
    "        self.kernel_size = kernel_size\n",
    "        self.filters = filters\n",
    "        self.sigma = sigma\n",
    "        \n",
    "    def W(self,):\n",
    "        W = self.sigma * np.random.randn(self.filters, self.channel, self.kernel_size[0], self.kernel_size[1])\n",
    "        return W\n",
    "\n",
    "    def B(self,):\n",
    "        B = self.sigma * np.random.randn(self.filters, 1)\n",
    "        return B"
   ]
  },
  {
   "cell_type": "code",
   "execution_count": 13,
   "metadata": {
    "ExecuteTime": {
     "end_time": "2020-03-07T01:41:32.821394Z",
     "start_time": "2020-03-07T01:41:32.815409Z"
    }
   },
   "outputs": [],
   "source": [
    "class FCInitializer:\n",
    "    def __init__(self, sigma):\n",
    "        self.sigma = sigma\n",
    "        \n",
    "    def W(self, n_nodes1, n_nodes2):\n",
    "        W = self.sigma * np.random.randn(n_nodes1, n_nodes2)\n",
    "        return W\n",
    "    def B(self, n_nodes2):\n",
    "        B = self.sigma * np.random.randn(n_nodes2, 1).T\n",
    "        return B"
   ]
  },
  {
   "cell_type": "code",
   "execution_count": 14,
   "metadata": {
    "ExecuteTime": {
     "end_time": "2020-03-07T01:41:46.329691Z",
     "start_time": "2020-03-07T01:41:46.322621Z"
    }
   },
   "outputs": [],
   "source": [
    "class Relu:       \n",
    "    def __init__(self,):\n",
    "        self.mask = None\n",
    "        \n",
    "    def forward(self, x):\n",
    "        self.mask = x > 0\n",
    "        out = x * self.mask\n",
    "        return out\n",
    "    \n",
    "    def backward(self, dout):\n",
    "        dx = dout * self.mask\n",
    "        return dx"
   ]
  },
  {
   "cell_type": "code",
   "execution_count": 15,
   "metadata": {
    "ExecuteTime": {
     "end_time": "2020-03-07T01:41:54.651638Z",
     "start_time": "2020-03-07T01:41:54.644971Z"
    }
   },
   "outputs": [],
   "source": [
    "class Softmax:\n",
    "    def forward(self, y):\n",
    "        return np.exp(y) / np.sum(np.exp(y), axis=1).reshape(-1, 1)\n",
    "    \n",
    "    def backward(self, output, y):\n",
    "        dA3 = output - y\n",
    "        return dA3\n",
    "    \n",
    "    def cost(self, output, y, batch_size):\n",
    "        return -(1/batch_size)*np.sum(np.log(output)*y)"
   ]
  },
  {
   "cell_type": "markdown",
   "metadata": {},
   "source": [
    "問題8 学習と推定"
   ]
  },
  {
   "cell_type": "code",
   "execution_count": 56,
   "metadata": {
    "ExecuteTime": {
     "end_time": "2020-03-07T02:06:53.068217Z",
     "start_time": "2020-03-07T02:06:53.063748Z"
    }
   },
   "outputs": [],
   "source": [
    "# [samples, filter, channel, height, width]\n",
    "X_train = np.reshape(X_train, [48000, 1, 1, 1, 784])"
   ]
  },
  {
   "cell_type": "code",
   "execution_count": 57,
   "metadata": {
    "ExecuteTime": {
     "end_time": "2020-03-07T02:06:53.357316Z",
     "start_time": "2020-03-07T02:06:53.329420Z"
    }
   },
   "outputs": [],
   "source": [
    "X_val = np.reshape(X_val, [12000, 1, 1, 1, 784])"
   ]
  },
  {
   "cell_type": "code",
   "execution_count": 58,
   "metadata": {
    "ExecuteTime": {
     "end_time": "2020-03-07T02:06:53.603082Z",
     "start_time": "2020-03-07T02:06:53.598224Z"
    }
   },
   "outputs": [],
   "source": [
    "y_train = np.reshape(y_train, [48000, 10])"
   ]
  },
  {
   "cell_type": "code",
   "execution_count": 59,
   "metadata": {
    "ExecuteTime": {
     "end_time": "2020-03-07T02:06:53.930663Z",
     "start_time": "2020-03-07T02:06:53.928028Z"
    }
   },
   "outputs": [],
   "source": [
    "y_val = np.reshape(y_val, [12000, 10])"
   ]
  },
  {
   "cell_type": "code",
   "execution_count": 91,
   "metadata": {
    "ExecuteTime": {
     "end_time": "2020-03-07T02:17:13.681510Z",
     "start_time": "2020-03-07T02:17:13.667768Z"
    }
   },
   "outputs": [],
   "source": [
    "cnn = Scratch1dCNNClassifier(filters=4, kernel_size=(1, 3), padding=0, strides=1, lr=0.01, n_iter=10, sigma=0.01, verbose = True)"
   ]
  },
  {
   "cell_type": "code",
   "execution_count": 92,
   "metadata": {
    "ExecuteTime": {
     "end_time": "2020-03-07T02:19:21.685715Z",
     "start_time": "2020-03-07T02:17:14.153629Z"
    }
   },
   "outputs": [
    {
     "name": "stdout",
     "output_type": "stream",
     "text": [
      "0\n",
      "1\n",
      "2\n",
      "3\n",
      "4\n",
      "5\n",
      "6\n",
      "7\n",
      "8\n",
      "9\n"
     ]
    }
   ],
   "source": [
    "cnn.fit(X_train[:5000], y_train[:5000])"
   ]
  },
  {
   "cell_type": "code",
   "execution_count": 93,
   "metadata": {
    "ExecuteTime": {
     "end_time": "2020-03-07T02:19:53.552731Z",
     "start_time": "2020-03-07T02:19:53.355676Z"
    }
   },
   "outputs": [],
   "source": [
    "pred = cnn.forward(X_train[:1000])"
   ]
  },
  {
   "cell_type": "code",
   "execution_count": 94,
   "metadata": {
    "ExecuteTime": {
     "end_time": "2020-03-07T02:19:53.795111Z",
     "start_time": "2020-03-07T02:19:53.791125Z"
    }
   },
   "outputs": [],
   "source": [
    "pred = np.argmax(pred, axis=1)"
   ]
  },
  {
   "cell_type": "code",
   "execution_count": 95,
   "metadata": {
    "ExecuteTime": {
     "end_time": "2020-03-07T02:19:54.215799Z",
     "start_time": "2020-03-07T02:19:54.208804Z"
    }
   },
   "outputs": [
    {
     "data": {
      "text/plain": [
       "0.906"
      ]
     },
     "execution_count": 95,
     "metadata": {},
     "output_type": "execute_result"
    }
   ],
   "source": [
    "np.sum(pred==np.argmax(y_train[:1000], axis=1))/len(pred)"
   ]
  },
  {
   "cell_type": "code",
   "execution_count": 96,
   "metadata": {
    "ExecuteTime": {
     "end_time": "2020-03-07T02:20:22.836808Z",
     "start_time": "2020-03-07T02:20:22.616553Z"
    }
   },
   "outputs": [],
   "source": [
    "pred_val = cnn.forward(X_val[:1000])"
   ]
  },
  {
   "cell_type": "code",
   "execution_count": 97,
   "metadata": {
    "ExecuteTime": {
     "end_time": "2020-03-07T02:20:44.627264Z",
     "start_time": "2020-03-07T02:20:44.623480Z"
    }
   },
   "outputs": [],
   "source": [
    "pred_val = np.argmax(pred_val, axis=1)"
   ]
  },
  {
   "cell_type": "code",
   "execution_count": 98,
   "metadata": {
    "ExecuteTime": {
     "end_time": "2020-03-07T02:21:05.901589Z",
     "start_time": "2020-03-07T02:21:05.894968Z"
    }
   },
   "outputs": [
    {
     "data": {
      "text/plain": [
       "0.88"
      ]
     },
     "execution_count": 98,
     "metadata": {},
     "output_type": "execute_result"
    }
   ],
   "source": [
    "np.sum(pred_val==np.argmax(y_val[:1000], axis=1))/len(pred_val)"
   ]
  },
  {
   "cell_type": "code",
   "execution_count": null,
   "metadata": {},
   "outputs": [],
   "source": []
  }
 ],
 "metadata": {
  "kernelspec": {
   "display_name": "Python 3",
   "language": "python",
   "name": "python3"
  },
  "language_info": {
   "codemirror_mode": {
    "name": "ipython",
    "version": 3
   },
   "file_extension": ".py",
   "mimetype": "text/x-python",
   "name": "python",
   "nbconvert_exporter": "python",
   "pygments_lexer": "ipython3",
   "version": "3.7.4"
  },
  "nbTranslate": {
   "displayLangs": [
    "*"
   ],
   "hotkey": "alt-t",
   "langInMainMenu": true,
   "sourceLang": "en",
   "targetLang": "fr",
   "useGoogleTranslate": true
  },
  "toc": {
   "base_numbering": 1,
   "nav_menu": {},
   "number_sections": true,
   "sideBar": true,
   "skip_h1_title": false,
   "title_cell": "Table of Contents",
   "title_sidebar": "Contents",
   "toc_cell": false,
   "toc_position": {},
   "toc_section_display": true,
   "toc_window_display": false
  },
  "varInspector": {
   "cols": {
    "lenName": 16,
    "lenType": 16,
    "lenVar": 40
   },
   "kernels_config": {
    "python": {
     "delete_cmd_postfix": "",
     "delete_cmd_prefix": "del ",
     "library": "var_list.py",
     "varRefreshCmd": "print(var_dic_list())"
    },
    "r": {
     "delete_cmd_postfix": ") ",
     "delete_cmd_prefix": "rm(",
     "library": "var_list.r",
     "varRefreshCmd": "cat(var_dic_list()) "
    }
   },
   "types_to_exclude": [
    "module",
    "function",
    "builtin_function_or_method",
    "instance",
    "_Feature"
   ],
   "window_display": false
  }
 },
 "nbformat": 4,
 "nbformat_minor": 2
}
