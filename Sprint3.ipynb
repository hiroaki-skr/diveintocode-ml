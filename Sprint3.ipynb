{
 "cells": [
  {
   "cell_type": "code",
   "execution_count": 1,
   "metadata": {
    "ExecuteTime": {
     "end_time": "2020-02-12T00:42:47.520555Z",
     "start_time": "2020-02-12T00:42:47.516473Z"
    }
   },
   "outputs": [],
   "source": [
    "import numpy as np"
   ]
  },
  {
   "cell_type": "code",
   "execution_count": 32,
   "metadata": {
    "ExecuteTime": {
     "end_time": "2020-02-12T00:44:53.579494Z",
     "start_time": "2020-02-12T00:44:53.548379Z"
    }
   },
   "outputs": [],
   "source": [
    "class ScratchLogisticRegression():\n",
    "    \"\"\"\n",
    "    ロジスティック回帰のスクラッチ実装\n",
    "\n",
    "    Parameters\n",
    "    ----------\n",
    "    num_iter : int\n",
    "      イテレーション数\n",
    "    lr : float\n",
    "      学習率\n",
    "    bias : bool\n",
    "      バイアス項を入れない場合はTrue\n",
    "    verbose : bool\n",
    "      学習過程を出力する場合はTrue\n",
    "\n",
    "    Attributes\n",
    "    ----------\n",
    "    self.coef_ : 次の形のndarray, shape (n_features,)\n",
    "      パラメータ\n",
    "    self.loss : 次の形のndarray, shape (self.iter,)\n",
    "      学習用データに対する損失の記録\n",
    "    self.val_loss : 次の形のndarray, shape (self.iter,)\n",
    "      検証用データに対する損失の記録\n",
    "\n",
    "    \"\"\"\n",
    "\n",
    "    def __init__(self, num_iter=10000, lr=0.0001, bias=True, verbose=False, C=0.01):\n",
    "        # ハイパーパラメータを属性として記録\n",
    "        self.iter = num_iter\n",
    "        self.lr = lr\n",
    "        self.bias = bias\n",
    "        self.verbose = verbose\n",
    "        # 損失を記録する配列を用意\n",
    "        self.loss = np.zeros(self.iter)\n",
    "        self.val_loss = np.zeros(self.iter)\n",
    "        self.C = C\n",
    "\n",
    "    def fit(self, X, y, X_val=None, y_val=None):\n",
    "        \"\"\"\n",
    "        ロジスティック回帰を学習する。検証用データが入力された場合はそれに対する損失と精度もイテレーションごとに計算する。\n",
    "\n",
    "        Parameters\n",
    "        ----------\n",
    "        X : 次の形のndarray, shape (n_samples, n_features)\n",
    "            学習用データの特徴量\n",
    "        y : 次の形のndarray, shape (n_samples, )\n",
    "            学習用データの正解値\n",
    "        X_val : 次の形のndarray, shape (n_samples, n_features)\n",
    "            検証用データの特徴量\n",
    "        y_val : 次の形のndarray, shape (n_samples, )\n",
    "            検証用データの正解値\n",
    "        \"\"\"\n",
    "\n",
    "        X = np.array(X)\n",
    "        y = np.array(y)\n",
    "        X_val = np.array(X_val)\n",
    "        y_val = np.array(y_val)\n",
    "        \n",
    "        n_features = X.shape[1]\n",
    "        if self.bias == True:\n",
    "            self.coef_ = np.random.random_sample(n_features+1)\n",
    "        else:\n",
    "            self.coef_ = np.random.random_sample(n_features)\n",
    "        \n",
    "        for iter in range(self.iter):\n",
    "            pred = self.hypothesis(X)\n",
    "            pred_val = self.hypothesis(X_val)\n",
    "            error = pred - y\n",
    "            self.coef_ = self._gradient_descent(X, error)\n",
    "            self.loss[iter] = self.cost_(X, y, pred)\n",
    "            self.val_loss[iter] = self.cost_(X_val, y_val, pred_val)\n",
    "        \n",
    "            if self.verbose:\n",
    "                if iter % 100 == 0:\n",
    "                    print(\"loss:{} val_loss:{}\".format(self.cost_(X, y, pred), self.cost_(X_val, y_val, pred_val)))\n",
    "                \n",
    "                \n",
    "                \n",
    "    def cost_(self, X, y, pred):\n",
    "        reg = self.C * np.sum(self.coef_[1:]**2) / (2*X.shape[0])\n",
    "        return np.sum(-y.T.dot(np.log(pred+1e-10))-(1-y).T.dot(np.log(1-pred+1e-10)))/X.shape[0] + reg\n",
    "\n",
    "    def predict(self, X):\n",
    "        \"\"\"\n",
    "        ロジスティック回帰を使いラベルを推定する。\n",
    "\n",
    "        Parameters\n",
    "        ----------\n",
    "        X : 次の形のndarray, shape (n_samples, n_features)\n",
    "            サンプル\n",
    "\n",
    "        Returns\n",
    "        -------\n",
    "            次の形のndarray, shape (n_samples, 1)\n",
    "            ロジスティック回帰による推定結果\n",
    "        \"\"\"\n",
    "        return self.threshold(X)\n",
    "\n",
    "    def predict_proba(self, X):\n",
    "        \"\"\"\n",
    "        ロジスティック回帰を使い確率を推定する。\n",
    "\n",
    "        Parameters\n",
    "        ----------\n",
    "        X : 次の形のndarray, shape (n_samples, n_features)\n",
    "            サンプル\n",
    "\n",
    "        Returns\n",
    "        -------\n",
    "            次の形のndarray, shape (n_samples, 1)\n",
    "            ロジスティック回帰による推定結果\n",
    "        \"\"\"\n",
    "        return self.hypothesis(X)\n",
    "    \n",
    "    def sigmoid(self, z):\n",
    "        return 1 / ( 1 + np.exp(-z))\n",
    "    \n",
    "    def hypothesis(self, X):\n",
    "        if self.bias == True:\n",
    "            z = X.dot(self.coef_[1:].T)+self.coef_[0]\n",
    "        else:\n",
    "            z = X.dot(self.coef_.T)\n",
    "            \n",
    "        return self.sigmoid(z)\n",
    "\n",
    "    def _gradient_descent(self, X, error):\n",
    "        if self.bias == True:\n",
    "            self.coef_[1:] -= self.lr * np.dot(error, X) + (self.C*(self.coef_[1:]))/(X.shape[0])\n",
    "            self.coef_[0] -= self.lr * error.sum() / X.shape[0]\n",
    "        else:\n",
    "            self.coef_ -= self.lr * np.dot(error, X)\n",
    "        return self.coef_\n",
    "        \n",
    "    def threshold(self, X):\n",
    "        return np.where(self.hypothesis(X) >= 0.5, 1, 0)\n"
   ]
  },
  {
   "cell_type": "markdown",
   "metadata": {},
   "source": [
    "# 【問題1】〜　【問題４】"
   ]
  },
  {
   "cell_type": "markdown",
   "metadata": {},
   "source": [
    "上記にて"
   ]
  },
  {
   "cell_type": "markdown",
   "metadata": {},
   "source": [
    "# 【問題5】学習と推定\n",
    "機械学習スクラッチ入門のSprintで用意したirisデータセットのvirgicolorとvirginicaの2値分類に対してスクラッチ実装の学習と推定を行なってください。\n",
    "\n",
    "scikit-learnによる実装と比べ、正しく動いているかを確認してください。\n",
    "\n",
    "AccuracyやPrecision、Recallなどの指標値はscikit-learnを使用してください。"
   ]
  },
  {
   "cell_type": "code",
   "execution_count": 33,
   "metadata": {
    "ExecuteTime": {
     "end_time": "2020-02-12T00:44:54.875490Z",
     "start_time": "2020-02-12T00:44:54.871640Z"
    }
   },
   "outputs": [],
   "source": [
    "from sklearn.datasets import load_iris\n",
    "from sklearn.linear_model import LogisticRegression\n",
    "import pandas as pd"
   ]
  },
  {
   "cell_type": "code",
   "execution_count": 34,
   "metadata": {
    "ExecuteTime": {
     "end_time": "2020-02-12T00:44:55.132157Z",
     "start_time": "2020-02-12T00:44:55.126007Z"
    }
   },
   "outputs": [],
   "source": [
    "iris = load_iris()"
   ]
  },
  {
   "cell_type": "code",
   "execution_count": 35,
   "metadata": {
    "ExecuteTime": {
     "end_time": "2020-02-12T00:44:55.353855Z",
     "start_time": "2020-02-12T00:44:55.345613Z"
    }
   },
   "outputs": [],
   "source": [
    "df = pd.DataFrame(iris.data, columns=iris.feature_names)"
   ]
  },
  {
   "cell_type": "code",
   "execution_count": 36,
   "metadata": {
    "ExecuteTime": {
     "end_time": "2020-02-12T00:44:55.525443Z",
     "start_time": "2020-02-12T00:44:55.520122Z"
    }
   },
   "outputs": [],
   "source": [
    "df[\"target\"] = iris.target"
   ]
  },
  {
   "cell_type": "code",
   "execution_count": 37,
   "metadata": {
    "ExecuteTime": {
     "end_time": "2020-02-12T00:44:55.706740Z",
     "start_time": "2020-02-12T00:44:55.699033Z"
    }
   },
   "outputs": [],
   "source": [
    "df_data = df[df[\"target\"]>=1]"
   ]
  },
  {
   "cell_type": "code",
   "execution_count": 38,
   "metadata": {
    "ExecuteTime": {
     "end_time": "2020-02-12T00:44:55.912993Z",
     "start_time": "2020-02-12T00:44:55.904583Z"
    }
   },
   "outputs": [],
   "source": [
    "X = df_data.iloc[:, 0:4]\n",
    "y = df_data[\"target\"]\n",
    "y = np.where(y==1, 0, 1)"
   ]
  },
  {
   "cell_type": "code",
   "execution_count": 39,
   "metadata": {
    "ExecuteTime": {
     "end_time": "2020-02-12T00:44:56.373615Z",
     "start_time": "2020-02-12T00:44:56.367044Z"
    }
   },
   "outputs": [],
   "source": [
    "from sklearn.model_selection import train_test_split\n",
    "tr_x, val_x, tr_y, val_y = train_test_split(X, y, test_size=0.2, random_state=0)"
   ]
  },
  {
   "cell_type": "code",
   "execution_count": 40,
   "metadata": {
    "ExecuteTime": {
     "end_time": "2020-02-12T00:44:56.927778Z",
     "start_time": "2020-02-12T00:44:56.923626Z"
    }
   },
   "outputs": [],
   "source": [
    "slr = ScratchLogisticRegression(num_iter=1000, lr=0.0001, bias=True, verbose=True, C=0.01)\n",
    "lr = LogisticRegression()"
   ]
  },
  {
   "cell_type": "code",
   "execution_count": 41,
   "metadata": {
    "ExecuteTime": {
     "end_time": "2020-02-12T00:44:57.370902Z",
     "start_time": "2020-02-12T00:44:57.168084Z"
    }
   },
   "outputs": [
    {
     "name": "stdout",
     "output_type": "stream",
     "text": [
      "loss:5.780855899986248 val_loss:6.017491944234373\n",
      "loss:0.6805795733453315 val_loss:0.6818487439253417\n",
      "loss:0.6525017775807602 val_loss:0.6552393173311419\n",
      "loss:0.6269404348343561 val_loss:0.6310828834697151\n",
      "loss:0.6036393286216373 val_loss:0.6091269256655589\n",
      "loss:0.582365709685291 val_loss:0.5891440684368984\n",
      "loss:0.5629097936496197 val_loss:0.5709293199958022\n",
      "loss:0.5450836184400799 val_loss:0.5542988728670593\n",
      "loss:0.5287195005677736 val_loss:0.5390885760133516\n",
      "loss:0.5136682925412911 val_loss:0.5251522491105339\n"
     ]
    },
    {
     "data": {
      "text/plain": [
       "LogisticRegression(C=1.0, class_weight=None, dual=False, fit_intercept=True,\n",
       "                   intercept_scaling=1, l1_ratio=None, max_iter=100,\n",
       "                   multi_class='auto', n_jobs=None, penalty='l2',\n",
       "                   random_state=None, solver='lbfgs', tol=0.0001, verbose=0,\n",
       "                   warm_start=False)"
      ]
     },
     "execution_count": 41,
     "metadata": {},
     "output_type": "execute_result"
    }
   ],
   "source": [
    "slr.fit(tr_x, tr_y, val_x, val_y)\n",
    "lr.fit(tr_x, tr_y)"
   ]
  },
  {
   "cell_type": "code",
   "execution_count": 42,
   "metadata": {
    "ExecuteTime": {
     "end_time": "2020-02-12T00:44:58.515881Z",
     "start_time": "2020-02-12T00:44:58.477790Z"
    }
   },
   "outputs": [],
   "source": [
    "pred_tr = slr.predict(tr_x)\n",
    "pred_val = slr.predict(val_x)\n",
    "pred_tr_lr = lr.predict(tr_x)\n",
    "pred_val_lr = lr.predict(val_x)"
   ]
  },
  {
   "cell_type": "markdown",
   "metadata": {},
   "source": [
    "正解率"
   ]
  },
  {
   "cell_type": "code",
   "execution_count": 43,
   "metadata": {
    "ExecuteTime": {
     "end_time": "2020-02-12T00:45:00.686416Z",
     "start_time": "2020-02-12T00:45:00.679324Z"
    }
   },
   "outputs": [
    {
     "name": "stdout",
     "output_type": "stream",
     "text": [
      "ScratchLogisticRegression(tr):0.912\n",
      "ScratchLogisticRegression(val):0.850\n",
      "LogisticRegression(tr):0.963\n",
      "LogisticRegression(val):0.900\n"
     ]
    }
   ],
   "source": [
    "print(\"ScratchLogisticRegression(tr):{:.3f}\".format(np.sum(tr_y == pred_tr)/len(tr_y)))\n",
    "print(\"ScratchLogisticRegression(val):{:.3f}\".format(np.sum(val_y == pred_val)/len(val_y)))\n",
    "print(\"LogisticRegression(tr):{:.3f}\".format(np.sum(tr_y == pred_tr_lr)/len(tr_y)))\n",
    "print(\"LogisticRegression(val):{:.3f}\".format(np.sum(val_y == pred_val_lr)/len(val_y)))"
   ]
  },
  {
   "cell_type": "markdown",
   "metadata": {
    "ExecuteTime": {
     "end_time": "2020-02-10T06:39:00.826189Z",
     "start_time": "2020-02-10T06:39:00.810946Z"
    }
   },
   "source": [
    "# 【問題6】学習曲線のプロット\n",
    "学習曲線を見て損失が適切に下がっているかどうか確認してください。"
   ]
  },
  {
   "cell_type": "code",
   "execution_count": 44,
   "metadata": {
    "ExecuteTime": {
     "end_time": "2020-02-12T00:45:02.896077Z",
     "start_time": "2020-02-12T00:45:02.315339Z"
    }
   },
   "outputs": [
    {
     "data": {
      "image/png": "[encoded data removed]",
      "text/plain": [
       "<Figure size 432x288 with 1 Axes>"
      ]
     },
     "metadata": {
      "needs_background": "light"
     },
     "output_type": "display_data"
    }
   ],
   "source": [
    "import matplotlib.pyplot as plt\n",
    "plt.plot(range(0,slr.iter), slr.val_loss, label=\"val\")\n",
    "plt.plot(range(0,slr.iter), slr.loss, color='r', label=\"train\")\n",
    "plt.legend()\n",
    "plt.xlabel(\"iter\")\n",
    "plt.ylabel(\"loss\")\n",
    "plt.show()"
   ]
  },
  {
   "cell_type": "markdown",
   "metadata": {},
   "source": [
    "# 【問題7】決定領域の可視化\n",
    "決定領域を可視化してください。"
   ]
  },
  {
   "cell_type": "code",
   "execution_count": 45,
   "metadata": {
    "ExecuteTime": {
     "end_time": "2020-02-12T00:45:04.237119Z",
     "start_time": "2020-02-12T00:45:04.224709Z"
    }
   },
   "outputs": [],
   "source": [
    "import matplotlib.pyplot as plt\n",
    "from matplotlib.colors import ListedColormap\n",
    "import matplotlib.patches as mpatches\n",
    "\n",
    "def decision_region(X, y, model, step=0.01, title='decision region', xlabel='xlabel', ylabel='ylabel', target_names=['versicolor', 'virginica']):\n",
    "    \"\"\"\n",
    "    2値分類を2次元の特徴量で学習したモデルの決定領域を描く。\n",
    "    背景の色が学習したモデルによる推定値から描画される。\n",
    "    散布図の点は訓練データまたは検証データである。\n",
    "\n",
    "    Parameters\n",
    "    ----------------\n",
    "    X : ndarray, shape(n_samples, 2)\n",
    "        特徴量\n",
    "    y : ndarray, shape(n_samples,)\n",
    "        ラベル\n",
    "    model : object\n",
    "        学習したモデルのインスンタスを入れる\n",
    "    step : float, (default : 0.1)\n",
    "        推定値を計算する間隔を設定する\n",
    "    title : str\n",
    "        グラフのタイトルの文章を与える\n",
    "    xlabel, ylabel : str\n",
    "        軸ラベルの文章を与える\n",
    "    target_names= : list of str\n",
    "        凡例の一覧を与える\n",
    "    \"\"\"\n",
    "    # setting\n",
    "    scatter_color = ['red', 'blue']\n",
    "    contourf_color = ['pink', 'skyblue']\n",
    "    n_class = 2\n",
    "\n",
    "    # pred\n",
    "    mesh_f0, mesh_f1  = np.meshgrid(np.arange(np.min(X[:,0])-0.5, np.max(X[:,0])+0.5, step), np.arange(np.min(X[:,1])-0.5, np.max(X[:,1])+0.5, step))\n",
    "    mesh = np.c_[np.ravel(mesh_f0),np.ravel(mesh_f1)]\n",
    "    y_pred = model.predict(mesh).reshape(mesh_f0.shape)\n",
    "\n",
    "    # plot\n",
    "    plt.title(title)\n",
    "    plt.xlabel(xlabel)\n",
    "    plt.ylabel(ylabel)\n",
    "    plt.contourf(mesh_f0, mesh_f1, y_pred, n_class-1, cmap=ListedColormap(contourf_color))\n",
    "    plt.contour(mesh_f0, mesh_f1, y_pred, n_class-1, colors='y', linewidths=3, alpha=0.5)\n",
    "    for i, target in enumerate(set(y)):\n",
    "        plt.scatter(X[y==target][:, 0], X[y==target][:, 1], s=80, color=scatter_color[i], label=target_names[i], marker='o')\n",
    "    patches = [mpatches.Patch(color=scatter_color[i], label=target_names[i]) for i in range(n_class)]\n",
    "    plt.legend(handles=patches)\n",
    "    plt.legend()\n",
    "    plt.show()"
   ]
  },
  {
   "cell_type": "code",
   "execution_count": 46,
   "metadata": {
    "ExecuteTime": {
     "end_time": "2020-02-12T00:45:05.288556Z",
     "start_time": "2020-02-12T00:45:05.279411Z"
    }
   },
   "outputs": [],
   "source": [
    "slr1 = ScratchLogisticRegression()\n",
    "x_t = tr_x[[\"sepal length (cm)\", \"petal length (cm)\"]]\n",
    "y_t = tr_y\n",
    "x_v = val_x[[\"sepal length (cm)\", \"petal length (cm)\"]]\n",
    "y_v = val_y"
   ]
  },
  {
   "cell_type": "code",
   "execution_count": 47,
   "metadata": {
    "ExecuteTime": {
     "end_time": "2020-02-12T00:45:06.753251Z",
     "start_time": "2020-02-12T00:45:05.832007Z"
    }
   },
   "outputs": [],
   "source": [
    "slr1.fit(x_t, y_t, x_v, y_v)"
   ]
  },
  {
   "cell_type": "code",
   "execution_count": 48,
   "metadata": {
    "ExecuteTime": {
     "end_time": "2020-02-12T00:45:07.123682Z",
     "start_time": "2020-02-12T00:45:06.811373Z"
    }
   },
   "outputs": [
    {
     "data": {
      "image/png": "[encoded data removed]",
      "text/plain": [
       "<Figure size 432x288 with 1 Axes>"
      ]
     },
     "metadata": {
      "needs_background": "light"
     },
     "output_type": "display_data"
    }
   ],
   "source": [
    "x_t = np.array(x_t)\n",
    "y_t = np.array(y_t)\n",
    "decision_region(x_t, y_t, slr1)"
   ]
  },
  {
   "cell_type": "markdown",
   "metadata": {},
   "source": [
    "# 【問題8】（アドバンス課題）重みの保存\n",
    "検証が容易になるように、学習した重みを保存および読み込みができるようにしましょう。pickleモジュールやNumPyのnp.savezを利用します。"
   ]
  },
  {
   "cell_type": "code",
   "execution_count": 49,
   "metadata": {
    "ExecuteTime": {
     "end_time": "2020-02-12T00:45:08.056024Z",
     "start_time": "2020-02-12T00:45:08.049970Z"
    }
   },
   "outputs": [
    {
     "data": {
      "text/plain": [
       "['sepal length (cm)',\n",
       " 'sepal width (cm)',\n",
       " 'petal length (cm)',\n",
       " 'petal width (cm)']"
      ]
     },
     "execution_count": 49,
     "metadata": {},
     "output_type": "execute_result"
    }
   ],
   "source": [
    "iris.feature_names"
   ]
  },
  {
   "cell_type": "code",
   "execution_count": 50,
   "metadata": {
    "ExecuteTime": {
     "end_time": "2020-02-12T00:45:08.525884Z",
     "start_time": "2020-02-12T00:45:08.522828Z"
    }
   },
   "outputs": [],
   "source": [
    "index = ['bias', 'sepal length (cm)', 'sepal width (cm)', 'petal length (cm)', 'petal width (cm)']"
   ]
  },
  {
   "cell_type": "code",
   "execution_count": 51,
   "metadata": {
    "ExecuteTime": {
     "end_time": "2020-02-12T00:45:09.270333Z",
     "start_time": "2020-02-12T00:45:09.262391Z"
    }
   },
   "outputs": [],
   "source": [
    "df = pd.DataFrame({\"feature_name\":index,\n",
    "              \"coefficient\":slr.coef_})"
   ]
  },
  {
   "cell_type": "markdown",
   "metadata": {},
   "source": [
    "\n"
   ]
  },
  {
   "cell_type": "code",
   "execution_count": 52,
   "metadata": {
    "ExecuteTime": {
     "end_time": "2020-02-12T00:45:10.591710Z",
     "start_time": "2020-02-12T00:45:10.584997Z"
    }
   },
   "outputs": [],
   "source": [
    "df.to_pickle('coef.pkl')"
   ]
  },
  {
   "cell_type": "code",
   "execution_count": 53,
   "metadata": {
    "ExecuteTime": {
     "end_time": "2020-02-12T00:45:13.168305Z",
     "start_time": "2020-02-12T00:45:13.157394Z"
    }
   },
   "outputs": [
    {
     "data": {
      "text/html": [
       "<div>\n",
       "<style scoped>\n",
       "    .dataframe tbody tr th:only-of-type {\n",
       "        vertical-align: middle;\n",
       "    }\n",
       "\n",
       "    .dataframe tbody tr th {\n",
       "        vertical-align: top;\n",
       "    }\n",
       "\n",
       "    .dataframe thead th {\n",
       "        text-align: right;\n",
       "    }\n",
       "</style>\n",
       "<table border=\"1\" class=\"dataframe\">\n",
       "  <thead>\n",
       "    <tr style=\"text-align: right;\">\n",
       "      <th></th>\n",
       "      <th>feature_name</th>\n",
       "      <th>coefficient</th>\n",
       "    </tr>\n",
       "  </thead>\n",
       "  <tbody>\n",
       "    <tr>\n",
       "      <th>0</th>\n",
       "      <td>bias</td>\n",
       "      <td>0.967387</td>\n",
       "    </tr>\n",
       "    <tr>\n",
       "      <th>1</th>\n",
       "      <td>sepal length (cm)</td>\n",
       "      <td>-0.722159</td>\n",
       "    </tr>\n",
       "    <tr>\n",
       "      <th>2</th>\n",
       "      <td>sepal width (cm)</td>\n",
       "      <td>-0.529734</td>\n",
       "    </tr>\n",
       "    <tr>\n",
       "      <th>3</th>\n",
       "      <td>petal length (cm)</td>\n",
       "      <td>0.897518</td>\n",
       "    </tr>\n",
       "    <tr>\n",
       "      <th>4</th>\n",
       "      <td>petal width (cm)</td>\n",
       "      <td>0.502730</td>\n",
       "    </tr>\n",
       "  </tbody>\n",
       "</table>\n",
       "</div>"
      ],
      "text/plain": [
       "        feature_name  coefficient\n",
       "0               bias     0.967387\n",
       "1  sepal length (cm)    -0.722159\n",
       "2   sepal width (cm)    -0.529734\n",
       "3  petal length (cm)     0.897518\n",
       "4   petal width (cm)     0.502730"
      ]
     },
     "execution_count": 53,
     "metadata": {},
     "output_type": "execute_result"
    }
   ],
   "source": [
    "pd.read_pickle('coef.pkl')"
   ]
  },
  {
   "cell_type": "code",
   "execution_count": null,
   "metadata": {},
   "outputs": [],
   "source": []
  }
 ],
 "metadata": {
  "kernelspec": {
   "display_name": "Python 3",
   "language": "python",
   "name": "python3"
  },
  "language_info": {
   "codemirror_mode": {
    "name": "ipython",
    "version": 3
   },
   "file_extension": ".py",
   "mimetype": "text/x-python",
   "name": "python",
   "nbconvert_exporter": "python",
   "pygments_lexer": "ipython3",
   "version": "3.7.6"
  },
  "nbTranslate": {
   "displayLangs": [
    "*"
   ],
   "hotkey": "alt-t",
   "langInMainMenu": true,
   "sourceLang": "en",
   "targetLang": "fr",
   "useGoogleTranslate": true
  },
  "toc": {
   "base_numbering": 1,
   "nav_menu": {},
   "number_sections": true,
   "sideBar": true,
   "skip_h1_title": false,
   "title_cell": "Table of Contents",
   "title_sidebar": "Contents",
   "toc_cell": false,
   "toc_position": {},
   "toc_section_display": true,
   "toc_window_display": true
  },
  "varInspector": {
   "cols": {
    "lenName": 16,
    "lenType": 16,
    "lenVar": 40
   },
   "kernels_config": {
    "python": {
     "delete_cmd_postfix": "",
     "delete_cmd_prefix": "del ",
     "library": "var_list.py",
     "varRefreshCmd": "print(var_dic_list())"
    },
    "r": {
     "delete_cmd_postfix": ") ",
     "delete_cmd_prefix": "rm(",
     "library": "var_list.r",
     "varRefreshCmd": "cat(var_dic_list()) "
    }
   },
   "types_to_exclude": [
    "module",
    "function",
    "builtin_function_or_method",
    "instance",
    "_Feature"
   ],
   "window_display": false
  }
 },
 "nbformat": 4,
 "nbformat_minor": 2
}
