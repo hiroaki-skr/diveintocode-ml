{
 "cells": [
  {
   "cell_type": "markdown",
   "metadata": {},
   "source": [
    "【問題1】行列積を手計算する\n",
    "AとBの行列積を手計算で解いてください。\n",
    "\n",
    "計算過程もマークダウンテキストを用いて説明してください。"
   ]
  },
  {
   "cell_type": "markdown",
   "metadata": {},
   "source": [
    "＜計算式＞\n",
    "AB = Cとすると\n",
    "\n",
    "$c_{ik}$ = $\\sum_{ j = 0 }^{ 2 } a_{ij}b_{jk}$\n",
    "という計算となるので\n",
    "AB = [[6, 29, -20],\n",
    "         [12, 52, 38],\n",
    "         [-18, -51, -48]]\n"
   ]
  },
  {
   "cell_type": "markdown",
   "metadata": {},
   "source": [
    "【問題2】NumPyの関数による計算\n",
    "この行列積はNumPyのnp.matmul()やnp.dot()、または@演算子を使うことで簡単に計算できます。"
   ]
  },
  {
   "cell_type": "code",
   "execution_count": 10,
   "metadata": {},
   "outputs": [
    {
     "name": "stdout",
     "output_type": "stream",
     "text": [
      "[[  6  29 -20]\n",
      " [ 12  52  38]\n",
      " [-18 -51 -48]]\n",
      "[[  6  29 -20]\n",
      " [ 12  52  38]\n",
      " [-18 -51 -48]]\n",
      "[[  6  29 -20]\n",
      " [ 12  52  38]\n",
      " [-18 -51 -48]]\n"
     ]
    }
   ],
   "source": [
    "import numpy as np\n",
    "A = np.array([[-1, 2, 3], [4, -5, 6], [7, 8, -9]])\n",
    "B = np.array([[0, 2, 1], [0, 2, -8], [2, 9, -1]])\n",
    "print(A@B)\n",
    "print(np.matmul(A, B))\n",
    "print(A.dot(B))"
   ]
  },
  {
   "cell_type": "markdown",
   "metadata": {},
   "source": [
    "【問題3】ある要素の計算を実装\n",
    "手計算をする際はまず行列Aの0行目と行列Bの0列目に注目し、以下の計算を行ったかと思います。\n",
    "\n",
    "行列Aの(0,0)の要素 \n",
    "a\n",
    "0\n",
    ",\n",
    "0\n",
    " と行列Bの(0,0)の要素 \n",
    "b\n",
    "0\n",
    ",\n",
    "0\n",
    " を掛け合わせる\n",
    "行列Aの(0,1)の要素 \n",
    "a\n",
    "0\n",
    ",\n",
    "1\n",
    " と行列Bの(1,0)の要素 \n",
    "b\n",
    "1\n",
    ",\n",
    "0\n",
    " を掛け合わせる\n",
    "行列Aの(0,2)の要素 \n",
    "a\n",
    "0\n",
    ",\n",
    "2\n",
    " と行列Bの(2,0)の要素 \n",
    "b\n",
    "2\n",
    ",\n",
    "0\n",
    " を掛け合わせる\n",
    "それらの値を全て足し合わせる\n",
    "数式で表すと\n",
    "\n",
    "2\n",
    "∑\n",
    "k\n",
    "=\n",
    "0\n",
    " \n",
    "a\n",
    "0\n",
    ",\n",
    "k\n",
    "b\n",
    "k\n",
    ",\n",
    "0\n",
    "です。\n",
    "\n",
    "この計算をnp.matmul()やnp.dot()、または@演算子を使わずに行うコードを書いてください。\n",
    "\n",
    "【問題4】行列積を行う関数の作成\n",
    "問題3のコードを拡張し、行列積のスクラッチ実装を完成させてください。行列AとBを引数に受け取り、行列積を返す関数としてください。\n",
    "\n",
    "行列積を計算する場合は、問題3の計算を異なる行や列に対して繰り返していくことになります。\n",
    "\n",
    "計算結果である \n",
    "3\n",
    "×\n",
    "3\n",
    " の行列Cの各要素 \n",
    "c\n",
    "i\n",
    ",\n",
    "j\n",
    " は数式で表すと次のようになります。\n",
    "\n",
    "c\n",
    "i\n",
    ",\n",
    "j\n",
    "=\n",
    "2\n",
    "∑\n",
    "k\n",
    "=\n",
    "0\n",
    " \n",
    "a\n",
    "i\n",
    ",\n",
    "k\n",
    "b\n",
    "k\n",
    ",\n",
    "j\n",
    "for文を使い、ndarrayのインデックスを動かしていくことで、合計9つの要素が計算できます。インデックス \n",
    "i\n",
    " や \n",
    "j\n",
    " を1増やすと、次の行や列に移ることができます。\n",
    " \n",
    " 【問題5】計算が定義されない入力を判定する\n",
    "問題4で作成した関数は、実装方法によってはこのDとEの配列を入力しても動いてしまう可能性があります。この場合、不適切な計算が行われることになります。また、途中でエラーになる場合でも、なぜエラーになったかが直接的には分かりづらいメッセージが表示されます。\n",
    "\n",
    "if文などによってこれを防ぎ、入力される形に問題があることをprint()を使い表示するコードを書き加えてください。"
   ]
  },
  {
   "cell_type": "code",
   "execution_count": 18,
   "metadata": {},
   "outputs": [],
   "source": [
    "def mat_calc(A, B):\n",
    "    \"\"\"\n",
    "    ２つの行列積の計算を行う関数\n",
    "    定義にあわず計算不可な時はエラーメッセージを表示する。\n",
    "    \n",
    "    パラメーター\n",
    "    ーーーーーーーーーー\n",
    "    A、B : 配列\n",
    "        計算対象となる配列を引数に指定\n",
    "    \n",
    "    戻り値\n",
    "    ーーーーーーーーーー\n",
    "    計算可能の場合\n",
    "    calc_list_ndarray : 配列\n",
    "        計算結果の配列を返す\n",
    "    \n",
    "    計算不可の場合\n",
    "    エラーメッセージを表示\n",
    "    \n",
    "    \"\"\"\n",
    "    calc_list = []\n",
    "    ah = len(A)\n",
    "    aw = len(A[0])\n",
    "    bh = len(B)\n",
    "    bw = len(B[0])\n",
    "    if aw == bh:\n",
    "        for i in range(ah):\n",
    "            for k in range(bw):\n",
    "                total = 0\n",
    "                for j in range(aw):\n",
    "                    calc = A[i][j]*B[j][k]\n",
    "                    total += calc\n",
    "                calc_list.append(total)\n",
    "\n",
    "        calc_list_ndarray = np.array(calc_list)\n",
    "        calc_list_ndarray = calc_list_ndarray.reshape(ah, bw)\n",
    "        return calc_list_ndarray\n",
    "    else:\n",
    "        print(\"※警告：積の左側の列の次元と右側の行の次元が一致しないため、計算できません。確認してください!\")"
   ]
  },
  {
   "cell_type": "code",
   "execution_count": 19,
   "metadata": {},
   "outputs": [
    {
     "data": {
      "text/plain": [
       "array([[  6,  29, -20],\n",
       "       [ 12,  52,  38],\n",
       "       [-18, -51, -48]])"
      ]
     },
     "execution_count": 19,
     "metadata": {},
     "output_type": "execute_result"
    }
   ],
   "source": [
    "mat_calc(A, B)"
   ]
  },
  {
   "cell_type": "code",
   "execution_count": 20,
   "metadata": {},
   "outputs": [],
   "source": [
    "D = np.array([[-1, 2, 3], [4, -5, 6]])\n",
    "E = np.array([[-9, 8, 7], [6, -5, 4]])"
   ]
  },
  {
   "cell_type": "code",
   "execution_count": 21,
   "metadata": {},
   "outputs": [
    {
     "name": "stdout",
     "output_type": "stream",
     "text": [
      "※注意：積の左側の列の次元と右側の行の次元が一致しないため、計算できません。確認してください!\n"
     ]
    }
   ],
   "source": [
    "mat_calc(D, E)"
   ]
  },
  {
   "cell_type": "markdown",
   "metadata": {},
   "source": [
    "【問題6】転置\n",
    "片方の行列を転置することで、行列積が計算できるようになります。\n",
    "\n",
    "np.transpose()や.Tアトリビュートを用いて転置し、行列積を計算してください。"
   ]
  },
  {
   "cell_type": "code",
   "execution_count": 22,
   "metadata": {},
   "outputs": [
    {
     "data": {
      "text/plain": [
       "array([[ 46,  -4],\n",
       "       [-34,  73]])"
      ]
     },
     "execution_count": 22,
     "metadata": {},
     "output_type": "execute_result"
    }
   ],
   "source": [
    "mat_calc(D, E.T)"
   ]
  },
  {
   "cell_type": "code",
   "execution_count": null,
   "metadata": {},
   "outputs": [],
   "source": []
  }
 ],
 "metadata": {
  "kernelspec": {
   "display_name": "Python 3",
   "language": "python",
   "name": "python3"
  },
  "language_info": {
   "codemirror_mode": {
    "name": "ipython",
    "version": 3
   },
   "file_extension": ".py",
   "mimetype": "text/x-python",
   "name": "python",
   "nbconvert_exporter": "python",
   "pygments_lexer": "ipython3",
   "version": "3.7.6"
  }
 },
 "nbformat": 4,
 "nbformat_minor": 2
}
