{
 "cells": [
  {
   "cell_type": "code",
   "execution_count": 2,
   "metadata": {
    "ExecuteTime": {
     "end_time": "2020-02-27T14:23:51.519455Z",
     "start_time": "2020-02-27T14:23:51.488971Z"
    }
   },
   "outputs": [],
   "source": [
    "\n",
    "from sklearn.preprocessing import OneHotEncoder\n",
    "import numpy as np\n",
    "import pdb\n",
    "\n",
    "class ScratchSimpleNeuralNetrowkClassifier():\n",
    "    \"\"\"\n",
    "    シンプルな三層ニューラルネットワーク分類器\n",
    "\n",
    "    Parameters\n",
    "    ----------\n",
    "\n",
    "    Attributes\n",
    "    ----------\n",
    "    \"\"\"\n",
    "    def __init__(self, lr=0.001, n_iter=10, verbose = False):\n",
    "        self.verbose = verbose\n",
    "        self.W1 = None\n",
    "        self.b1 = None\n",
    "        self.W2 = None\n",
    "        self.b2 = None\n",
    "        self.W3 = None\n",
    "        self.b3 = None\n",
    "        self.a1 = None\n",
    "        self.z1 = None\n",
    "        self.a2 = None\n",
    "        self.z2 = None\n",
    "        self.a3 = None\n",
    "        self.output = None\n",
    "        self.loss = None\n",
    "        self.y_one_hot = None\n",
    "        self.y_val_one_hot = None\n",
    "        self.batch_size = 100\n",
    "        self.lr = lr\n",
    "        self.cost_list = []\n",
    "        self.cost_list_val = []\n",
    "        self.iter = n_iter\n",
    "        \n",
    "        pass\n",
    "    def fit(self, X, y, X_val=None, y_val=None):\n",
    "        \"\"\"\n",
    "        ニューラルネットワーク分類器を学習する。\n",
    "\n",
    "        Parameters\n",
    "        ----------\n",
    "        X : 次の形のndarray, shape (n_samples, n_features)\n",
    "            訓練データの特徴量\n",
    "        y : 次の形のndarray, shape (n_samples, )\n",
    "            訓練データの正解値\n",
    "        X_val : 次の形のndarray, shape (n_samples, n_features)\n",
    "            検証データの特徴量\n",
    "        y_val : 次の形のndarray, shape (n_samples, )\n",
    "            検証データの正解値\n",
    "        \"\"\"        \n",
    "        n_batch = X.shape[0] // self.batch_size\n",
    "        self.init_weight()\n",
    "        for ite in range(self.iter):\n",
    "            batch_cnt=0\n",
    "            for i in range(n_batch):\n",
    "                x_batch = X[i*self.batch_size: (i+1)*self.batch_size, :] \n",
    "                y_batch = y[i*self.batch_size: (i+1)*self.batch_size, :]\n",
    "                self.forward(x_batch)\n",
    "                cost = (1/self.batch_size)*self.cost(y_batch)\n",
    "                self.cost_list.append(cost)\n",
    "                self.backward(x_batch, y_batch)\n",
    "                batch_cnt += 1\n",
    "        \n",
    "                if self.verbose:\n",
    "                    if batch_cnt % 10 ==0:\n",
    "                        print(\"iter{}週目, batch {}/{}回目\".format(ite+1, i+1, X.shape[0]//self.batch_size))\n",
    "            \n",
    "            if X_val is not None:\n",
    "                self.forward(X_val)\n",
    "                cost_val = (1/y_val.shape[0])*self.cost(y_val)\n",
    "                self.cost_list_val.append(cost_val)\n",
    "    \n",
    "    \n",
    "\n",
    "    def forward(self, X):\n",
    "        self.a1 = np.dot(X, self.W1) + self.b1\n",
    "        self.z1 = self.tanh(self.a1)\n",
    "        self.a2 = np.dot(self.z1, self.W2) + self.b2\n",
    "        self.z2 = self.tanh(self.a2)\n",
    "        self.a3 = np.dot(self.z2, self.W3) + self.b3\n",
    "        self.output = self.softmax(self.a3)\n",
    "        \n",
    "        return self.output\n",
    "        \n",
    "    def backward(self, X, y):\n",
    "        #３層目\n",
    "        b_a3 = self.output - y\n",
    "        b_b3 = np.sum(b_a3, axis=0)\n",
    "        b_W3 = np.dot(self.z2.T, b_a3)\n",
    "        b_z2 = np.dot(b_a3, self.W3.T) \n",
    "        self.b3 -= self.lr*b_b3\n",
    "        self.W3 -= self.lr*b_W3\n",
    "        \n",
    "        #2層目\n",
    "        b_a2 = b_z2*(1-np.power(self.tanh(self.a2), 2))\n",
    "        b_b2 = np.sum(b_a2, axis=0)\n",
    "        b_W2 = np.dot(self.z1.T, b_a2)\n",
    "        b_z1 = np.dot(b_a2, self.W2.T) \n",
    "        self.b2 -= self.lr*b_b2\n",
    "        self.W2 -= self.lr*b_W2\n",
    "        \n",
    "        #1層目\n",
    "        b_a1 = b_z1*(1-np.power(self.tanh(self.a1),2))\n",
    "        b_b1 = np.sum(b_a1, axis=0)\n",
    "        b_W1 = np.dot(X.T, b_a1)\n",
    "        self.b1 -= self.lr*b_b1\n",
    "        self.W1 -= self.lr*b_W1\n",
    "    \n",
    "    \n",
    "    def cost(self, y):\n",
    "        return -np.sum(np.log(self.output)*y)\n",
    "        \n",
    "        \n",
    "    \n",
    "    def init_weight(self):\n",
    "        n_features = 784\n",
    "        n_nodes1 = 400\n",
    "        n_nodes2 = 200\n",
    "        n_output = 10\n",
    "        sigma = 0.01 # ガウス分布の標準偏差\n",
    "        self.W1 = sigma * np.random.randn(n_features, n_nodes1)\n",
    "        self.b1 = sigma * np.random.randn(n_nodes1, 1).T\n",
    "        self.W2 = sigma * np.random.randn(n_nodes1, n_nodes2)\n",
    "        self.b2 = sigma * np.random.randn(n_nodes2, 1).T\n",
    "        self.W3 = sigma * np.random.randn(n_nodes2, n_output)\n",
    "        self.b3 = sigma * np.random.randn(n_output, 1).T\n",
    "\n",
    "    def tanh(self, X):\n",
    "        return  (np.exp(X)-np.exp(-X)) / (np.exp(X)+np.exp(-X))\n",
    "    \n",
    "    def softmax(self, X):\n",
    "        return np.exp(X) / np.sum(np.exp(X), axis=1).reshape(-1, 1)\n",
    "       \n",
    "    \n",
    "\n",
    "    def predict(self, X):\n",
    "        \"\"\"\n",
    "        ニューラルネットワーク分類器を使い推定する。\n",
    "\n",
    "        Parameters\n",
    "        ----------\n",
    "        X : 次の形のndarray, shape (n_samples, n_features)\n",
    "            サンプル\n",
    "\n",
    "        Returns\n",
    "        -------\n",
    "            次の形のndarray, shape (n_samples, 1)\n",
    "            推定結果\n",
    "        \"\"\"\n",
    "        pred = self.forward(X)\n",
    "        pred_num = np.argmax(pred, axis=1)        \n",
    "        return pred_num"
   ]
  },
  {
   "cell_type": "markdown",
   "metadata": {},
   "source": [
    "# 【問題1】〜【問題５】"
   ]
  },
  {
   "cell_type": "markdown",
   "metadata": {},
   "source": [
    "# 【問題6】学習と推定\n",
    "MNISTのデータを学習・推定し、Accuracyを計算してください。"
   ]
  },
  {
   "cell_type": "code",
   "execution_count": 3,
   "metadata": {
    "ExecuteTime": {
     "end_time": "2020-02-27T14:24:02.447659Z",
     "start_time": "2020-02-27T14:23:54.178822Z"
    }
   },
   "outputs": [],
   "source": [
    "from tensorflow.keras.datasets import mnist\n",
    "(X_train, y_train), (X_test, y_test) = mnist.load_data()"
   ]
  },
  {
   "cell_type": "code",
   "execution_count": 4,
   "metadata": {
    "ExecuteTime": {
     "end_time": "2020-02-27T14:24:03.275970Z",
     "start_time": "2020-02-27T14:24:03.271310Z"
    }
   },
   "outputs": [],
   "source": [
    "X_train = X_train.reshape(-1, 784)\n",
    "X_test = X_test.reshape(-1, 784)"
   ]
  },
  {
   "cell_type": "code",
   "execution_count": 5,
   "metadata": {
    "ExecuteTime": {
     "end_time": "2020-02-27T14:24:04.385183Z",
     "start_time": "2020-02-27T14:24:04.029856Z"
    }
   },
   "outputs": [
    {
     "name": "stdout",
     "output_type": "stream",
     "text": [
      "1.0\n",
      "0.0\n"
     ]
    }
   ],
   "source": [
    "X_train = X_train.astype(np.float)\n",
    "X_test = X_test.astype(np.float)\n",
    "X_train /= 255\n",
    "X_test /= 255\n",
    "print(X_train.max()) # 1.0\n",
    "print(X_train.min()) "
   ]
  },
  {
   "cell_type": "code",
   "execution_count": 6,
   "metadata": {
    "ExecuteTime": {
     "end_time": "2020-02-27T14:24:04.613296Z",
     "start_time": "2020-02-27T14:24:04.591124Z"
    }
   },
   "outputs": [
    {
     "name": "stdout",
     "output_type": "stream",
     "text": [
      "(60000,)\n",
      "(60000, 10)\n",
      "float64\n"
     ]
    }
   ],
   "source": [
    "from sklearn.preprocessing import OneHotEncoder\n",
    "enc = OneHotEncoder(handle_unknown='ignore', sparse=False)\n",
    "y_train_one_hot = enc.fit_transform(y_train[:, np.newaxis])\n",
    "y_test_one_hot = enc.transform(y_test[:, np.newaxis])\n",
    "print(y_train.shape) # (60000,)\n",
    "print(y_train_one_hot.shape) # (60000, 10)\n",
    "print(y_train_one_hot.dtype) # float64"
   ]
  },
  {
   "cell_type": "code",
   "execution_count": 7,
   "metadata": {
    "ExecuteTime": {
     "end_time": "2020-02-27T14:24:05.510911Z",
     "start_time": "2020-02-27T14:24:05.195381Z"
    }
   },
   "outputs": [
    {
     "name": "stdout",
     "output_type": "stream",
     "text": [
      "(48000, 784)\n",
      "(12000, 784)\n"
     ]
    }
   ],
   "source": [
    "from sklearn.model_selection import train_test_split\n",
    "X_train, X_val, y_train, y_val = train_test_split(X_train, y_train_one_hot, test_size=0.2)\n",
    "print(X_train.shape) # (48000, 784)\n",
    "print(X_val.shape) # (12000, 784)"
   ]
  },
  {
   "cell_type": "code",
   "execution_count": 8,
   "metadata": {
    "ExecuteTime": {
     "end_time": "2020-02-27T14:24:05.796352Z",
     "start_time": "2020-02-27T14:24:05.790632Z"
    }
   },
   "outputs": [],
   "source": [
    "nnc = ScratchSimpleNeuralNetrowkClassifier()"
   ]
  },
  {
   "cell_type": "code",
   "execution_count": 9,
   "metadata": {
    "ExecuteTime": {
     "end_time": "2020-02-27T14:24:41.760967Z",
     "start_time": "2020-02-27T14:24:07.583987Z"
    },
    "scrolled": true
   },
   "outputs": [],
   "source": [
    "nnc.fit(X_train, y_train, X_val, y_val)"
   ]
  },
  {
   "cell_type": "code",
   "execution_count": 10,
   "metadata": {
    "ExecuteTime": {
     "end_time": "2020-02-27T14:24:42.039730Z",
     "start_time": "2020-02-27T14:24:41.773681Z"
    }
   },
   "outputs": [],
   "source": [
    "pred_test = nnc.predict(X_test)"
   ]
  },
  {
   "cell_type": "code",
   "execution_count": 11,
   "metadata": {
    "ExecuteTime": {
     "end_time": "2020-02-27T14:24:42.061410Z",
     "start_time": "2020-02-27T14:24:42.054061Z"
    }
   },
   "outputs": [
    {
     "name": "stdout",
     "output_type": "stream",
     "text": [
      "test_Accuracy:0.959\n"
     ]
    }
   ],
   "source": [
    "print(\"test_Accuracy:{:.3f}\".format(np.sum(pred_test==y_test) / len(pred_test)))"
   ]
  },
  {
   "cell_type": "markdown",
   "metadata": {},
   "source": [
    "# 【問題7】学習曲線のプロット\n",
    "学習曲線をプロットしてください。\n",
    "\n"
   ]
  },
  {
   "cell_type": "code",
   "execution_count": 13,
   "metadata": {
    "ExecuteTime": {
     "end_time": "2020-02-27T14:26:36.508611Z",
     "start_time": "2020-02-27T14:26:36.330622Z"
    }
   },
   "outputs": [
    {
     "data": {
      "image/png": "[encoded data removed]",
      "text/plain": [
       "<Figure size 432x288 with 1 Axes>"
      ]
     },
     "metadata": {
      "needs_background": "light"
     },
     "output_type": "display_data"
    }
   ],
   "source": [
    "import matplotlib.pyplot as plt\n",
    "cost_by_epoch = []\n",
    "for i in range(int(len(nnc.cost_list)/480)):\n",
    "    cost_by_epoch.append(np.average(nnc.cost_list[i*480:(i+1)*480]))\n",
    "\n",
    "plt.plot([i+1 for i in range(len(cost_by_epoch))], cost_by_epoch, label=\"train\")\n",
    "plt.plot([i+1 for i in range(len(nnc.cost_list_val))], nnc.cost_list_val, label=\"val\")\n",
    "plt.xlabel(\"epoch\")\n",
    "plt.ylabel(\"loss\")\n",
    "plt.legend()\n",
    "plt.show()"
   ]
  },
  {
   "cell_type": "code",
   "execution_count": null,
   "metadata": {},
   "outputs": [],
   "source": []
  }
 ],
 "metadata": {
  "kernelspec": {
   "display_name": "Python 3",
   "language": "python",
   "name": "python3"
  },
  "language_info": {
   "codemirror_mode": {
    "name": "ipython",
    "version": 3
   },
   "file_extension": ".py",
   "mimetype": "text/x-python",
   "name": "python",
   "nbconvert_exporter": "python",
   "pygments_lexer": "ipython3",
   "version": "3.7.4"
  },
  "nbTranslate": {
   "displayLangs": [
    "*"
   ],
   "hotkey": "alt-t",
   "langInMainMenu": true,
   "sourceLang": "en",
   "targetLang": "fr",
   "useGoogleTranslate": true
  },
  "toc": {
   "base_numbering": 1,
   "nav_menu": {},
   "number_sections": true,
   "sideBar": true,
   "skip_h1_title": false,
   "title_cell": "Table of Contents",
   "title_sidebar": "Contents",
   "toc_cell": false,
   "toc_position": {},
   "toc_section_display": true,
   "toc_window_display": false
  },
  "varInspector": {
   "cols": {
    "lenName": 16,
    "lenType": 16,
    "lenVar": 40
   },
   "kernels_config": {
    "python": {
     "delete_cmd_postfix": "",
     "delete_cmd_prefix": "del ",
     "library": "var_list.py",
     "varRefreshCmd": "print(var_dic_list())"
    },
    "r": {
     "delete_cmd_postfix": ") ",
     "delete_cmd_prefix": "rm(",
     "library": "var_list.r",
     "varRefreshCmd": "cat(var_dic_list()) "
    }
   },
   "types_to_exclude": [
    "module",
    "function",
    "builtin_function_or_method",
    "instance",
    "_Feature"
   ],
   "window_display": false
  }
 },
 "nbformat": 4,
 "nbformat_minor": 2
}
